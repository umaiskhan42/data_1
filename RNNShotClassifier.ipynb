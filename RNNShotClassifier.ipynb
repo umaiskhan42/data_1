{
 "cells": [
  {
   "cell_type": "code",
   "execution_count": 1,
   "id": "730ef543",
   "metadata": {},
   "outputs": [],
   "source": [
    "import tensorflow as tf\n",
    "\n",
    "from tensorflow import keras\n",
    "from tensorflow.keras import layers\n",
    "# physical_devices = tf.config.experimental.list_physical_devices('GPU')\n",
    "# print(tf.config.experimental.list_physical_devices('GPU'))\n",
    "# tf.config.experimental.set_memory_growth(physical_devices[0], True)\n",
    "# print(\"Num GPUs Available: \", len(tf.config.experimental.list_physical_devices('GPU')))\n",
    "\n",
    "from tensorflow import keras\n",
    "from tensorflow.keras import layers\n",
    "\n",
    "from keras.models import Sequential\n",
    "from keras.layers import Convolution2D, Dropout, Dense, GRU\n",
    "from keras.layers import BatchNormalization\n",
    "from keras.layers import MaxPooling2D\n",
    "from keras.layers import Flatten\n",
    "from keras.layers import LeakyReLU\n",
    "from keras.callbacks import ModelCheckpoint\n",
    "\n",
    "from tqdm import tqdm\n"
   ]
  },
  {
   "cell_type": "markdown",
   "id": "0ccdef4b",
   "metadata": {},
   "source": [
    "# Load dataset"
   ]
  },
  {
   "cell_type": "code",
   "execution_count": 9,
   "id": "0f0f27aa",
   "metadata": {},
   "outputs": [
    {
     "name": "stdout",
     "output_type": "stream",
     "text": [
      "Loading shots from dataset/sample296\n"
     ]
    },
    {
     "name": "stderr",
     "output_type": "stream",
     "text": [
      "100%|██████████| 207/207 [00:01<00:00, 193.29it/s]\n"
     ]
    },
    {
     "name": "stdout",
     "output_type": "stream",
     "text": [
      "Loading shots from dataset/video1\n"
     ]
    },
    {
     "name": "stderr",
     "output_type": "stream",
     "text": [
      "100%|██████████| 99/99 [00:00<00:00, 244.67it/s]\n"
     ]
    },
    {
     "name": "stdout",
     "output_type": "stream",
     "text": [
      "Loading shots from dataset/video2\n"
     ]
    },
    {
     "name": "stderr",
     "output_type": "stream",
     "text": [
      "100%|██████████| 143/143 [00:00<00:00, 257.16it/s]\n"
     ]
    },
    {
     "name": "stdout",
     "output_type": "stream",
     "text": [
      "Loading shots from dataset/sample\n"
     ]
    },
    {
     "name": "stderr",
     "output_type": "stream",
     "text": [
      "100%|██████████| 13/13 [00:00<00:00, 97.52it/s]\n"
     ]
    },
    {
     "name": "stdout",
     "output_type": "stream",
     "text": [
      "Loaded 462 shots for training\n",
      "Loaded 207 shots for test\n"
     ]
    }
   ],
   "source": [
    "import os\n",
    "import cv2\n",
    "import matplotlib.pyplot as plt\n",
    "import pandas as pd\n",
    "import numpy as np\n",
    "\n",
    "X=[]\n",
    "y=[]\n",
    "\n",
    "folders = [\"sample296\",\"video1\",\"video2\",\"sample\"]\n",
    "\n",
    "for folder in folders:\n",
    "    if not os.path.exists(f\"dataset/{folder}\"):\n",
    "        print(f\"dataset/{folder} doesnt exist\")\n",
    "        continue\n",
    "        \n",
    "    print(f\"Loading shots from dataset/{folder}\")\n",
    "        \n",
    "    for shot_csv in tqdm(sorted(os.listdir(f'dataset/{folder}'))):\n",
    "        data = pd.read_csv(os.path.join(f'dataset/{folder}', shot_csv))\n",
    "        \n",
    "        if folder == \"train\":\n",
    "            revert_data= data.copy()\n",
    "            for feature in data.columns:\n",
    "                if feature[-2:]==\"_x\":\n",
    "                    revert_data[feature] = 1 - data[feature]\n",
    "            data = revert_data\n",
    "\n",
    "        features = data.loc[:, data.columns != 'shot']\n",
    "\n",
    "        X.append(features.to_numpy())\n",
    "        y.append(data[\"shot\"].iloc[0])\n",
    "    \n",
    "X = np.stack(X, axis=0)\n",
    "\n",
    "y = np.array(y)\n",
    "X = np.array(X)\n",
    "\n",
    "print(f\"Loaded {len(y)} shots for training\")\n",
    "\n",
    "X_test=[]\n",
    "y_test=[]\n",
    "\n",
    "folders = [\"sample296\"]\n",
    "for folder in folders:\n",
    "    for shot_csv in sorted(os.listdir(f'dataset/{folder}')):\n",
    "    \n",
    "        data = pd.read_csv(os.path.join(f'dataset/{folder}',shot_csv ))\n",
    "\n",
    "        if folder == \"test\":\n",
    "                revert_data= data.copy()\n",
    "                for feature in data.columns:\n",
    "                    if feature[-2:]==\"_x\":\n",
    "                        revert_data[feature] = 1 - data[feature]\n",
    "                data = revert_data\n",
    "\n",
    "\n",
    "        features = data.loc[:, data.columns != 'shot']\n",
    "\n",
    "        X_test.append(features.to_numpy())\n",
    "        y_test.append(data[\"shot\"].iloc[0])\n",
    "    \n",
    "X_test = np.stack(X_test, axis=0)\n",
    "\n",
    "y_test = np.array(y_test)\n",
    "X_test = np.array(X_test)\n",
    "\n",
    "print(f\"Loaded {len(y_test)} shots for test\")\n",
    "    "
   ]
  },
  {
   "cell_type": "markdown",
   "id": "3829dcf8",
   "metadata": {},
   "source": [
    "# Display shot repartition"
   ]
  },
  {
   "cell_type": "code",
   "execution_count": 10,
   "id": "7bb5ae8d",
   "metadata": {
    "scrolled": true
   },
   "outputs": [
    {
     "name": "stdout",
     "output_type": "stream",
     "text": [
      "['no_shot', 'boast', 'rail', 'cross_court', 'serve'] [183, 62, 63, 67, 87]\n"
     ]
    },
    {
     "data": {
      "image/png": "[encoded data removed]",
      "text/plain": [
       "<Figure size 640x480 with 1 Axes>"
      ]
     },
     "metadata": {},
     "output_type": "display_data"
    }
   ],
   "source": [
    "import numpy as np\n",
    "# if using a Jupyter notebook, include:\n",
    "%matplotlib inline\n",
    "\n",
    "shots = list(set(y))\n",
    "occurences = [np.count_nonzero(y == shot) for shot in shots]\n",
    "print(shots, occurences)\n",
    "\n",
    "fig, ax = plt.subplots()\n",
    "ax.pie(occurences, labels=shots, autopct='%1.1f%%')\n",
    "ax.axis('equal')  # Equal aspect ratio ensures the pie chart is circular.\n",
    "ax.set_title('Shots dataset')\n",
    "\n",
    "plt.show()"
   ]
  },
  {
   "cell_type": "code",
   "execution_count": 11,
   "id": "e0fbab3c",
   "metadata": {
    "scrolled": true
   },
   "outputs": [
    {
     "name": "stdout",
     "output_type": "stream",
     "text": [
      "Shape of train features : (30, 26)\n",
      "Shape of val features : (30, 26)\n",
      "Total categories:  5\n",
      "Total categories:  5\n",
      "5\n"
     ]
    }
   ],
   "source": [
    "from sklearn.model_selection import train_test_split\n",
    "\n",
    "# Split the data\n",
    "X_train, X_val, y_train, y_val = train_test_split(X, y, test_size=0.33, shuffle= True)\n",
    "\n",
    "print(f\"Shape of train features : {X_train[0].shape}\")\n",
    "print(f\"Shape of val features : {X_val[0].shape}\")\n",
    "\n",
    "print(\"Total categories: \", len(np.unique(y_train)))\n",
    "print(\"Total categories: \", len(np.unique(y_val)))\n",
    "\n",
    "nb_cat = len(np.unique(y_train))\n",
    "print(nb_cat)"
   ]
  },
  {
   "cell_type": "code",
   "execution_count": 12,
   "id": "162b9078",
   "metadata": {},
   "outputs": [],
   "source": [
    "from sklearn import preprocessing\n",
    "le = preprocessing.LabelEncoder()\n",
    "\n",
    "y_train = le.fit_transform(y_train)\n",
    "y_val = le.fit_transform(y_val)\n",
    "y_test = le.fit_transform(y_test)\n",
    "\n",
    "y_train = tf.keras.utils.to_categorical(y_train, num_classes=nb_cat)\n",
    "y_val = tf.keras.utils.to_categorical(y_val, num_classes=nb_cat)\n",
    "y_test = tf.keras.utils.to_categorical(y_test, num_classes=nb_cat)\n",
    "\n",
    "y_train = np.array(y_train)\n",
    "X_train = np.array(X_train)\n",
    "#X_train = np.expand_dims(X_train, axis=-1)\n",
    "\n",
    "y_val = np.array(y_val)\n",
    "X_val = np.array(X_val)\n",
    "#X_val = np.expand_dims(X_val, axis=-1)\n",
    "\n",
    "y_test = np.array(y_test)\n",
    "X_test = np.array(X_test)"
   ]
  },
  {
   "cell_type": "code",
   "execution_count": 13,
   "id": "5cd48d3a",
   "metadata": {},
   "outputs": [],
   "source": [
    "assert len(le.classes_) == nb_cat"
   ]
  },
  {
   "cell_type": "code",
   "execution_count": 14,
   "id": "1e46a22f",
   "metadata": {},
   "outputs": [
    {
     "name": "stdout",
     "output_type": "stream",
     "text": [
      "X_train Shape:  (309, 30, 26)\n",
      "X_val Shape:  (153, 30, 26)\n",
      "X_test Shape:  (207, 30, 26)\n",
      "y_train Shape:  (309, 5)\n",
      "y_val Shape:  (153, 5)\n",
      "y_test Shape:  (207, 5)\n"
     ]
    }
   ],
   "source": [
    "print(\"X_train Shape: \", X_train.shape)\n",
    "print(\"X_val Shape: \", X_val.shape)\n",
    "print(\"X_test Shape: \", X_test.shape)\n",
    "print(\"y_train Shape: \", y_train.shape)\n",
    "print(\"y_val Shape: \", y_val.shape)\n",
    "print(\"y_test Shape: \", y_test.shape)"
   ]
  },
  {
   "cell_type": "code",
   "execution_count": 14,
   "id": "eabb6eb7",
   "metadata": {},
   "outputs": [
    {
     "name": "stderr",
     "output_type": "stream",
     "text": [
      "c:\\Users\\Umais\\anaconda3\\envs\\myenv\\Lib\\site-packages\\keras\\src\\layers\\rnn\\rnn.py:204: UserWarning: Do not pass an `input_shape`/`input_dim` argument to a layer. When using Sequential models, prefer using an `Input(shape)` object as the first layer in the model instead.\n",
      "  super().__init__(**kwargs)\n"
     ]
    }
   ],
   "source": [
    "m1=Sequential()\n",
    "m1.add(GRU(units=24, dropout=0.1, input_shape=( 30, 26)))\n",
    "m1.add(Dropout(0.2))\n",
    "m1.add(Dense(units = 8, activation = 'relu'))\n",
    "m1.add(Dense(units = nb_cat, activation = 'softmax'))"
   ]
  },
  {
   "cell_type": "code",
   "execution_count": 15,
   "id": "7a84c4b0",
   "metadata": {},
   "outputs": [
    {
     "data": {
      "text/html": [
       "<pre style=\"white-space:pre;overflow-x:auto;line-height:normal;font-family:Menlo,'DejaVu Sans Mono',consolas,'Courier New',monospace\"><span style=\"font-weight: bold\">Model: \"sequential\"</span>\n",
       "</pre>\n"
      ],
      "text/plain": [
       "\u001b[1mModel: \"sequential\"\u001b[0m\n"
      ]
     },
     "metadata": {},
     "output_type": "display_data"
    },
    {
     "data": {
      "text/html": [
       "<pre style=\"white-space:pre;overflow-x:auto;line-height:normal;font-family:Menlo,'DejaVu Sans Mono',consolas,'Courier New',monospace\">┏━━━━━━━━━━━━━━━━━━━━━━━━━━━━━━━━━┳━━━━━━━━━━━━━━━━━━━━━━━━┳━━━━━━━━━━━━━━━┓\n",
       "┃<span style=\"font-weight: bold\"> Layer (type)                    </span>┃<span style=\"font-weight: bold\"> Output Shape           </span>┃<span style=\"font-weight: bold\">       Param # </span>┃\n",
       "┡━━━━━━━━━━━━━━━━━━━━━━━━━━━━━━━━━╇━━━━━━━━━━━━━━━━━━━━━━━━╇━━━━━━━━━━━━━━━┩\n",
       "│ gru (<span style=\"color: #0087ff; text-decoration-color: #0087ff\">GRU</span>)                       │ (<span style=\"color: #00d7ff; text-decoration-color: #00d7ff\">None</span>, <span style=\"color: #00af00; text-decoration-color: #00af00\">24</span>)             │         <span style=\"color: #00af00; text-decoration-color: #00af00\">3,744</span> │\n",
       "├─────────────────────────────────┼────────────────────────┼───────────────┤\n",
       "│ dropout (<span style=\"color: #0087ff; text-decoration-color: #0087ff\">Dropout</span>)               │ (<span style=\"color: #00d7ff; text-decoration-color: #00d7ff\">None</span>, <span style=\"color: #00af00; text-decoration-color: #00af00\">24</span>)             │             <span style=\"color: #00af00; text-decoration-color: #00af00\">0</span> │\n",
       "├─────────────────────────────────┼────────────────────────┼───────────────┤\n",
       "│ dense (<span style=\"color: #0087ff; text-decoration-color: #0087ff\">Dense</span>)                   │ (<span style=\"color: #00d7ff; text-decoration-color: #00d7ff\">None</span>, <span style=\"color: #00af00; text-decoration-color: #00af00\">8</span>)              │           <span style=\"color: #00af00; text-decoration-color: #00af00\">200</span> │\n",
       "├─────────────────────────────────┼────────────────────────┼───────────────┤\n",
       "│ dense_1 (<span style=\"color: #0087ff; text-decoration-color: #0087ff\">Dense</span>)                 │ (<span style=\"color: #00d7ff; text-decoration-color: #00d7ff\">None</span>, <span style=\"color: #00af00; text-decoration-color: #00af00\">5</span>)              │            <span style=\"color: #00af00; text-decoration-color: #00af00\">45</span> │\n",
       "└─────────────────────────────────┴────────────────────────┴───────────────┘\n",
       "</pre>\n"
      ],
      "text/plain": [
       "┏━━━━━━━━━━━━━━━━━━━━━━━━━━━━━━━━━┳━━━━━━━━━━━━━━━━━━━━━━━━┳━━━━━━━━━━━━━━━┓\n",
       "┃\u001b[1m \u001b[0m\u001b[1mLayer (type)                   \u001b[0m\u001b[1m \u001b[0m┃\u001b[1m \u001b[0m\u001b[1mOutput Shape          \u001b[0m\u001b[1m \u001b[0m┃\u001b[1m \u001b[0m\u001b[1m      Param #\u001b[0m\u001b[1m \u001b[0m┃\n",
       "┡━━━━━━━━━━━━━━━━━━━━━━━━━━━━━━━━━╇━━━━━━━━━━━━━━━━━━━━━━━━╇━━━━━━━━━━━━━━━┩\n",
       "│ gru (\u001b[38;5;33mGRU\u001b[0m)                       │ (\u001b[38;5;45mNone\u001b[0m, \u001b[38;5;34m24\u001b[0m)             │         \u001b[38;5;34m3,744\u001b[0m │\n",
       "├─────────────────────────────────┼────────────────────────┼───────────────┤\n",
       "│ dropout (\u001b[38;5;33mDropout\u001b[0m)               │ (\u001b[38;5;45mNone\u001b[0m, \u001b[38;5;34m24\u001b[0m)             │             \u001b[38;5;34m0\u001b[0m │\n",
       "├─────────────────────────────────┼────────────────────────┼───────────────┤\n",
       "│ dense (\u001b[38;5;33mDense\u001b[0m)                   │ (\u001b[38;5;45mNone\u001b[0m, \u001b[38;5;34m8\u001b[0m)              │           \u001b[38;5;34m200\u001b[0m │\n",
       "├─────────────────────────────────┼────────────────────────┼───────────────┤\n",
       "│ dense_1 (\u001b[38;5;33mDense\u001b[0m)                 │ (\u001b[38;5;45mNone\u001b[0m, \u001b[38;5;34m5\u001b[0m)              │            \u001b[38;5;34m45\u001b[0m │\n",
       "└─────────────────────────────────┴────────────────────────┴───────────────┘\n"
      ]
     },
     "metadata": {},
     "output_type": "display_data"
    },
    {
     "data": {
      "text/html": [
       "<pre style=\"white-space:pre;overflow-x:auto;line-height:normal;font-family:Menlo,'DejaVu Sans Mono',consolas,'Courier New',monospace\"><span style=\"font-weight: bold\"> Total params: </span><span style=\"color: #00af00; text-decoration-color: #00af00\">3,989</span> (15.58 KB)\n",
       "</pre>\n"
      ],
      "text/plain": [
       "\u001b[1m Total params: \u001b[0m\u001b[38;5;34m3,989\u001b[0m (15.58 KB)\n"
      ]
     },
     "metadata": {},
     "output_type": "display_data"
    },
    {
     "data": {
      "text/html": [
       "<pre style=\"white-space:pre;overflow-x:auto;line-height:normal;font-family:Menlo,'DejaVu Sans Mono',consolas,'Courier New',monospace\"><span style=\"font-weight: bold\"> Trainable params: </span><span style=\"color: #00af00; text-decoration-color: #00af00\">3,989</span> (15.58 KB)\n",
       "</pre>\n"
      ],
      "text/plain": [
       "\u001b[1m Trainable params: \u001b[0m\u001b[38;5;34m3,989\u001b[0m (15.58 KB)\n"
      ]
     },
     "metadata": {},
     "output_type": "display_data"
    },
    {
     "data": {
      "text/html": [
       "<pre style=\"white-space:pre;overflow-x:auto;line-height:normal;font-family:Menlo,'DejaVu Sans Mono',consolas,'Courier New',monospace\"><span style=\"font-weight: bold\"> Non-trainable params: </span><span style=\"color: #00af00; text-decoration-color: #00af00\">0</span> (0.00 B)\n",
       "</pre>\n"
      ],
      "text/plain": [
       "\u001b[1m Non-trainable params: \u001b[0m\u001b[38;5;34m0\u001b[0m (0.00 B)\n"
      ]
     },
     "metadata": {},
     "output_type": "display_data"
    }
   ],
   "source": [
    "m1.compile(optimizer='adam', loss = 'categorical_crossentropy',metrics = ['accuracy'])\n",
    "m1.summary()"
   ]
  },
  {
   "cell_type": "code",
   "execution_count": 22,
   "id": "2e93c0c0",
   "metadata": {},
   "outputs": [
    {
     "name": "stderr",
     "output_type": "stream",
     "text": [
      "c:\\Users\\Umais\\anaconda3\\envs\\myenv\\Lib\\site-packages\\keras\\src\\layers\\rnn\\rnn.py:204: UserWarning: Do not pass an `input_shape`/`input_dim` argument to a layer. When using Sequential models, prefer using an `Input(shape)` object as the first layer in the model instead.\n",
      "  super().__init__(**kwargs)\n"
     ]
    },
    {
     "data": {
      "text/html": [
       "<pre style=\"white-space:pre;overflow-x:auto;line-height:normal;font-family:Menlo,'DejaVu Sans Mono',consolas,'Courier New',monospace\"><span style=\"font-weight: bold\">Model: \"sequential_5\"</span>\n",
       "</pre>\n"
      ],
      "text/plain": [
       "\u001b[1mModel: \"sequential_5\"\u001b[0m\n"
      ]
     },
     "metadata": {},
     "output_type": "display_data"
    },
    {
     "data": {
      "text/html": [
       "<pre style=\"white-space:pre;overflow-x:auto;line-height:normal;font-family:Menlo,'DejaVu Sans Mono',consolas,'Courier New',monospace\">┏━━━━━━━━━━━━━━━━━━━━━━━━━━━━━━━━━┳━━━━━━━━━━━━━━━━━━━━━━━━┳━━━━━━━━━━━━━━━┓\n",
       "┃<span style=\"font-weight: bold\"> Layer (type)                    </span>┃<span style=\"font-weight: bold\"> Output Shape           </span>┃<span style=\"font-weight: bold\">       Param # </span>┃\n",
       "┡━━━━━━━━━━━━━━━━━━━━━━━━━━━━━━━━━╇━━━━━━━━━━━━━━━━━━━━━━━━╇━━━━━━━━━━━━━━━┩\n",
       "│ lstm_8 (<span style=\"color: #0087ff; text-decoration-color: #0087ff\">LSTM</span>)                   │ (<span style=\"color: #00d7ff; text-decoration-color: #00d7ff\">None</span>, <span style=\"color: #00af00; text-decoration-color: #00af00\">30</span>, <span style=\"color: #00af00; text-decoration-color: #00af00\">64</span>)         │        <span style=\"color: #00af00; text-decoration-color: #00af00\">23,296</span> │\n",
       "├─────────────────────────────────┼────────────────────────┼───────────────┤\n",
       "│ lstm_9 (<span style=\"color: #0087ff; text-decoration-color: #0087ff\">LSTM</span>)                   │ (<span style=\"color: #00d7ff; text-decoration-color: #00d7ff\">None</span>, <span style=\"color: #00af00; text-decoration-color: #00af00\">32</span>)             │        <span style=\"color: #00af00; text-decoration-color: #00af00\">12,416</span> │\n",
       "├─────────────────────────────────┼────────────────────────┼───────────────┤\n",
       "│ batch_normalization_4           │ (<span style=\"color: #00d7ff; text-decoration-color: #00d7ff\">None</span>, <span style=\"color: #00af00; text-decoration-color: #00af00\">32</span>)             │           <span style=\"color: #00af00; text-decoration-color: #00af00\">128</span> │\n",
       "│ (<span style=\"color: #0087ff; text-decoration-color: #0087ff\">BatchNormalization</span>)            │                        │               │\n",
       "├─────────────────────────────────┼────────────────────────┼───────────────┤\n",
       "│ dense_11 (<span style=\"color: #0087ff; text-decoration-color: #0087ff\">Dense</span>)                │ (<span style=\"color: #00d7ff; text-decoration-color: #00d7ff\">None</span>, <span style=\"color: #00af00; text-decoration-color: #00af00\">64</span>)             │         <span style=\"color: #00af00; text-decoration-color: #00af00\">2,112</span> │\n",
       "├─────────────────────────────────┼────────────────────────┼───────────────┤\n",
       "│ dropout_5 (<span style=\"color: #0087ff; text-decoration-color: #0087ff\">Dropout</span>)             │ (<span style=\"color: #00d7ff; text-decoration-color: #00d7ff\">None</span>, <span style=\"color: #00af00; text-decoration-color: #00af00\">64</span>)             │             <span style=\"color: #00af00; text-decoration-color: #00af00\">0</span> │\n",
       "├─────────────────────────────────┼────────────────────────┼───────────────┤\n",
       "│ dense_12 (<span style=\"color: #0087ff; text-decoration-color: #0087ff\">Dense</span>)                │ (<span style=\"color: #00d7ff; text-decoration-color: #00d7ff\">None</span>, <span style=\"color: #00af00; text-decoration-color: #00af00\">5</span>)              │           <span style=\"color: #00af00; text-decoration-color: #00af00\">325</span> │\n",
       "└─────────────────────────────────┴────────────────────────┴───────────────┘\n",
       "</pre>\n"
      ],
      "text/plain": [
       "┏━━━━━━━━━━━━━━━━━━━━━━━━━━━━━━━━━┳━━━━━━━━━━━━━━━━━━━━━━━━┳━━━━━━━━━━━━━━━┓\n",
       "┃\u001b[1m \u001b[0m\u001b[1mLayer (type)                   \u001b[0m\u001b[1m \u001b[0m┃\u001b[1m \u001b[0m\u001b[1mOutput Shape          \u001b[0m\u001b[1m \u001b[0m┃\u001b[1m \u001b[0m\u001b[1m      Param #\u001b[0m\u001b[1m \u001b[0m┃\n",
       "┡━━━━━━━━━━━━━━━━━━━━━━━━━━━━━━━━━╇━━━━━━━━━━━━━━━━━━━━━━━━╇━━━━━━━━━━━━━━━┩\n",
       "│ lstm_8 (\u001b[38;5;33mLSTM\u001b[0m)                   │ (\u001b[38;5;45mNone\u001b[0m, \u001b[38;5;34m30\u001b[0m, \u001b[38;5;34m64\u001b[0m)         │        \u001b[38;5;34m23,296\u001b[0m │\n",
       "├─────────────────────────────────┼────────────────────────┼───────────────┤\n",
       "│ lstm_9 (\u001b[38;5;33mLSTM\u001b[0m)                   │ (\u001b[38;5;45mNone\u001b[0m, \u001b[38;5;34m32\u001b[0m)             │        \u001b[38;5;34m12,416\u001b[0m │\n",
       "├─────────────────────────────────┼────────────────────────┼───────────────┤\n",
       "│ batch_normalization_4           │ (\u001b[38;5;45mNone\u001b[0m, \u001b[38;5;34m32\u001b[0m)             │           \u001b[38;5;34m128\u001b[0m │\n",
       "│ (\u001b[38;5;33mBatchNormalization\u001b[0m)            │                        │               │\n",
       "├─────────────────────────────────┼────────────────────────┼───────────────┤\n",
       "│ dense_11 (\u001b[38;5;33mDense\u001b[0m)                │ (\u001b[38;5;45mNone\u001b[0m, \u001b[38;5;34m64\u001b[0m)             │         \u001b[38;5;34m2,112\u001b[0m │\n",
       "├─────────────────────────────────┼────────────────────────┼───────────────┤\n",
       "│ dropout_5 (\u001b[38;5;33mDropout\u001b[0m)             │ (\u001b[38;5;45mNone\u001b[0m, \u001b[38;5;34m64\u001b[0m)             │             \u001b[38;5;34m0\u001b[0m │\n",
       "├─────────────────────────────────┼────────────────────────┼───────────────┤\n",
       "│ dense_12 (\u001b[38;5;33mDense\u001b[0m)                │ (\u001b[38;5;45mNone\u001b[0m, \u001b[38;5;34m5\u001b[0m)              │           \u001b[38;5;34m325\u001b[0m │\n",
       "└─────────────────────────────────┴────────────────────────┴───────────────┘\n"
      ]
     },
     "metadata": {},
     "output_type": "display_data"
    },
    {
     "data": {
      "text/html": [
       "<pre style=\"white-space:pre;overflow-x:auto;line-height:normal;font-family:Menlo,'DejaVu Sans Mono',consolas,'Courier New',monospace\"><span style=\"font-weight: bold\"> Total params: </span><span style=\"color: #00af00; text-decoration-color: #00af00\">38,277</span> (149.52 KB)\n",
       "</pre>\n"
      ],
      "text/plain": [
       "\u001b[1m Total params: \u001b[0m\u001b[38;5;34m38,277\u001b[0m (149.52 KB)\n"
      ]
     },
     "metadata": {},
     "output_type": "display_data"
    },
    {
     "data": {
      "text/html": [
       "<pre style=\"white-space:pre;overflow-x:auto;line-height:normal;font-family:Menlo,'DejaVu Sans Mono',consolas,'Courier New',monospace\"><span style=\"font-weight: bold\"> Trainable params: </span><span style=\"color: #00af00; text-decoration-color: #00af00\">38,213</span> (149.27 KB)\n",
       "</pre>\n"
      ],
      "text/plain": [
       "\u001b[1m Trainable params: \u001b[0m\u001b[38;5;34m38,213\u001b[0m (149.27 KB)\n"
      ]
     },
     "metadata": {},
     "output_type": "display_data"
    },
    {
     "data": {
      "text/html": [
       "<pre style=\"white-space:pre;overflow-x:auto;line-height:normal;font-family:Menlo,'DejaVu Sans Mono',consolas,'Courier New',monospace\"><span style=\"font-weight: bold\"> Non-trainable params: </span><span style=\"color: #00af00; text-decoration-color: #00af00\">64</span> (256.00 B)\n",
       "</pre>\n"
      ],
      "text/plain": [
       "\u001b[1m Non-trainable params: \u001b[0m\u001b[38;5;34m64\u001b[0m (256.00 B)\n"
      ]
     },
     "metadata": {},
     "output_type": "display_data"
    }
   ],
   "source": [
    "from tensorflow.keras.models import Sequential\n",
    "from tensorflow.keras.layers import LSTM, Dense, Dropout, BatchNormalization\n",
    "from tensorflow.keras.optimizers import Adam\n",
    "\n",
    "# Define the model\n",
    "m1 = Sequential()\n",
    "m1.add(LSTM(units=64, return_sequences=True, input_shape=(30, 26), dropout=0.2))\n",
    "m1.add(LSTM(units=32, dropout=0.2))\n",
    "m1.add(BatchNormalization())\n",
    "m1.add(Dense(units=64, activation='relu'))\n",
    "m1.add(Dropout(0.3))\n",
    "m1.add(Dense(units=nb_cat, activation='softmax'))\n",
    "\n",
    "# Compile the model\n",
    "optimizer = Adam(learning_rate=0.001)\n",
    "m1.compile(optimizer=optimizer, loss='categorical_crossentropy', metrics=['accuracy'])\n",
    "m1.summary()"
   ]
  },
  {
   "cell_type": "code",
   "execution_count": 24,
   "id": "1a17a750",
   "metadata": {},
   "outputs": [
    {
     "name": "stdout",
     "output_type": "stream",
     "text": [
      "Epoch 1/100\n",
      "\u001b[1m10/10\u001b[0m \u001b[32m━━━━━━━━━━━━━━━━━━━━\u001b[0m\u001b[37m\u001b[0m \u001b[1m1s\u001b[0m 68ms/step - accuracy: 0.3526 - loss: 1.5222 - val_accuracy: 0.4248 - val_loss: 1.4690\n",
      "Epoch 2/100\n",
      "\u001b[1m10/10\u001b[0m \u001b[32m━━━━━━━━━━━━━━━━━━━━\u001b[0m\u001b[37m\u001b[0m \u001b[1m1s\u001b[0m 59ms/step - accuracy: 0.3725 - loss: 1.5007 - val_accuracy: 0.4248 - val_loss: 1.4691\n",
      "Epoch 3/100\n",
      "\u001b[1m10/10\u001b[0m \u001b[32m━━━━━━━━━━━━━━━━━━━━\u001b[0m\u001b[37m\u001b[0m \u001b[1m1s\u001b[0m 55ms/step - accuracy: 0.3883 - loss: 1.4957 - val_accuracy: 0.4248 - val_loss: 1.4691\n",
      "Epoch 4/100\n",
      "\u001b[1m10/10\u001b[0m \u001b[32m━━━━━━━━━━━━━━━━━━━━\u001b[0m\u001b[37m\u001b[0m \u001b[1m0s\u001b[0m 45ms/step - accuracy: 0.3659 - loss: 1.5218 - val_accuracy: 0.4248 - val_loss: 1.4690\n",
      "Epoch 5/100\n",
      "\u001b[1m10/10\u001b[0m \u001b[32m━━━━━━━━━━━━━━━━━━━━\u001b[0m\u001b[37m\u001b[0m \u001b[1m0s\u001b[0m 43ms/step - accuracy: 0.4165 - loss: 1.4505 - val_accuracy: 0.4248 - val_loss: 1.4699\n",
      "Epoch 6/100\n",
      "\u001b[1m10/10\u001b[0m \u001b[32m━━━━━━━━━━━━━━━━━━━━\u001b[0m\u001b[37m\u001b[0m \u001b[1m1s\u001b[0m 46ms/step - accuracy: 0.3962 - loss: 1.4904 - val_accuracy: 0.4248 - val_loss: 1.4709\n",
      "Epoch 7/100\n",
      "\u001b[1m10/10\u001b[0m \u001b[32m━━━━━━━━━━━━━━━━━━━━\u001b[0m\u001b[37m\u001b[0m \u001b[1m1s\u001b[0m 49ms/step - accuracy: 0.3950 - loss: 1.4816 - val_accuracy: 0.4248 - val_loss: 1.4716\n",
      "Epoch 8/100\n",
      "\u001b[1m10/10\u001b[0m \u001b[32m━━━━━━━━━━━━━━━━━━━━\u001b[0m\u001b[37m\u001b[0m \u001b[1m1s\u001b[0m 46ms/step - accuracy: 0.4315 - loss: 1.4445 - val_accuracy: 0.4248 - val_loss: 1.4724\n",
      "Epoch 9/100\n",
      "\u001b[1m10/10\u001b[0m \u001b[32m━━━━━━━━━━━━━━━━━━━━\u001b[0m\u001b[37m\u001b[0m \u001b[1m1s\u001b[0m 46ms/step - accuracy: 0.3643 - loss: 1.5235 - val_accuracy: 0.4248 - val_loss: 1.4747\n",
      "Epoch 10/100\n",
      "\u001b[1m10/10\u001b[0m \u001b[32m━━━━━━━━━━━━━━━━━━━━\u001b[0m\u001b[37m\u001b[0m \u001b[1m1s\u001b[0m 47ms/step - accuracy: 0.4002 - loss: 1.4591 - val_accuracy: 0.4248 - val_loss: 1.4745\n",
      "Epoch 11/100\n",
      "\u001b[1m10/10\u001b[0m \u001b[32m━━━━━━━━━━━━━━━━━━━━\u001b[0m\u001b[37m\u001b[0m \u001b[1m1s\u001b[0m 51ms/step - accuracy: 0.3944 - loss: 1.5080 - val_accuracy: 0.4248 - val_loss: 1.4748\n",
      "Epoch 12/100\n",
      "\u001b[1m10/10\u001b[0m \u001b[32m━━━━━━━━━━━━━━━━━━━━\u001b[0m\u001b[37m\u001b[0m \u001b[1m1s\u001b[0m 52ms/step - accuracy: 0.3760 - loss: 1.4770 - val_accuracy: 0.4248 - val_loss: 1.4749\n",
      "Epoch 13/100\n",
      "\u001b[1m10/10\u001b[0m \u001b[32m━━━━━━━━━━━━━━━━━━━━\u001b[0m\u001b[37m\u001b[0m \u001b[1m1s\u001b[0m 46ms/step - accuracy: 0.3697 - loss: 1.5188 - val_accuracy: 0.4248 - val_loss: 1.4774\n",
      "Epoch 14/100\n",
      "\u001b[1m10/10\u001b[0m \u001b[32m━━━━━━━━━━━━━━━━━━━━\u001b[0m\u001b[37m\u001b[0m \u001b[1m0s\u001b[0m 44ms/step - accuracy: 0.3613 - loss: 1.5052 - val_accuracy: 0.4248 - val_loss: 1.4796\n",
      "Epoch 15/100\n",
      "\u001b[1m10/10\u001b[0m \u001b[32m━━━━━━━━━━━━━━━━━━━━\u001b[0m\u001b[37m\u001b[0m \u001b[1m0s\u001b[0m 46ms/step - accuracy: 0.4009 - loss: 1.4923 - val_accuracy: 0.4248 - val_loss: 1.4832\n",
      "Epoch 16/100\n",
      "\u001b[1m10/10\u001b[0m \u001b[32m━━━━━━━━━━━━━━━━━━━━\u001b[0m\u001b[37m\u001b[0m \u001b[1m1s\u001b[0m 49ms/step - accuracy: 0.3896 - loss: 1.4725 - val_accuracy: 0.4248 - val_loss: 1.4796\n",
      "Epoch 17/100\n",
      "\u001b[1m10/10\u001b[0m \u001b[32m━━━━━━━━━━━━━━━━━━━━\u001b[0m\u001b[37m\u001b[0m \u001b[1m1s\u001b[0m 51ms/step - accuracy: 0.3765 - loss: 1.5119 - val_accuracy: 0.4248 - val_loss: 1.4810\n",
      "Epoch 18/100\n",
      "\u001b[1m10/10\u001b[0m \u001b[32m━━━━━━━━━━━━━━━━━━━━\u001b[0m\u001b[37m\u001b[0m \u001b[1m1s\u001b[0m 54ms/step - accuracy: 0.3785 - loss: 1.5210 - val_accuracy: 0.4248 - val_loss: 1.4797\n",
      "Epoch 19/100\n",
      "\u001b[1m10/10\u001b[0m \u001b[32m━━━━━━━━━━━━━━━━━━━━\u001b[0m\u001b[37m\u001b[0m \u001b[1m1s\u001b[0m 58ms/step - accuracy: 0.3873 - loss: 1.5196 - val_accuracy: 0.4248 - val_loss: 1.4777\n",
      "Epoch 20/100\n",
      "\u001b[1m10/10\u001b[0m \u001b[32m━━━━━━━━━━━━━━━━━━━━\u001b[0m\u001b[37m\u001b[0m \u001b[1m1s\u001b[0m 49ms/step - accuracy: 0.3913 - loss: 1.4802 - val_accuracy: 0.4248 - val_loss: 1.4759\n",
      "Epoch 21/100\n",
      "\u001b[1m10/10\u001b[0m \u001b[32m━━━━━━━━━━━━━━━━━━━━\u001b[0m\u001b[37m\u001b[0m \u001b[1m1s\u001b[0m 47ms/step - accuracy: 0.3631 - loss: 1.5023 - val_accuracy: 0.4248 - val_loss: 1.4765\n",
      "Epoch 22/100\n",
      "\u001b[1m10/10\u001b[0m \u001b[32m━━━━━━━━━━━━━━━━━━━━\u001b[0m\u001b[37m\u001b[0m \u001b[1m1s\u001b[0m 46ms/step - accuracy: 0.3909 - loss: 1.4796 - val_accuracy: 0.4248 - val_loss: 1.4767\n",
      "Epoch 23/100\n",
      "\u001b[1m10/10\u001b[0m \u001b[32m━━━━━━━━━━━━━━━━━━━━\u001b[0m\u001b[37m\u001b[0m \u001b[1m1s\u001b[0m 52ms/step - accuracy: 0.3607 - loss: 1.5071 - val_accuracy: 0.4248 - val_loss: 1.4780\n",
      "Epoch 24/100\n",
      "\u001b[1m10/10\u001b[0m \u001b[32m━━━━━━━━━━━━━━━━━━━━\u001b[0m\u001b[37m\u001b[0m \u001b[1m0s\u001b[0m 45ms/step - accuracy: 0.4098 - loss: 1.4570 - val_accuracy: 0.4248 - val_loss: 1.4820\n",
      "Epoch 25/100\n",
      "\u001b[1m10/10\u001b[0m \u001b[32m━━━━━━━━━━━━━━━━━━━━\u001b[0m\u001b[37m\u001b[0m \u001b[1m0s\u001b[0m 45ms/step - accuracy: 0.3681 - loss: 1.5037 - val_accuracy: 0.4248 - val_loss: 1.4843\n",
      "Epoch 26/100\n",
      "\u001b[1m10/10\u001b[0m \u001b[32m━━━━━━━━━━━━━━━━━━━━\u001b[0m\u001b[37m\u001b[0m \u001b[1m1s\u001b[0m 71ms/step - accuracy: 0.3855 - loss: 1.4922 - val_accuracy: 0.4248 - val_loss: 1.4812\n",
      "Epoch 27/100\n",
      "\u001b[1m10/10\u001b[0m \u001b[32m━━━━━━━━━━━━━━━━━━━━\u001b[0m\u001b[37m\u001b[0m \u001b[1m1s\u001b[0m 45ms/step - accuracy: 0.4078 - loss: 1.4520 - val_accuracy: 0.4248 - val_loss: 1.4809\n",
      "Epoch 28/100\n",
      "\u001b[1m10/10\u001b[0m \u001b[32m━━━━━━━━━━━━━━━━━━━━\u001b[0m\u001b[37m\u001b[0m \u001b[1m1s\u001b[0m 50ms/step - accuracy: 0.4373 - loss: 1.4062 - val_accuracy: 0.4248 - val_loss: 1.4806\n",
      "Epoch 29/100\n",
      "\u001b[1m10/10\u001b[0m \u001b[32m━━━━━━━━━━━━━━━━━━━━\u001b[0m\u001b[37m\u001b[0m \u001b[1m1s\u001b[0m 59ms/step - accuracy: 0.3739 - loss: 1.4932 - val_accuracy: 0.4248 - val_loss: 1.4858\n",
      "Epoch 30/100\n",
      "\u001b[1m10/10\u001b[0m \u001b[32m━━━━━━━━━━━━━━━━━━━━\u001b[0m\u001b[37m\u001b[0m \u001b[1m1s\u001b[0m 60ms/step - accuracy: 0.3641 - loss: 1.4791 - val_accuracy: 0.4314 - val_loss: 1.5047\n",
      "Epoch 31/100\n",
      "\u001b[1m10/10\u001b[0m \u001b[32m━━━━━━━━━━━━━━━━━━━━\u001b[0m\u001b[37m\u001b[0m \u001b[1m1s\u001b[0m 65ms/step - accuracy: 0.3955 - loss: 1.4675 - val_accuracy: 0.4183 - val_loss: 1.4941\n",
      "Epoch 32/100\n",
      "\u001b[1m10/10\u001b[0m \u001b[32m━━━━━━━━━━━━━━━━━━━━\u001b[0m\u001b[37m\u001b[0m \u001b[1m1s\u001b[0m 55ms/step - accuracy: 0.3697 - loss: 1.5027 - val_accuracy: 0.4248 - val_loss: 1.4929\n",
      "Epoch 33/100\n",
      "\u001b[1m10/10\u001b[0m \u001b[32m━━━━━━━━━━━━━━━━━━━━\u001b[0m\u001b[37m\u001b[0m \u001b[1m1s\u001b[0m 49ms/step - accuracy: 0.3914 - loss: 1.4718 - val_accuracy: 0.4183 - val_loss: 1.5006\n",
      "Epoch 34/100\n",
      "\u001b[1m10/10\u001b[0m \u001b[32m━━━━━━━━━━━━━━━━━━━━\u001b[0m\u001b[37m\u001b[0m \u001b[1m1s\u001b[0m 58ms/step - accuracy: 0.3521 - loss: 1.5009 - val_accuracy: 0.4248 - val_loss: 1.5090\n",
      "Epoch 35/100\n",
      "\u001b[1m10/10\u001b[0m \u001b[32m━━━━━━━━━━━━━━━━━━━━\u001b[0m\u001b[37m\u001b[0m \u001b[1m1s\u001b[0m 47ms/step - accuracy: 0.3709 - loss: 1.4841 - val_accuracy: 0.4248 - val_loss: 1.4943\n",
      "Epoch 36/100\n",
      "\u001b[1m10/10\u001b[0m \u001b[32m━━━━━━━━━━━━━━━━━━━━\u001b[0m\u001b[37m\u001b[0m \u001b[1m0s\u001b[0m 46ms/step - accuracy: 0.4210 - loss: 1.4461 - val_accuracy: 0.4183 - val_loss: 1.4795\n",
      "Epoch 37/100\n",
      "\u001b[1m10/10\u001b[0m \u001b[32m━━━━━━━━━━━━━━━━━━━━\u001b[0m\u001b[37m\u001b[0m \u001b[1m1s\u001b[0m 46ms/step - accuracy: 0.3215 - loss: 1.5054 - val_accuracy: 0.4183 - val_loss: 1.4824\n",
      "Epoch 38/100\n",
      "\u001b[1m10/10\u001b[0m \u001b[32m━━━━━━━━━━━━━━━━━━━━\u001b[0m\u001b[37m\u001b[0m \u001b[1m0s\u001b[0m 42ms/step - accuracy: 0.3783 - loss: 1.4643 - val_accuracy: 0.4248 - val_loss: 1.4863\n",
      "Epoch 39/100\n",
      "\u001b[1m10/10\u001b[0m \u001b[32m━━━━━━━━━━━━━━━━━━━━\u001b[0m\u001b[37m\u001b[0m \u001b[1m0s\u001b[0m 42ms/step - accuracy: 0.3891 - loss: 1.4496 - val_accuracy: 0.4183 - val_loss: 1.4836\n",
      "Epoch 40/100\n",
      "\u001b[1m10/10\u001b[0m \u001b[32m━━━━━━━━━━━━━━━━━━━━\u001b[0m\u001b[37m\u001b[0m \u001b[1m1s\u001b[0m 42ms/step - accuracy: 0.3898 - loss: 1.4675 - val_accuracy: 0.4183 - val_loss: 1.4846\n",
      "Epoch 41/100\n",
      "\u001b[1m10/10\u001b[0m \u001b[32m━━━━━━━━━━━━━━━━━━━━\u001b[0m\u001b[37m\u001b[0m \u001b[1m0s\u001b[0m 41ms/step - accuracy: 0.3325 - loss: 1.5011 - val_accuracy: 0.3987 - val_loss: 1.4856\n",
      "Epoch 42/100\n",
      "\u001b[1m10/10\u001b[0m \u001b[32m━━━━━━━━━━━━━━━━━━━━\u001b[0m\u001b[37m\u001b[0m \u001b[1m1s\u001b[0m 41ms/step - accuracy: 0.3896 - loss: 1.4821 - val_accuracy: 0.4118 - val_loss: 1.4906\n",
      "Epoch 43/100\n",
      "\u001b[1m10/10\u001b[0m \u001b[32m━━━━━━━━━━━━━━━━━━━━\u001b[0m\u001b[37m\u001b[0m \u001b[1m1s\u001b[0m 41ms/step - accuracy: 0.3740 - loss: 1.4658 - val_accuracy: 0.4183 - val_loss: 1.4943\n",
      "Epoch 44/100\n",
      "\u001b[1m10/10\u001b[0m \u001b[32m━━━━━━━━━━━━━━━━━━━━\u001b[0m\u001b[37m\u001b[0m \u001b[1m0s\u001b[0m 43ms/step - accuracy: 0.4049 - loss: 1.4344 - val_accuracy: 0.4118 - val_loss: 1.4912\n",
      "Epoch 45/100\n",
      "\u001b[1m10/10\u001b[0m \u001b[32m━━━━━━━━━━━━━━━━━━━━\u001b[0m\u001b[37m\u001b[0m \u001b[1m1s\u001b[0m 42ms/step - accuracy: 0.3822 - loss: 1.4926 - val_accuracy: 0.4118 - val_loss: 1.4865\n",
      "Epoch 46/100\n",
      "\u001b[1m10/10\u001b[0m \u001b[32m━━━━━━━━━━━━━━━━━━━━\u001b[0m\u001b[37m\u001b[0m \u001b[1m0s\u001b[0m 41ms/step - accuracy: 0.3794 - loss: 1.4994 - val_accuracy: 0.4183 - val_loss: 1.4833\n",
      "Epoch 47/100\n",
      "\u001b[1m10/10\u001b[0m \u001b[32m━━━━━━━━━━━━━━━━━━━━\u001b[0m\u001b[37m\u001b[0m \u001b[1m0s\u001b[0m 42ms/step - accuracy: 0.3941 - loss: 1.4818 - val_accuracy: 0.4183 - val_loss: 1.4923\n",
      "Epoch 48/100\n",
      "\u001b[1m10/10\u001b[0m \u001b[32m━━━━━━━━━━━━━━━━━━━━\u001b[0m\u001b[37m\u001b[0m \u001b[1m0s\u001b[0m 41ms/step - accuracy: 0.3555 - loss: 1.4828 - val_accuracy: 0.4183 - val_loss: 1.5233\n",
      "Epoch 49/100\n",
      "\u001b[1m10/10\u001b[0m \u001b[32m━━━━━━━━━━━━━━━━━━━━\u001b[0m\u001b[37m\u001b[0m \u001b[1m1s\u001b[0m 58ms/step - accuracy: 0.3766 - loss: 1.4737 - val_accuracy: 0.4118 - val_loss: 1.5049\n",
      "Epoch 50/100\n",
      "\u001b[1m10/10\u001b[0m \u001b[32m━━━━━━━━━━━━━━━━━━━━\u001b[0m\u001b[37m\u001b[0m \u001b[1m1s\u001b[0m 53ms/step - accuracy: 0.3956 - loss: 1.4718 - val_accuracy: 0.4118 - val_loss: 1.4918\n",
      "Epoch 51/100\n",
      "\u001b[1m10/10\u001b[0m \u001b[32m━━━━━━━━━━━━━━━━━━━━\u001b[0m\u001b[37m\u001b[0m \u001b[1m1s\u001b[0m 59ms/step - accuracy: 0.3709 - loss: 1.4742 - val_accuracy: 0.4052 - val_loss: 1.4987\n",
      "Epoch 52/100\n",
      "\u001b[1m10/10\u001b[0m \u001b[32m━━━━━━━━━━━━━━━━━━━━\u001b[0m\u001b[37m\u001b[0m \u001b[1m1s\u001b[0m 63ms/step - accuracy: 0.4094 - loss: 1.4462 - val_accuracy: 0.4052 - val_loss: 1.4954\n",
      "Epoch 53/100\n",
      "\u001b[1m10/10\u001b[0m \u001b[32m━━━━━━━━━━━━━━━━━━━━\u001b[0m\u001b[37m\u001b[0m \u001b[1m1s\u001b[0m 66ms/step - accuracy: 0.3941 - loss: 1.4614 - val_accuracy: 0.4118 - val_loss: 1.4985\n",
      "Epoch 54/100\n",
      "\u001b[1m10/10\u001b[0m \u001b[32m━━━━━━━━━━━━━━━━━━━━\u001b[0m\u001b[37m\u001b[0m \u001b[1m1s\u001b[0m 62ms/step - accuracy: 0.3592 - loss: 1.4903 - val_accuracy: 0.4118 - val_loss: 1.5127\n",
      "Epoch 55/100\n",
      "\u001b[1m10/10\u001b[0m \u001b[32m━━━━━━━━━━━━━━━━━━━━\u001b[0m\u001b[37m\u001b[0m \u001b[1m1s\u001b[0m 46ms/step - accuracy: 0.3676 - loss: 1.5062 - val_accuracy: 0.4183 - val_loss: 1.4997\n",
      "Epoch 56/100\n",
      "\u001b[1m10/10\u001b[0m \u001b[32m━━━━━━━━━━━━━━━━━━━━\u001b[0m\u001b[37m\u001b[0m \u001b[1m1s\u001b[0m 50ms/step - accuracy: 0.4187 - loss: 1.4458 - val_accuracy: 0.4183 - val_loss: 1.4870\n",
      "Epoch 57/100\n",
      "\u001b[1m10/10\u001b[0m \u001b[32m━━━━━━━━━━━━━━━━━━━━\u001b[0m\u001b[37m\u001b[0m \u001b[1m0s\u001b[0m 44ms/step - accuracy: 0.4316 - loss: 1.4414 - val_accuracy: 0.4183 - val_loss: 1.4824\n",
      "Epoch 58/100\n",
      "\u001b[1m10/10\u001b[0m \u001b[32m━━━━━━━━━━━━━━━━━━━━\u001b[0m\u001b[37m\u001b[0m \u001b[1m1s\u001b[0m 45ms/step - accuracy: 0.3714 - loss: 1.4999 - val_accuracy: 0.4118 - val_loss: 1.4790\n",
      "Epoch 59/100\n",
      "\u001b[1m10/10\u001b[0m \u001b[32m━━━━━━━━━━━━━━━━━━━━\u001b[0m\u001b[37m\u001b[0m \u001b[1m0s\u001b[0m 45ms/step - accuracy: 0.3978 - loss: 1.4444 - val_accuracy: 0.4118 - val_loss: 1.4833\n",
      "Epoch 60/100\n",
      "\u001b[1m10/10\u001b[0m \u001b[32m━━━━━━━━━━━━━━━━━━━━\u001b[0m\u001b[37m\u001b[0m \u001b[1m1s\u001b[0m 47ms/step - accuracy: 0.3750 - loss: 1.4938 - val_accuracy: 0.4052 - val_loss: 1.4938\n",
      "Epoch 61/100\n",
      "\u001b[1m10/10\u001b[0m \u001b[32m━━━━━━━━━━━━━━━━━━━━\u001b[0m\u001b[37m\u001b[0m \u001b[1m1s\u001b[0m 48ms/step - accuracy: 0.3714 - loss: 1.4885 - val_accuracy: 0.3922 - val_loss: 1.5023\n",
      "Epoch 62/100\n",
      "\u001b[1m10/10\u001b[0m \u001b[32m━━━━━━━━━━━━━━━━━━━━\u001b[0m\u001b[37m\u001b[0m \u001b[1m1s\u001b[0m 46ms/step - accuracy: 0.3773 - loss: 1.5138 - val_accuracy: 0.3791 - val_loss: 1.5076\n",
      "Epoch 63/100\n",
      "\u001b[1m10/10\u001b[0m \u001b[32m━━━━━━━━━━━━━━━━━━━━\u001b[0m\u001b[37m\u001b[0m \u001b[1m1s\u001b[0m 47ms/step - accuracy: 0.3909 - loss: 1.4533 - val_accuracy: 0.3922 - val_loss: 1.5179\n",
      "Epoch 64/100\n",
      "\u001b[1m10/10\u001b[0m \u001b[32m━━━━━━━━━━━━━━━━━━━━\u001b[0m\u001b[37m\u001b[0m \u001b[1m1s\u001b[0m 47ms/step - accuracy: 0.4390 - loss: 1.4274 - val_accuracy: 0.3856 - val_loss: 1.5334\n",
      "Epoch 65/100\n",
      "\u001b[1m10/10\u001b[0m \u001b[32m━━━━━━━━━━━━━━━━━━━━\u001b[0m\u001b[37m\u001b[0m \u001b[1m1s\u001b[0m 46ms/step - accuracy: 0.3600 - loss: 1.5271 - val_accuracy: 0.3922 - val_loss: 1.5163\n",
      "Epoch 66/100\n",
      "\u001b[1m10/10\u001b[0m \u001b[32m━━━━━━━━━━━━━━━━━━━━\u001b[0m\u001b[37m\u001b[0m \u001b[1m1s\u001b[0m 47ms/step - accuracy: 0.3929 - loss: 1.4518 - val_accuracy: 0.3922 - val_loss: 1.4904\n",
      "Epoch 67/100\n",
      "\u001b[1m10/10\u001b[0m \u001b[32m━━━━━━━━━━━━━━━━━━━━\u001b[0m\u001b[37m\u001b[0m \u001b[1m1s\u001b[0m 72ms/step - accuracy: 0.3943 - loss: 1.4649 - val_accuracy: 0.3922 - val_loss: 1.4858\n",
      "Epoch 68/100\n",
      "\u001b[1m10/10\u001b[0m \u001b[32m━━━━━━━━━━━━━━━━━━━━\u001b[0m\u001b[37m\u001b[0m \u001b[1m1s\u001b[0m 54ms/step - accuracy: 0.3872 - loss: 1.4783 - val_accuracy: 0.3922 - val_loss: 1.4902\n",
      "Epoch 69/100\n",
      "\u001b[1m10/10\u001b[0m \u001b[32m━━━━━━━━━━━━━━━━━━━━\u001b[0m\u001b[37m\u001b[0m \u001b[1m1s\u001b[0m 49ms/step - accuracy: 0.4019 - loss: 1.4607 - val_accuracy: 0.3922 - val_loss: 1.4932\n",
      "Epoch 70/100\n",
      "\u001b[1m10/10\u001b[0m \u001b[32m━━━━━━━━━━━━━━━━━━━━\u001b[0m\u001b[37m\u001b[0m \u001b[1m1s\u001b[0m 52ms/step - accuracy: 0.3883 - loss: 1.4257 - val_accuracy: 0.4052 - val_loss: 1.5018\n",
      "Epoch 71/100\n",
      "\u001b[1m10/10\u001b[0m \u001b[32m━━━━━━━━━━━━━━━━━━━━\u001b[0m\u001b[37m\u001b[0m \u001b[1m1s\u001b[0m 47ms/step - accuracy: 0.3757 - loss: 1.4882 - val_accuracy: 0.4052 - val_loss: 1.5075\n",
      "Epoch 72/100\n",
      "\u001b[1m10/10\u001b[0m \u001b[32m━━━━━━━━━━━━━━━━━━━━\u001b[0m\u001b[37m\u001b[0m \u001b[1m1s\u001b[0m 47ms/step - accuracy: 0.3674 - loss: 1.4648 - val_accuracy: 0.3987 - val_loss: 1.4934\n",
      "Epoch 73/100\n",
      "\u001b[1m10/10\u001b[0m \u001b[32m━━━━━━━━━━━━━━━━━━━━\u001b[0m\u001b[37m\u001b[0m \u001b[1m1s\u001b[0m 46ms/step - accuracy: 0.3998 - loss: 1.4570 - val_accuracy: 0.3922 - val_loss: 1.5971\n",
      "Epoch 74/100\n",
      "\u001b[1m10/10\u001b[0m \u001b[32m━━━━━━━━━━━━━━━━━━━━\u001b[0m\u001b[37m\u001b[0m \u001b[1m0s\u001b[0m 44ms/step - accuracy: 0.3704 - loss: 1.4905 - val_accuracy: 0.3660 - val_loss: 1.5192\n",
      "Epoch 75/100\n",
      "\u001b[1m10/10\u001b[0m \u001b[32m━━━━━━━━━━━━━━━━━━━━\u001b[0m\u001b[37m\u001b[0m \u001b[1m1s\u001b[0m 49ms/step - accuracy: 0.4206 - loss: 1.4179 - val_accuracy: 0.3725 - val_loss: 1.5053\n",
      "Epoch 76/100\n",
      "\u001b[1m10/10\u001b[0m \u001b[32m━━━━━━━━━━━━━━━━━━━━\u001b[0m\u001b[37m\u001b[0m \u001b[1m1s\u001b[0m 48ms/step - accuracy: 0.3974 - loss: 1.4574 - val_accuracy: 0.3856 - val_loss: 1.4848\n",
      "Epoch 77/100\n",
      "\u001b[1m10/10\u001b[0m \u001b[32m━━━━━━━━━━━━━━━━━━━━\u001b[0m\u001b[37m\u001b[0m \u001b[1m1s\u001b[0m 46ms/step - accuracy: 0.4034 - loss: 1.4769 - val_accuracy: 0.3922 - val_loss: 1.5007\n",
      "Epoch 78/100\n",
      "\u001b[1m10/10\u001b[0m \u001b[32m━━━━━━━━━━━━━━━━━━━━\u001b[0m\u001b[37m\u001b[0m \u001b[1m0s\u001b[0m 44ms/step - accuracy: 0.3980 - loss: 1.4520 - val_accuracy: 0.3987 - val_loss: 1.4939\n",
      "Epoch 79/100\n",
      "\u001b[1m10/10\u001b[0m \u001b[32m━━━━━━━━━━━━━━━━━━━━\u001b[0m\u001b[37m\u001b[0m \u001b[1m1s\u001b[0m 49ms/step - accuracy: 0.4079 - loss: 1.4669 - val_accuracy: 0.3987 - val_loss: 1.4851\n",
      "Epoch 80/100\n",
      "\u001b[1m10/10\u001b[0m \u001b[32m━━━━━━━━━━━━━━━━━━━━\u001b[0m\u001b[37m\u001b[0m \u001b[1m1s\u001b[0m 47ms/step - accuracy: 0.4086 - loss: 1.4229 - val_accuracy: 0.3922 - val_loss: 1.5035\n",
      "Epoch 81/100\n",
      "\u001b[1m10/10\u001b[0m \u001b[32m━━━━━━━━━━━━━━━━━━━━\u001b[0m\u001b[37m\u001b[0m \u001b[1m1s\u001b[0m 72ms/step - accuracy: 0.3866 - loss: 1.4673 - val_accuracy: 0.3922 - val_loss: 1.5530\n",
      "Epoch 82/100\n",
      "\u001b[1m10/10\u001b[0m \u001b[32m━━━━━━━━━━━━━━━━━━━━\u001b[0m\u001b[37m\u001b[0m \u001b[1m1s\u001b[0m 55ms/step - accuracy: 0.3552 - loss: 1.4787 - val_accuracy: 0.4118 - val_loss: 1.5068\n",
      "Epoch 83/100\n",
      "\u001b[1m10/10\u001b[0m \u001b[32m━━━━━━━━━━━━━━━━━━━━\u001b[0m\u001b[37m\u001b[0m \u001b[1m1s\u001b[0m 53ms/step - accuracy: 0.3760 - loss: 1.4575 - val_accuracy: 0.4118 - val_loss: 1.5095\n",
      "Epoch 84/100\n",
      "\u001b[1m10/10\u001b[0m \u001b[32m━━━━━━━━━━━━━━━━━━━━\u001b[0m\u001b[37m\u001b[0m \u001b[1m1s\u001b[0m 51ms/step - accuracy: 0.3989 - loss: 1.4700 - val_accuracy: 0.3922 - val_loss: 1.4823\n",
      "Epoch 85/100\n",
      "\u001b[1m10/10\u001b[0m \u001b[32m━━━━━━━━━━━━━━━━━━━━\u001b[0m\u001b[37m\u001b[0m \u001b[1m1s\u001b[0m 47ms/step - accuracy: 0.4005 - loss: 1.4338 - val_accuracy: 0.3987 - val_loss: 1.4845\n",
      "Epoch 86/100\n",
      "\u001b[1m10/10\u001b[0m \u001b[32m━━━━━━━━━━━━━━━━━━━━\u001b[0m\u001b[37m\u001b[0m \u001b[1m1s\u001b[0m 53ms/step - accuracy: 0.3957 - loss: 1.4473 - val_accuracy: 0.3791 - val_loss: 1.4964\n",
      "Epoch 87/100\n",
      "\u001b[1m10/10\u001b[0m \u001b[32m━━━━━━━━━━━━━━━━━━━━\u001b[0m\u001b[37m\u001b[0m \u001b[1m1s\u001b[0m 47ms/step - accuracy: 0.4002 - loss: 1.4598 - val_accuracy: 0.4118 - val_loss: 1.4951\n",
      "Epoch 88/100\n",
      "\u001b[1m10/10\u001b[0m \u001b[32m━━━━━━━━━━━━━━━━━━━━\u001b[0m\u001b[37m\u001b[0m \u001b[1m1s\u001b[0m 51ms/step - accuracy: 0.3565 - loss: 1.5197 - val_accuracy: 0.4052 - val_loss: 1.5081\n",
      "Epoch 89/100\n",
      "\u001b[1m10/10\u001b[0m \u001b[32m━━━━━━━━━━━━━━━━━━━━\u001b[0m\u001b[37m\u001b[0m \u001b[1m1s\u001b[0m 57ms/step - accuracy: 0.4123 - loss: 1.4625 - val_accuracy: 0.4118 - val_loss: 1.4958\n",
      "Epoch 90/100\n",
      "\u001b[1m10/10\u001b[0m \u001b[32m━━━━━━━━━━━━━━━━━━━━\u001b[0m\u001b[37m\u001b[0m \u001b[1m1s\u001b[0m 51ms/step - accuracy: 0.3877 - loss: 1.4687 - val_accuracy: 0.4118 - val_loss: 1.5119\n",
      "Epoch 91/100\n",
      "\u001b[1m10/10\u001b[0m \u001b[32m━━━━━━━━━━━━━━━━━━━━\u001b[0m\u001b[37m\u001b[0m \u001b[1m1s\u001b[0m 49ms/step - accuracy: 0.3943 - loss: 1.4528 - val_accuracy: 0.4118 - val_loss: 1.5058\n",
      "Epoch 92/100\n",
      "\u001b[1m10/10\u001b[0m \u001b[32m━━━━━━━━━━━━━━━━━━━━\u001b[0m\u001b[37m\u001b[0m \u001b[1m1s\u001b[0m 47ms/step - accuracy: 0.3685 - loss: 1.4903 - val_accuracy: 0.3856 - val_loss: 1.5187\n",
      "Epoch 93/100\n",
      "\u001b[1m10/10\u001b[0m \u001b[32m━━━━━━━━━━━━━━━━━━━━\u001b[0m\u001b[37m\u001b[0m \u001b[1m1s\u001b[0m 48ms/step - accuracy: 0.4059 - loss: 1.4555 - val_accuracy: 0.4052 - val_loss: 1.4942\n",
      "Epoch 94/100\n",
      "\u001b[1m10/10\u001b[0m \u001b[32m━━━━━━━━━━━━━━━━━━━━\u001b[0m\u001b[37m\u001b[0m \u001b[1m1s\u001b[0m 49ms/step - accuracy: 0.3984 - loss: 1.4353 - val_accuracy: 0.4118 - val_loss: 1.4979\n",
      "Epoch 95/100\n",
      "\u001b[1m10/10\u001b[0m \u001b[32m━━━━━━━━━━━━━━━━━━━━\u001b[0m\u001b[37m\u001b[0m \u001b[1m1s\u001b[0m 52ms/step - accuracy: 0.3643 - loss: 1.4747 - val_accuracy: 0.4118 - val_loss: 1.5042\n",
      "Epoch 96/100\n",
      "\u001b[1m10/10\u001b[0m \u001b[32m━━━━━━━━━━━━━━━━━━━━\u001b[0m\u001b[37m\u001b[0m \u001b[1m1s\u001b[0m 51ms/step - accuracy: 0.3910 - loss: 1.4595 - val_accuracy: 0.4118 - val_loss: 1.4932\n",
      "Epoch 97/100\n",
      "\u001b[1m10/10\u001b[0m \u001b[32m━━━━━━━━━━━━━━━━━━━━\u001b[0m\u001b[37m\u001b[0m \u001b[1m1s\u001b[0m 49ms/step - accuracy: 0.3539 - loss: 1.4857 - val_accuracy: 0.3922 - val_loss: 1.4907\n",
      "Epoch 98/100\n",
      "\u001b[1m10/10\u001b[0m \u001b[32m━━━━━━━━━━━━━━━━━━━━\u001b[0m\u001b[37m\u001b[0m \u001b[1m1s\u001b[0m 44ms/step - accuracy: 0.3694 - loss: 1.4639 - val_accuracy: 0.4118 - val_loss: 1.4918\n",
      "Epoch 99/100\n",
      "\u001b[1m10/10\u001b[0m \u001b[32m━━━━━━━━━━━━━━━━━━━━\u001b[0m\u001b[37m\u001b[0m \u001b[1m1s\u001b[0m 52ms/step - accuracy: 0.4125 - loss: 1.4149 - val_accuracy: 0.3987 - val_loss: 1.4981\n",
      "Epoch 100/100\n",
      "\u001b[1m10/10\u001b[0m \u001b[32m━━━━━━━━━━━━━━━━━━━━\u001b[0m\u001b[37m\u001b[0m \u001b[1m1s\u001b[0m 48ms/step - accuracy: 0.4026 - loss: 1.4297 - val_accuracy: 0.3856 - val_loss: 1.5068\n",
      "\u001b[1m5/5\u001b[0m \u001b[32m━━━━━━━━━━━━━━━━━━━━\u001b[0m\u001b[37m\u001b[0m \u001b[1m0s\u001b[0m 16ms/step - accuracy: 0.3607 - loss: 1.5556\n",
      "Accuracy on validation dataset = 0.38562092185020447\n",
      "\u001b[1m5/5\u001b[0m \u001b[32m━━━━━━━━━━━━━━━━━━━━\u001b[0m\u001b[37m\u001b[0m \u001b[1m0s\u001b[0m 34ms/step - accuracy: 0.3925 - loss: 1.5083\n",
      "Accuracy on validation dataset = 0.4248366057872772\n"
     ]
    }
   ],
   "source": [
    "filepath = \"2rnn_weights.keras\" #.hdf5\n",
    "checkpointer = ModelCheckpoint(filepath=filepath, verbose=False, save_best_only=True)\n",
    "hist = m1.fit(X_train, y_train,\n",
    "               validation_data=(X_val, y_val),\n",
    "               batch_size = 32,\n",
    "                epochs=100, \n",
    "                verbose = 1, \n",
    "                callbacks=[checkpointer]\n",
    "             )\n",
    "\n",
    "loss, accuracy = m1.evaluate(X_val, y_val)\n",
    "print(f\"Accuracy on validation dataset = {accuracy}\")\n",
    "\n",
    "m1.load_weights(filepath)\n",
    "\n",
    "loss, accuracy = m1.evaluate(X_val, y_val)\n",
    "print(f\"Accuracy on validation dataset = {accuracy}\")"
   ]
  },
  {
   "cell_type": "code",
   "execution_count": 25,
   "id": "3247cd0b",
   "metadata": {},
   "outputs": [
    {
     "name": "stderr",
     "output_type": "stream",
     "text": [
      "WARNING:absl:You are saving your model as an HDF5 file via `model.save()` or `keras.saving.save_model(model)`. This file format is considered legacy. We recommend using instead the native Keras format, e.g. `model.save('my_model.keras')` or `keras.saving.save_model(model, 'my_model.keras')`. \n"
     ]
    }
   ],
   "source": [
    "m1.save(\"rnn_weights_saved_5dec.h5\")"
   ]
  },
  {
   "cell_type": "code",
   "execution_count": 18,
   "id": "b6c74b9b",
   "metadata": {},
   "outputs": [],
   "source": [
    "m1.save(\"rnn_my_model.keras\")"
   ]
  },
  {
   "cell_type": "markdown",
   "id": "e649a85a",
   "metadata": {},
   "source": [
    "# Confusion matrix"
   ]
  },
  {
   "cell_type": "code",
   "execution_count": 19,
   "id": "3656a720",
   "metadata": {},
   "outputs": [
    {
     "name": "stdout",
     "output_type": "stream",
     "text": [
      "\u001b[1m1/1\u001b[0m \u001b[32m━━━━━━━━━━━━━━━━━━━━\u001b[0m\u001b[37m\u001b[0m \u001b[1m0s\u001b[0m 73ms/step - accuracy: 0.3846 - loss: 2.0103\n",
      "Accuracy on test dataset = 0.385\n"
     ]
    }
   ],
   "source": [
    "loss, accuracy = m1.evaluate(X_test, y_test)\n",
    "print(f\"Accuracy on test dataset = {accuracy:.3f}\")"
   ]
  },
  {
   "cell_type": "code",
   "execution_count": 20,
   "id": "f15efdb4",
   "metadata": {},
   "outputs": [
    {
     "name": "stdout",
     "output_type": "stream",
     "text": [
      "\u001b[1m1/1\u001b[0m \u001b[32m━━━━━━━━━━━━━━━━━━━━\u001b[0m\u001b[37m\u001b[0m \u001b[1m1s\u001b[0m 580ms/step\n"
     ]
    }
   ],
   "source": [
    "from sklearn.metrics import confusion_matrix\n",
    "import pandas as pd\n",
    "import seaborn as sn\n",
    "\n",
    "\n",
    "preds = m1.predict(X_test)\n",
    "test_predictions = np.argmax(preds, axis=1)\n"
   ]
  },
  {
   "cell_type": "code",
   "execution_count": 21,
   "id": "57fae9bd",
   "metadata": {},
   "outputs": [
    {
     "data": {
      "image/png": "[encoded data removed]",
      "text/plain": [
       "<Figure size 2000x2000 with 2 Axes>"
      ]
     },
     "metadata": {},
     "output_type": "display_data"
    }
   ],
   "source": [
    "# Plot the confusion matrix\n",
    "%matplotlib inline\n",
    "\n",
    "\n",
    "cm = confusion_matrix(y_true=np.argmax(y_test, axis=1), y_pred=test_predictions)\n",
    "\n",
    "\n",
    "df_cm = pd.DataFrame(\n",
    "    cm, index=le.classes_, columns=le.classes_\n",
    ")\n",
    "plt.figure(figsize=(20, 20))\n",
    "sn.heatmap(df_cm, annot=True, cmap='Blues', fmt='.4g')\n",
    "plt.xlabel('Predicted Label', fontsize=20)\n",
    "plt.ylabel('True Label', fontsize=20)\n",
    "plt.show()"
   ]
  },
  {
   "cell_type": "markdown",
   "id": "7b35a05b",
   "metadata": {},
   "source": [
    "# Display a few examples"
   ]
  },
  {
   "cell_type": "code",
   "execution_count": 22,
   "id": "3c6a9519",
   "metadata": {},
   "outputs": [
    {
     "ename": "ModuleNotFoundError",
     "evalue": "No module named 'tensorflow_docs'",
     "output_type": "error",
     "traceback": [
      "\u001b[1;31m---------------------------------------------------------------------------\u001b[0m",
      "\u001b[1;31mModuleNotFoundError\u001b[0m                       Traceback (most recent call last)",
      "Cell \u001b[1;32mIn[22], line 2\u001b[0m\n\u001b[0;32m      1\u001b[0m \u001b[38;5;28;01mimport\u001b[39;00m \u001b[38;5;21;01mimageio\u001b[39;00m\n\u001b[1;32m----> 2\u001b[0m \u001b[38;5;28;01mfrom\u001b[39;00m \u001b[38;5;21;01mtensorflow_docs\u001b[39;00m\u001b[38;5;21;01m.\u001b[39;00m\u001b[38;5;21;01mvis\u001b[39;00m \u001b[38;5;28;01mimport\u001b[39;00m embed\n\u001b[0;32m      4\u001b[0m \u001b[38;5;28;01mdef\u001b[39;00m \u001b[38;5;21mto_gif\u001b[39m(shot):\n\u001b[0;32m      5\u001b[0m     height \u001b[38;5;241m=\u001b[39m \u001b[38;5;241m500\u001b[39m\n",
      "\u001b[1;31mModuleNotFoundError\u001b[0m: No module named 'tensorflow_docs'"
     ]
    }
   ],
   "source": [
    "import imageio\n",
    "from tensorflow_docs.vis import embed\n",
    "\n",
    "def to_gif(shot):\n",
    "    height = 500\n",
    "    width = 500\n",
    "    \n",
    "    KEYPOINTS = np.array([\"nose\",\n",
    "        \"left_shoulder\",\n",
    "        \"right_shoulder\",\n",
    "        \"left_elbow\",\n",
    "        \"right_elbow\",\n",
    "        \"left_wrist\",\n",
    "        \"right_wrist\",\n",
    "        \"left_hip\",\n",
    "        \"right_hip\",\n",
    "        \"left_knee\",\n",
    "        \"right_knee\",\n",
    "        \"left_ankle\",\n",
    "        \"right_ankle\"])\n",
    "    \n",
    "    EDGES = {\n",
    "        (\"nose\", \"left_shoulder\"): \"m\",\n",
    "        (\"nose\", \"right_shoulder\"): \"c\",\n",
    "        (\"left_shoulder\", \"left_elbow\"): \"m\",\n",
    "        (\"left_elbow\", \"left_wrist\"): \"m\",\n",
    "        (\"right_shoulder\", \"right_elbow\"): \"c\",\n",
    "        (\"right_elbow\", \"right_wrist\"): \"c\",\n",
    "        (\"left_shoulder\", \"right_shoulder\"): \"y\",\n",
    "        (\"left_shoulder\", \"left_hip\"): \"m\",\n",
    "        (\"right_shoulder\", \"right_hip\"): \"c\",\n",
    "        (\"left_hip\", \"right_hip\"): \"y\",\n",
    "        (\"left_hip\", \"left_knee\"): \"m\",\n",
    "        (\"left_knee\", \"left_ankle\"): \"m\",\n",
    "        (\"right_hip\", \"right_knee\"): \"c\",\n",
    "        (\"right_knee\", \"right_ankle\"): \"c\",\n",
    "    }\n",
    "    \n",
    "    COLORS = {\"c\": (255, 255, 0), \"m\": (255, 0, 255), \"y\": (0, 255, 255)}\n",
    "    \n",
    "    \n",
    "    frames=np.zeros((30, height, width, 3), np.uint8)\n",
    "    for i in range(len(shot)):\n",
    "        shot_inst = shot[i, :]\n",
    "        for k in range(13):\n",
    "            cv2.circle(\n",
    "                frames[i],\n",
    "                (\n",
    "                    int(shot_inst[2*k+1] * width),\n",
    "                    int(shot_inst[2*k] * height),\n",
    "                ),\n",
    "                radius=3,\n",
    "                color=(0, 255, 0),\n",
    "                thickness=-1,\n",
    "            )\n",
    "            \n",
    "        for edge in EDGES.items():\n",
    "            k = np.argwhere(KEYPOINTS == edge[0][0])[0][0]\n",
    "            j = np.argwhere(KEYPOINTS == edge[0][1])[0][0]\n",
    "            cv2.line(\n",
    "                frames[i],\n",
    "                (\n",
    "                    int(shot_inst[2*k+1] * width),\n",
    "                    int(shot_inst[2*k] * height),\n",
    "                ),\n",
    "                (\n",
    "                    int(shot_inst[2*j+1] * width),\n",
    "                    int(shot_inst[2*j] * height),\n",
    "                ),\n",
    "                color=COLORS[edge[1]],\n",
    "                thickness=2,\n",
    "            )\n",
    "    \n",
    "    return frames.astype(np.uint8)\n",
    "        \n",
    "\n",
    "\n"
   ]
  },
  {
   "cell_type": "code",
   "execution_count": 24,
   "id": "67dfd85a",
   "metadata": {},
   "outputs": [
    {
     "ename": "NameError",
     "evalue": "name 'to_gif' is not defined",
     "output_type": "error",
     "traceback": [
      "\u001b[1;31m---------------------------------------------------------------------------\u001b[0m",
      "\u001b[1;31mNameError\u001b[0m                                 Traceback (most recent call last)",
      "Cell \u001b[1;32mIn[24], line 4\u001b[0m\n\u001b[0;32m      1\u001b[0m \u001b[38;5;28;01mimport\u001b[39;00m \u001b[38;5;21;01mrandom\u001b[39;00m\n\u001b[0;32m      2\u001b[0m k \u001b[38;5;241m=\u001b[39m random\u001b[38;5;241m.\u001b[39mrandint(\u001b[38;5;241m0\u001b[39m, \u001b[38;5;28mlen\u001b[39m(y_test))\n\u001b[1;32m----> 4\u001b[0m converted_images \u001b[38;5;241m=\u001b[39m \u001b[43mto_gif\u001b[49m(X_test[k, :, :])\n\u001b[0;32m      5\u001b[0m imageio\u001b[38;5;241m.\u001b[39mmimsave(\u001b[38;5;124m\"\u001b[39m\u001b[38;5;124manimation.gif\u001b[39m\u001b[38;5;124m\"\u001b[39m, converted_images, fps\u001b[38;5;241m=\u001b[39m\u001b[38;5;241m15\u001b[39m)\n\u001b[0;32m      7\u001b[0m \u001b[38;5;28mprint\u001b[39m(\u001b[38;5;124m\"\u001b[39m\u001b[38;5;124mPredicts:\u001b[39m\u001b[38;5;124m\"\u001b[39m)\n",
      "\u001b[1;31mNameError\u001b[0m: name 'to_gif' is not defined"
     ]
    }
   ],
   "source": [
    "import random\n",
    "k = random.randint(0, len(y_test))\n",
    "\n",
    "converted_images = to_gif(X_test[k, :, :])\n",
    "imageio.mimsave(\"animation.gif\", converted_images, fps=15)\n",
    "\n",
    "print(\"Predicts:\")\n",
    "for i in range(nb_cat):\n",
    "    print(f\"{le.classes_[i]} = {preds[k, i]*100:.1f}%\")\n",
    "    \n",
    "\n",
    "print(f\"\\nGT: {le.classes_[np.argmax(y_test[k])]}\")\n",
    "\n",
    "\n",
    "embed.embed_file(\"animation.gif\")"
   ]
  },
  {
   "cell_type": "markdown",
   "id": "a6dfb4be",
   "metadata": {},
   "source": [
    "## A bad classification"
   ]
  },
  {
   "cell_type": "code",
   "execution_count": 25,
   "id": "7db68a55",
   "metadata": {},
   "outputs": [
    {
     "name": "stdout",
     "output_type": "stream",
     "text": [
      "[ 0  1  2  3  9 10 11 12]\n",
      "10\n"
     ]
    },
    {
     "ename": "NameError",
     "evalue": "name 'to_gif' is not defined",
     "output_type": "error",
     "traceback": [
      "\u001b[1;31m---------------------------------------------------------------------------\u001b[0m",
      "\u001b[1;31mNameError\u001b[0m                                 Traceback (most recent call last)",
      "Cell \u001b[1;32mIn[25], line 7\u001b[0m\n\u001b[0;32m      4\u001b[0m k \u001b[38;5;241m=\u001b[39m mismatch[random\u001b[38;5;241m.\u001b[39mrandint(\u001b[38;5;241m0\u001b[39m, \u001b[38;5;28mlen\u001b[39m(mismatch) \u001b[38;5;241m-\u001b[39m \u001b[38;5;241m1\u001b[39m)]\n\u001b[0;32m      6\u001b[0m \u001b[38;5;28mprint\u001b[39m(k)\n\u001b[1;32m----> 7\u001b[0m converted_images \u001b[38;5;241m=\u001b[39m \u001b[43mto_gif\u001b[49m(X_test[k, :, :])\n\u001b[0;32m      8\u001b[0m imageio\u001b[38;5;241m.\u001b[39mmimsave(\u001b[38;5;124m\"\u001b[39m\u001b[38;5;124manimation.gif\u001b[39m\u001b[38;5;124m\"\u001b[39m, converted_images, fps\u001b[38;5;241m=\u001b[39m\u001b[38;5;241m15\u001b[39m)\n\u001b[0;32m     10\u001b[0m \u001b[38;5;28mprint\u001b[39m(\u001b[38;5;124m\"\u001b[39m\u001b[38;5;124mPredicts:\u001b[39m\u001b[38;5;124m\"\u001b[39m)\n",
      "\u001b[1;31mNameError\u001b[0m: name 'to_gif' is not defined"
     ]
    }
   ],
   "source": [
    "mismatch = np.argwhere(np.argmax(y_test, axis = 1) != test_predictions).flatten()\n",
    "print(mismatch)\n",
    "\n",
    "k = mismatch[random.randint(0, len(mismatch) - 1)]\n",
    "\n",
    "print(k)\n",
    "converted_images = to_gif(X_test[k, :, :])\n",
    "imageio.mimsave(\"animation.gif\", converted_images, fps=15)\n",
    "\n",
    "print(\"Predicts:\")\n",
    "for i in range(nb_cat):\n",
    "    print(f\"{le.classes_[i]} = {preds[k, i]*100:.1f}%\")\n",
    "    \n",
    "\n",
    "print(f\"\\nGT: {le.classes_[np.argmax(y_test[k])]}\")\n",
    "\n",
    "\n",
    "embed.embed_file(\"animation.gif\")"
   ]
  },
  {
   "cell_type": "markdown",
   "id": "515420cf",
   "metadata": {},
   "source": [
    "RNN classifier with sqlite database"
   ]
  },
  {
   "cell_type": "code",
   "execution_count": null,
   "id": "d5df55cb",
   "metadata": {},
   "outputs": [],
   "source": [
    "import os\n",
    "import cv2\n",
    "import matplotlib.pyplot as plt\n",
    "import pandas as pd\n",
    "import numpy as np\n",
    "\n",
    "X=[]\n",
    "y=[]\n",
    "\n",
    "folders = [\"sample-296eb\",\"video1\",\"video2\"]\n",
    "\n",
    "for folder in folders:\n",
    "    if not os.path.exists(f\"dataset/{folder}\"):\n",
    "        print(f\"dataset/{folder}/shots/ doesnt exist\")\n",
    "        continue\n",
    "        \n",
    "    print(f\"Loading shots from dataset/{folder}\")\n",
    "        \n",
    "    for shot_csv in tqdm(sorted(os.listdir(f'dataset/{folder}'))):\n",
    "        data = pd.read_csv(os.path.join(f'dataset/{folder}', shot_csv))\n",
    "        \n",
    "        if folder == \"train\":\n",
    "            revert_data= data.copy()\n",
    "            for feature in data.columns:\n",
    "                if feature[-2:]==\"_x\":\n",
    "                    revert_data[feature] = 1 - data[feature]\n",
    "            data = revert_data\n",
    "\n",
    "        features = data.loc[:, data.columns != 'shot']\n",
    "\n",
    "        X.append(features.to_numpy())\n",
    "        y.append(data[\"shot\"].iloc[0])\n",
    "    \n",
    "X = np.stack(X, axis=0)\n",
    "\n",
    "y = np.array(y)\n",
    "X = np.array(X)\n",
    "\n",
    "print(f\"Loaded {len(y)} shots for training\")\n",
    "\n",
    "X_test=[]\n",
    "y_test=[]\n",
    "\n",
    "folders = [\"sample\"]\n",
    "for folder in folders:\n",
    "    for shot_csv in sorted(os.listdir(f'dataset/{folder}')):\n",
    "    \n",
    "        data = pd.read_csv(os.path.join(f'dataset/{folder}',shot_csv ))\n",
    "\n",
    "        if folder == \"test\":\n",
    "                revert_data= data.copy()\n",
    "                for feature in data.columns:\n",
    "                    if feature[-2:]==\"_x\":\n",
    "                        revert_data[feature] = 1 - data[feature]\n",
    "                data = revert_data\n",
    "\n",
    "\n",
    "        features = data.loc[:, data.columns != 'shot']\n",
    "\n",
    "        X_test.append(features.to_numpy())\n",
    "        y_test.append(data[\"shot\"].iloc[0])\n",
    "    \n",
    "X_test = np.stack(X_test, axis=0)\n",
    "\n",
    "y_test = np.array(y_test)\n",
    "X_test = np.array(X_test)\n",
    "\n",
    "print(f\"Loaded {len(y_test)} shots for test\")\n",
    "    "
   ]
  },
  {
   "cell_type": "code",
   "execution_count": 5,
   "id": "a5ac5f9c",
   "metadata": {},
   "outputs": [
    {
     "name": "stdout",
     "output_type": "stream",
     "text": [
      "Found table 'annotations' in the database.\n",
      "Loaded 496 entries from the database.\n",
      "Data: X=(496, 17, 2), y=(496,)\n"
     ]
    }
   ],
   "source": [
    "import sqlite3\n",
    "import numpy as np\n",
    "import pickle\n",
    "\n",
    "# Path to your SQLite database\n",
    "db_path = r\"sample_db\\annotations.db\"\n",
    "\n",
    "# Function to get the first table name in the database\n",
    "def get_table_name(conn):\n",
    "    \"\"\"\n",
    "    Get the name of the first table in the SQLite database.\n",
    "    :param conn: SQLite connection object.\n",
    "    :return: Name of the first table, or None if no table exists.\n",
    "    \"\"\"\n",
    "    query = \"SELECT name FROM sqlite_master WHERE type='table' LIMIT 1\"\n",
    "    result = conn.execute(query).fetchone()\n",
    "    return result[0] if result else None\n",
    "\n",
    "# Function to load data from the database\n",
    "def load_data_from_database(conn, table_name):\n",
    "    \"\"\"\n",
    "    Load data from the SQLite database for a specific table.\n",
    "    :param conn: SQLite connection object.\n",
    "    :param table_name: Table name to query.\n",
    "    :return: Features (X) and labels (y) as numpy arrays.\n",
    "    \"\"\"\n",
    "    query = f\"SELECT * FROM {table_name}\"\n",
    "    cursor = conn.execute(query)\n",
    "    X = []\n",
    "    y = []\n",
    "    \n",
    "    for row in cursor:\n",
    "        shot_type = row[2]  # Column 3 (shot_type)\n",
    "        keypoints_blob = row[3]  # Column 4 (keypoints)\n",
    "        keypoints = pickle.loads(keypoints_blob)  # Deserialize keypoints\n",
    "        \n",
    "        X.append(keypoints)\n",
    "        y.append(shot_type)\n",
    "    \n",
    "    return np.array(X), np.array(y)\n",
    "\n",
    "# Connect to the SQLite database\n",
    "conn = sqlite3.connect(db_path)\n",
    "\n",
    "# Get the first table name\n",
    "table_name = get_table_name(conn)\n",
    "if table_name:\n",
    "    print(f\"Found table '{table_name}' in the database.\")\n",
    "    \n",
    "    # Load data from the table\n",
    "    try:\n",
    "        X, y = load_data_from_database(conn, table_name)\n",
    "        print(f\"Loaded {len(y)} entries from the database.\")\n",
    "    except Exception as e:\n",
    "        print(f\"Error loading data: {e}\")\n",
    "else:\n",
    "    print(\"No table found in the database.\")\n",
    "\n",
    "# Close the database connection\n",
    "conn.close()\n",
    "\n",
    "# Print summary only if data is loaded\n",
    "if 'X' in locals() and 'y' in locals():\n",
    "    print(f\"Data: X={X.shape}, y={y.shape}\")\n"
   ]
  },
  {
   "cell_type": "code",
   "execution_count": 6,
   "id": "0cedfd08",
   "metadata": {},
   "outputs": [
    {
     "name": "stdout",
     "output_type": "stream",
     "text": [
      "Loading data from the database\n",
      "Found table 'annotations' in the database.\n"
     ]
    },
    {
     "name": "stderr",
     "output_type": "stream",
     "text": [
      "Processing database rows: 100%|██████████| 496/496 [00:00<00:00, 28247.16it/s]"
     ]
    },
    {
     "name": "stdout",
     "output_type": "stream",
     "text": [
      "Loaded 496 entries from the database.\n",
      "Data shapes: X=(496, 17, 2), y=(496,)\n"
     ]
    },
    {
     "name": "stderr",
     "output_type": "stream",
     "text": [
      "\n"
     ]
    }
   ],
   "source": [
    "import sqlite3\n",
    "import numpy as np\n",
    "import pickle\n",
    "from tqdm import tqdm  # For progress tracking\n",
    "\n",
    "# Path to your SQLite database\n",
    "db_path = r\"sample_db\\annotations.db\"\n",
    "\n",
    "# Connect to the SQLite database\n",
    "conn = sqlite3.connect(db_path)\n",
    "cursor = conn.cursor()\n",
    "\n",
    "# Query to retrieve all data from the table\n",
    "print(\"Loading data from the database\")\n",
    "\n",
    "# Automatically detect table name\n",
    "def get_table_name(conn):\n",
    "    \"\"\"\n",
    "    Get the name of the first table in the SQLite database.\n",
    "    :param conn: SQLite connection object.\n",
    "    :return: Name of the first table, or None if no table exists.\n",
    "    \"\"\"\n",
    "    query = \"SELECT name FROM sqlite_master WHERE type='table' LIMIT 1\"\n",
    "    result = conn.execute(query).fetchone()\n",
    "    return result[0] if result else None\n",
    "\n",
    "table_name = get_table_name(conn)\n",
    "if not table_name:\n",
    "    print(\"No table found in the database.\")\n",
    "    exit()\n",
    "\n",
    "print(f\"Found table '{table_name}' in the database.\")\n",
    "\n",
    "# Load training data\n",
    "X = []\n",
    "y = []\n",
    "\n",
    "query = f\"SELECT * FROM {table_name}\"\n",
    "rows = cursor.execute(query).fetchall()\n",
    "\n",
    "for row in tqdm(rows, desc=\"Processing database rows\"):\n",
    "    shot_type = row[2]  # Assuming 'shot_type' is in column 3\n",
    "    keypoints_blob = row[3]  # Assuming 'keypoints' is in column 4\n",
    "\n",
    "    try:\n",
    "        # Deserialize keypoints using pickle\n",
    "        keypoints = pickle.loads(keypoints_blob)\n",
    "        X.append(keypoints)\n",
    "        y.append(shot_type)\n",
    "    except Exception as e:\n",
    "        print(f\"Error deserializing keypoints for row {row[0]}: {e}\")\n",
    "\n",
    "# Convert to NumPy arrays\n",
    "X = np.array(X)\n",
    "y = np.array(y)\n",
    "\n",
    "print(f\"Loaded {len(y)} entries from the database.\")\n",
    "\n",
    "# Close the database connection\n",
    "conn.close()\n",
    "\n",
    "# Print summary\n",
    "print(f\"Data shapes: X={X.shape}, y={y.shape}\")\n"
   ]
  },
  {
   "cell_type": "code",
   "execution_count": 7,
   "id": "2f9f718d",
   "metadata": {},
   "outputs": [
    {
     "name": "stdout",
     "output_type": "stream",
     "text": [
      "First keypoints set:\n",
      "[[0.8029175  0.40896645]\n",
      " [0.35752916 0.8136129 ]\n",
      " [0.340575   0.3695252 ]\n",
      " [0.79783934 0.3029532 ]\n",
      " [0.40976515 0.0384626 ]\n",
      " [0.02819799 0.6618419 ]\n",
      " [0.6180645  0.06756657]\n",
      " [0.08932777 0.8102602 ]\n",
      " [0.7516415  0.40699014]\n",
      " [0.8033494  0.507264  ]\n",
      " [0.2962062  0.5921022 ]\n",
      " [0.57471204 0.66593134]\n",
      " [0.56174415 0.23719992]\n",
      " [0.41420996 0.90215117]\n",
      " [0.03428408 0.3105465 ]\n",
      " [0.33038288 0.3016642 ]\n",
      " [0.32355484 0.6557766 ]]\n",
      "First label: serve\n"
     ]
    }
   ],
   "source": [
    "print(f\"First keypoints set:\\n{X[0]}\")\n",
    "print(f\"First label: {y[0]}\")\n"
   ]
  },
  {
   "cell_type": "code",
   "execution_count": 10,
   "id": "b251ced7",
   "metadata": {},
   "outputs": [
    {
     "name": "stdout",
     "output_type": "stream",
     "text": [
      "Shape of train features : (17, 2)\n",
      "Shape of val features : (17, 2)\n",
      "Total categories:  3\n",
      "Total categories:  3\n",
      "3\n"
     ]
    }
   ],
   "source": [
    "from sklearn.model_selection import train_test_split\n",
    "\n",
    "# Split the data\n",
    "X_train, X_val, y_train, y_val = train_test_split(X, y, test_size=0.2, shuffle= True)\n",
    "\n",
    "print(f\"Shape of train features : {X_train[0].shape}\")\n",
    "print(f\"Shape of val features : {X_val[0].shape}\")\n",
    "\n",
    "print(\"Total categories: \", len(np.unique(y_train)))\n",
    "print(\"Total categories: \", len(np.unique(y_val)))\n",
    "\n",
    "nb_cat = len(np.unique(y_train))\n",
    "print(nb_cat)"
   ]
  },
  {
   "cell_type": "code",
   "execution_count": null,
   "id": "e297a98a",
   "metadata": {},
   "outputs": [],
   "source": [
    "import tensorflow as tf\n",
    "from tensorflow.keras import Sequential\n",
    "from tensorflow.keras.layers import Flatten, Dense\n",
    "\n",
    "\n",
    "model = Sequential([\n",
    "    Flatten(input_shape=(17, 2)),\n",
    "    Dense(128, activation='relu'),\n",
    "    Dense(64, activation='relu'),\n",
    "    Dense(len(np.unique(y)), activation='softmax')  # Adjust output units to number of unique labels\n",
    "])\n",
    "\n",
    "model.compile(optimizer='adam', loss='sparse_categorical_crossentropy', metrics=['accuracy'])\n",
    "\n",
    "model.fit(X_train, y_train, epochs=10, validation_data=(X_test, y_test))\n"
   ]
  },
  {
   "cell_type": "code",
   "execution_count": 5,
   "id": "93295fec",
   "metadata": {},
   "outputs": [
    {
     "name": "stdout",
     "output_type": "stream",
     "text": [
      "Loading training data from the database\n"
     ]
    },
    {
     "name": "stderr",
     "output_type": "stream",
     "text": [
      "Processing training data:   0%|          | 0/496 [00:00<?, ?it/s]\n"
     ]
    },
    {
     "ename": "TypeError",
     "evalue": "a bytes-like object is required, not 'str'",
     "output_type": "error",
     "traceback": [
      "\u001b[1;31m---------------------------------------------------------------------------\u001b[0m",
      "\u001b[1;31mTypeError\u001b[0m                                 Traceback (most recent call last)",
      "Cell \u001b[1;32mIn[5], line 29\u001b[0m\n\u001b[0;32m     24\u001b[0m video_name, shot_type, keypoints_blob \u001b[38;5;241m=\u001b[39m row\n\u001b[0;32m     26\u001b[0m \u001b[38;5;66;03m# Deserialize keypoints blob\u001b[39;00m\n\u001b[0;32m     27\u001b[0m \u001b[38;5;66;03m#keypoints = np.array(eval(keypoints_blob))  # Assuming keypoints are stored as a string representation of a list\u001b[39;00m\n\u001b[1;32m---> 29\u001b[0m sanitized_blob \u001b[38;5;241m=\u001b[39m \u001b[43mkeypoints_blob\u001b[49m\u001b[38;5;241;43m.\u001b[39;49m\u001b[43mreplace\u001b[49m\u001b[43m(\u001b[49m\u001b[38;5;124;43m'\u001b[39;49m\u001b[38;5;130;43;01m\\x00\u001b[39;49;00m\u001b[38;5;124;43m'\u001b[39;49m\u001b[43m,\u001b[49m\u001b[43m \u001b[49m\u001b[38;5;124;43m'\u001b[39;49m\u001b[38;5;124;43m'\u001b[39;49m\u001b[43m)\u001b[49m  \u001b[38;5;66;03m# Remove null bytes\u001b[39;00m\n\u001b[0;32m     30\u001b[0m keypoints \u001b[38;5;241m=\u001b[39m np\u001b[38;5;241m.\u001b[39marray(\u001b[38;5;28meval\u001b[39m(sanitized_blob))\n\u001b[0;32m     31\u001b[0m \u001b[38;5;66;03m# Flip keypoints horizontally if needed (for training set)\u001b[39;00m\n",
      "\u001b[1;31mTypeError\u001b[0m: a bytes-like object is required, not 'str'"
     ]
    }
   ],
   "source": [
    "import sqlite3\n",
    "import numpy as np\n",
    "from tqdm import tqdm  # For progress tracking\n",
    "\n",
    "# Initialize data containers\n",
    "X = []\n",
    "y = []\n",
    "\n",
    "# Path to the SQLite database\n",
    "db_path = r\"sample_db\\annotations.db\"\n",
    "\n",
    "# Connect to the SQLite database\n",
    "conn = sqlite3.connect(db_path)\n",
    "cursor = conn.cursor()\n",
    "\n",
    "# Query to retrieve all training data\n",
    "print(\"Loading training data from the database\")\n",
    "\n",
    "# Replace 'your_table_name' with the actual table name\n",
    "cursor.execute(\"SELECT Video_id, shot_type, keypoints FROM annotations\")\n",
    "rows = cursor.fetchall()\n",
    "\n",
    "for row in tqdm(rows, desc=\"Processing training data\"):\n",
    "    video_name, shot_type, keypoints_blob = row\n",
    "    \n",
    "    # Deserialize keypoints blob\n",
    "    #keypoints = np.array(eval(keypoints_blob))  # Assuming keypoints are stored as a string representation of a list\n",
    "\n",
    "    sanitized_blob = keypoints_blob.replace('\\x00', '')  # Remove null bytes\n",
    "    keypoints = np.array(eval(sanitized_blob))\n",
    "    # Flip keypoints horizontally if needed (for training set)\n",
    "    if \"train\" in video_name.lower():  # Adjust condition based on your naming convention\n",
    "        keypoints[:, 0] = 1 - keypoints[:, 0]  # Assuming keypoints are [x, y] normalized coordinates\n",
    "\n",
    "    X.append(keypoints)\n",
    "    y.append(shot_type)\n",
    "\n",
    "# Convert to NumPy arrays\n",
    "X = np.stack(X, axis=0)\n",
    "y = np.array(y)\n",
    "\n",
    "print(f\"Loaded {len(y)} shots for training\")\n",
    "\n",
    "# Separate testing data if necessary\n",
    "X_test = []\n",
    "y_test = []\n",
    "\n",
    "print(\"Loading testing data from the database\")\n",
    "\n",
    "# Query to retrieve all testing data (adjust as needed for your setup)\n",
    "cursor.execute(\"SELECT video_name, shot_type, keypoints FROM your_table_name\")\n",
    "rows = cursor.fetchall()\n",
    "\n",
    "for row in tqdm(rows, desc=\"Processing testing data\"):\n",
    "    video_name, shot_type, keypoints_blob = row\n",
    "    \n",
    "    # Deserialize keypoints blob\n",
    "    keypoints = np.array(eval(keypoints_blob))  # Assuming keypoints are stored as a string representation of a list\n",
    "\n",
    "    # Flip keypoints horizontally if needed\n",
    "    if \"test\" in video_name.lower():  # Adjust condition based on your naming convention\n",
    "        keypoints[:, 0] = 1 - keypoints[:, 0]  # Assuming keypoints are [x, y] normalized coordinates\n",
    "\n",
    "    X_test.append(keypoints)\n",
    "    y_test.append(shot_type)\n",
    "\n",
    "# Convert to NumPy arrays\n",
    "X_test = np.stack(X_test, axis=0)\n",
    "y_test = np.array(y_test)\n",
    "\n",
    "print(f\"Loaded {len(y_test)} shots for testing\")\n",
    "\n",
    "# Close the database connection\n",
    "conn.close()\n"
   ]
  },
  {
   "cell_type": "code",
   "execution_count": null,
   "id": "455116a6",
   "metadata": {},
   "outputs": [],
   "source": []
  }
 ],
 "metadata": {
  "kernelspec": {
   "display_name": "myenv",
   "language": "python",
   "name": "python3"
  },
  "language_info": {
   "codemirror_mode": {
    "name": "ipython",
    "version": 3
   },
   "file_extension": ".py",
   "mimetype": "text/x-python",
   "name": "python",
   "nbconvert_exporter": "python",
   "pygments_lexer": "ipython3",
   "version": "3.11.9"
  }
 },
 "nbformat": 4,
 "nbformat_minor": 5
}
