{
 "cells": [
  {
   "cell_type": "markdown",
   "id": "6a7e4a9c",
   "metadata": {},
   "source": [
    "# Imports"
   ]
  },
  {
   "cell_type": "code",
   "execution_count": 1,
   "id": "730ef543",
   "metadata": {},
   "outputs": [
    {
     "name": "stdout",
     "output_type": "stream",
     "text": [
      "WARNING:tensorflow:From C:\\Users\\Umais\\AppData\\Local\\Temp\\ipykernel_4376\\2524203102.py:2: The name tf.ConfigProto is deprecated. Please use tf.compat.v1.ConfigProto instead.\n",
      "\n"
     ]
    }
   ],
   "source": [
    "import tensorflow as tf\n",
    "config = tf.compat.v1.ConfigProto()\n",
    "config.gpu_options.allow_growth = True\n",
    "session = tf.compat.v1.Session(config=config)\n",
    "\n",
    "from tensorflow import keras\n",
    "from tensorflow.keras import layers\n",
    "# physical_devices = tf.config.experimental.list_physical_devices('GPU')\n",
    "# print(tf.config.experimental.list_physical_devices('GPU'))\n",
    "# tf.config.experimental.set_memory_growth(physical_devices[0], True)\n",
    "# print(\"Num GPUs Available: \", len(tf.config.experimental.list_physical_devices('GPU')))\n",
    "\n",
    "from tensorflow import keras\n",
    "from tensorflow.keras import layers\n",
    "\n",
    "from keras.models import Sequential\n",
    "from keras.layers import Convolution2D, Dropout, Dense\n",
    "from keras.layers import BatchNormalization\n",
    "from keras.layers import MaxPooling2D\n",
    "from keras.layers import Flatten\n",
    "from keras.layers import LeakyReLU\n",
    "from keras.callbacks import ModelCheckpoint\n",
    "\n",
    "from sklearn import preprocessing\n",
    "from sklearn.metrics import confusion_matrix\n",
    "from sklearn.model_selection import train_test_split\n",
    "import pandas as pd\n",
    "import seaborn as sn\n",
    "import numpy as np\n",
    "import matplotlib.pyplot as plt\n",
    "import pandas as pd\n",
    "from tqdm import tqdm\n",
    "import os\n"
   ]
  },
  {
   "cell_type": "markdown",
   "id": "f40c0e58",
   "metadata": {},
   "source": [
    "# Load dataset"
   ]
  },
  {
   "cell_type": "code",
   "execution_count": 2,
   "id": "62ad3183",
   "metadata": {},
   "outputs": [
    {
     "name": "stdout",
     "output_type": "stream",
     "text": [
      "Loading shots from dataset/sample/shots/\n"
     ]
    },
    {
     "name": "stderr",
     "output_type": "stream",
     "text": [
      "100%|██████████| 13/13 [00:00<00:00, 19.59it/s]\n"
     ]
    },
    {
     "name": "stdout",
     "output_type": "stream",
     "text": [
      "Loading shots from dataset/sample296/shots/\n"
     ]
    },
    {
     "name": "stderr",
     "output_type": "stream",
     "text": [
      "100%|██████████| 207/207 [00:04<00:00, 47.43it/s]\n"
     ]
    },
    {
     "name": "stdout",
     "output_type": "stream",
     "text": [
      "Loading shots from dataset/video1/shots/\n"
     ]
    },
    {
     "name": "stderr",
     "output_type": "stream",
     "text": [
      "100%|██████████| 99/99 [00:02<00:00, 37.52it/s]\n"
     ]
    },
    {
     "name": "stdout",
     "output_type": "stream",
     "text": [
      "Loading shots from dataset/video2/shots/\n"
     ]
    },
    {
     "name": "stderr",
     "output_type": "stream",
     "text": [
      "100%|██████████| 143/143 [00:02<00:00, 57.53it/s]"
     ]
    },
    {
     "name": "stdout",
     "output_type": "stream",
     "text": [
      "Loaded 11088 shots for training\n",
      "Loaded 2772 shots for test\n"
     ]
    },
    {
     "name": "stderr",
     "output_type": "stream",
     "text": [
      "\n"
     ]
    }
   ],
   "source": [
    "X=[]\n",
    "y=[]\n",
    "X_test = []\n",
    "y_test = []\n",
    "\n",
    "folders = [\"sample\",\"sample296\",\"video1\",\"video2\"]\n",
    "for folder in folders:\n",
    "    if not os.path.exists(f\"dataset/{folder}\"):\n",
    "        print(f\"dataset/{folder}/shots/ doesnt exist\")\n",
    "        continue\n",
    "        \n",
    "    print(f\"Loading shots from dataset/{folder}/shots/\")\n",
    "        \n",
    "    for shot_csv in tqdm(sorted(os.listdir(f'dataset/{folder}'))):\n",
    "        data = pd.read_csv(os.path.join(f'dataset/{folder}', shot_csv))\n",
    "        \n",
    "        if folder == \"video1\":\n",
    "            revert_data= data.copy()\n",
    "            for feature in data.columns:\n",
    "                if feature[-2:]==\"_x\":\n",
    "                    revert_data[feature] = 1 - data[feature]\n",
    "            data = revert_data\n",
    "            \n",
    "        data_train = data[:int(0.8*len(data))]\n",
    "        data_test = data[int(0.8*len(data)):]\n",
    "\n",
    "        #print(f\"{len(data_train)} for training and {len(data_test)} for test\")\n",
    "\n",
    "        #print(list(data_train.loc[:, data.columns != 'shot'].to_numpy()))\n",
    "        features_train = list(data_train.loc[:, data.columns != 'shot'].to_numpy())\n",
    "        features_test = list(data_test.loc[:, data.columns != 'shot'].to_numpy())\n",
    "        \n",
    "        #print(features_train)\n",
    "\n",
    "        X.extend(features_train)\n",
    "        y.extend(data_train[\"shot\"].to_numpy().flatten())\n",
    "\n",
    "        X_test.extend(features_test)\n",
    "        y_test.extend(data_test[\"shot\"].to_numpy().flatten())\n",
    "        \n",
    "    \n",
    "\n",
    "X = np.stack(X, axis=0)\n",
    "\n",
    "y = np.array(y)\n",
    "X = np.array(X)\n",
    "\n",
    "y_test = np.array(y_test)\n",
    "\n",
    "print(f\"Loaded {len(y)} shots for training\")\n",
    "print(f\"Loaded {len(y_test)} shots for test\")\n",
    "    "
   ]
  },
  {
   "cell_type": "markdown",
   "id": "01945666",
   "metadata": {},
   "source": [
    "# Shot shots proportion in dataset"
   ]
  },
  {
   "cell_type": "code",
   "execution_count": 3,
   "id": "7bb5ae8d",
   "metadata": {
    "scrolled": true
   },
   "outputs": [
    {
     "data": {
      "image/png": "[encoded data removed]",
      "text/plain": [
       "<Figure size 640x480 with 1 Axes>"
      ]
     },
     "metadata": {},
     "output_type": "display_data"
    }
   ],
   "source": [
    "# if using a Jupyter notebook, include:\n",
    "%matplotlib inline\n",
    "\n",
    "shots = list(set(y))\n",
    "occurences = [np.count_nonzero(y == shot) for shot in shots]\n",
    "#print(shots, occurences)\n",
    "\n",
    "fig, ax = plt.subplots()\n",
    "ax.pie(occurences, labels=shots, autopct='%1.1f%%')\n",
    "ax.axis('equal')  # Equal aspect ratio ensures the pie chart is circular.\n",
    "ax.set_title('Shots dataset')\n",
    "\n",
    "\n",
    "plt.show()"
   ]
  },
  {
   "cell_type": "code",
   "execution_count": 5,
   "id": "8e8f483b",
   "metadata": {},
   "outputs": [],
   "source": [
    "# # Take backhand occurences and cap all other classes to this value\n",
    "\n",
    "# target_occurences_per_class = np.count_nonzero(y == \"backhand\")\n",
    "# subset_indices = []\n",
    "# for shot in shots:\n",
    "#     indices = np.argwhere(y == shot)\n",
    "#     size_subset = min(target_occurences_per_class, len(indices))\n",
    "#     assert(len(indices)>= size_subset)\n",
    "#     subset_indices.extend((np.random.choice(indices[:, 0], size=size_subset)))\n",
    "    \n",
    "# subset_indices = np.sort(subset_indices)\n",
    "\n",
    "# y = y[subset_indices]\n",
    "# X = X[subset_indices]\n",
    "\n",
    "# occurences = [np.count_nonzero(y == shot) for shot in shots]\n",
    "\n",
    "# fig, ax = plt.subplots()\n",
    "# ax.pie(occurences, labels=shots, autopct='%1.1f%%')\n",
    "# ax.axis('equal')  # Equal aspect ratio ensures the pie chart is circular.\n",
    "# ax.set_title('Shots dataset')\n",
    "\n",
    "\n",
    "# plt.show()\n"
   ]
  },
  {
   "cell_type": "markdown",
   "id": "6a2e064c",
   "metadata": {},
   "source": [
    "# Make training/validation datasets"
   ]
  },
  {
   "cell_type": "code",
   "execution_count": 6,
   "id": "e0fbab3c",
   "metadata": {},
   "outputs": [
    {
     "name": "stdout",
     "output_type": "stream",
     "text": [
      "Shape of train features : (26,)\n",
      "Shape of val features : (26,)\n",
      "Total categories:  5\n",
      "Total categories:  4\n"
     ]
    }
   ],
   "source": [
    "# Split the data\n",
    "X_train, X_val, y_train, y_val = train_test_split(X, y, test_size=0.25, shuffle= False)\n",
    "\n",
    "print(f\"Shape of train features : {X_train[0].shape}\")\n",
    "print(f\"Shape of val features : {X_val[0].shape}\")\n",
    "\n",
    "\n",
    "print(\"Total categories: \", len(np.unique(y_train)))\n",
    "print(\"Total categories: \", len(np.unique(y_val)))\n",
    "\n",
    "nb_cat = len(np.unique(y_train))"
   ]
  },
  {
   "cell_type": "code",
   "execution_count": 7,
   "id": "855ae3b4",
   "metadata": {},
   "outputs": [],
   "source": [
    "from sklearn import preprocessing\n",
    "le = preprocessing.LabelEncoder()\n",
    "\n",
    "\n",
    "y_train = le.fit_transform(y_train)\n",
    "y_val = le.fit_transform(y_val)\n",
    "y_test = le.fit_transform(y_test)\n",
    "\n",
    "y_train = tf.keras.utils.to_categorical(y_train, num_classes=nb_cat)\n",
    "y_val = tf.keras.utils.to_categorical(y_val, num_classes=nb_cat)\n",
    "y_test = tf.keras.utils.to_categorical(y_test, num_classes=nb_cat)\n",
    "\n",
    "y_train = np.array(y_train)\n",
    "X_train = np.array(X_train)\n",
    "\n",
    "y_val = np.array(y_val)\n",
    "X_val = np.array(X_val)\n",
    "\n",
    "y_test = np.array(y_test)\n",
    "X_test = np.array(X_test)"
   ]
  },
  {
   "cell_type": "code",
   "execution_count": 8,
   "id": "71da7195",
   "metadata": {},
   "outputs": [
    {
     "name": "stdout",
     "output_type": "stream",
     "text": [
      "['boast', 'cross_court', 'no_shot', 'rail', 'serve']\n"
     ]
    }
   ],
   "source": [
    "print(list(le.classes_))"
   ]
  },
  {
   "cell_type": "code",
   "execution_count": 9,
   "id": "1e46a22f",
   "metadata": {},
   "outputs": [
    {
     "name": "stdout",
     "output_type": "stream",
     "text": [
      "X_train Shape:  (8316, 26)\n",
      "X_val Shape:  (2772, 26)\n",
      "X_test Shape:  (2772, 26)\n",
      "y_train Shape:  (8316, 5)\n",
      "y_val Shape:  (2772, 5)\n",
      "y_test Shape:  (2772, 5)\n"
     ]
    }
   ],
   "source": [
    "print(\"X_train Shape: \", X_train.shape)\n",
    "print(\"X_val Shape: \", X_val.shape)\n",
    "print(\"X_test Shape: \", X_test.shape)\n",
    "print(\"y_train Shape: \", y_train.shape)\n",
    "print(\"y_val Shape: \", y_val.shape)\n",
    "print(\"y_test Shape: \", y_test.shape)"
   ]
  },
  {
   "cell_type": "markdown",
   "id": "0743dec2",
   "metadata": {},
   "source": [
    "# Build fully connected layers network"
   ]
  },
  {
   "cell_type": "code",
   "execution_count": 10,
   "id": "eabb6eb7",
   "metadata": {},
   "outputs": [
    {
     "name": "stderr",
     "output_type": "stream",
     "text": [
      "c:\\Users\\Umais\\anaconda3\\envs\\myenv\\Lib\\site-packages\\keras\\src\\layers\\core\\dense.py:87: UserWarning: Do not pass an `input_shape`/`input_dim` argument to a layer. When using Sequential models, prefer using an `Input(shape)` object as the first layer in the model instead.\n",
      "  super().__init__(activity_regularizer=activity_regularizer, **kwargs)\n"
     ]
    }
   ],
   "source": [
    "m1=Sequential()\n",
    "m1.add(Dense(units=16,activation = 'relu', input_shape=(26,)))\n",
    "#m1.add(Dropout(0.5))\n",
    "m1.add(Dense(units=8,activation = 'relu', input_shape=(26,)))\n",
    "#m1.add(Dropout(0.5))\n",
    "m1.add(Dense(units = 8, activation = 'relu'))\n",
    "m1.add(Dense(units = nb_cat, activation = 'softmax'))"
   ]
  },
  {
   "cell_type": "code",
   "execution_count": 11,
   "id": "7a84c4b0",
   "metadata": {},
   "outputs": [
    {
     "data": {
      "text/html": [
       "<pre style=\"white-space:pre;overflow-x:auto;line-height:normal;font-family:Menlo,'DejaVu Sans Mono',consolas,'Courier New',monospace\"><span style=\"font-weight: bold\">Model: \"sequential\"</span>\n",
       "</pre>\n"
      ],
      "text/plain": [
       "\u001b[1mModel: \"sequential\"\u001b[0m\n"
      ]
     },
     "metadata": {},
     "output_type": "display_data"
    },
    {
     "data": {
      "text/html": [
       "<pre style=\"white-space:pre;overflow-x:auto;line-height:normal;font-family:Menlo,'DejaVu Sans Mono',consolas,'Courier New',monospace\">┏━━━━━━━━━━━━━━━━━━━━━━━━━━━━━━━━━┳━━━━━━━━━━━━━━━━━━━━━━━━┳━━━━━━━━━━━━━━━┓\n",
       "┃<span style=\"font-weight: bold\"> Layer (type)                    </span>┃<span style=\"font-weight: bold\"> Output Shape           </span>┃<span style=\"font-weight: bold\">       Param # </span>┃\n",
       "┡━━━━━━━━━━━━━━━━━━━━━━━━━━━━━━━━━╇━━━━━━━━━━━━━━━━━━━━━━━━╇━━━━━━━━━━━━━━━┩\n",
       "│ dense (<span style=\"color: #0087ff; text-decoration-color: #0087ff\">Dense</span>)                   │ (<span style=\"color: #00d7ff; text-decoration-color: #00d7ff\">None</span>, <span style=\"color: #00af00; text-decoration-color: #00af00\">16</span>)             │           <span style=\"color: #00af00; text-decoration-color: #00af00\">432</span> │\n",
       "├─────────────────────────────────┼────────────────────────┼───────────────┤\n",
       "│ dense_1 (<span style=\"color: #0087ff; text-decoration-color: #0087ff\">Dense</span>)                 │ (<span style=\"color: #00d7ff; text-decoration-color: #00d7ff\">None</span>, <span style=\"color: #00af00; text-decoration-color: #00af00\">8</span>)              │           <span style=\"color: #00af00; text-decoration-color: #00af00\">136</span> │\n",
       "├─────────────────────────────────┼────────────────────────┼───────────────┤\n",
       "│ dense_2 (<span style=\"color: #0087ff; text-decoration-color: #0087ff\">Dense</span>)                 │ (<span style=\"color: #00d7ff; text-decoration-color: #00d7ff\">None</span>, <span style=\"color: #00af00; text-decoration-color: #00af00\">8</span>)              │            <span style=\"color: #00af00; text-decoration-color: #00af00\">72</span> │\n",
       "├─────────────────────────────────┼────────────────────────┼───────────────┤\n",
       "│ dense_3 (<span style=\"color: #0087ff; text-decoration-color: #0087ff\">Dense</span>)                 │ (<span style=\"color: #00d7ff; text-decoration-color: #00d7ff\">None</span>, <span style=\"color: #00af00; text-decoration-color: #00af00\">5</span>)              │            <span style=\"color: #00af00; text-decoration-color: #00af00\">45</span> │\n",
       "└─────────────────────────────────┴────────────────────────┴───────────────┘\n",
       "</pre>\n"
      ],
      "text/plain": [
       "┏━━━━━━━━━━━━━━━━━━━━━━━━━━━━━━━━━┳━━━━━━━━━━━━━━━━━━━━━━━━┳━━━━━━━━━━━━━━━┓\n",
       "┃\u001b[1m \u001b[0m\u001b[1mLayer (type)                   \u001b[0m\u001b[1m \u001b[0m┃\u001b[1m \u001b[0m\u001b[1mOutput Shape          \u001b[0m\u001b[1m \u001b[0m┃\u001b[1m \u001b[0m\u001b[1m      Param #\u001b[0m\u001b[1m \u001b[0m┃\n",
       "┡━━━━━━━━━━━━━━━━━━━━━━━━━━━━━━━━━╇━━━━━━━━━━━━━━━━━━━━━━━━╇━━━━━━━━━━━━━━━┩\n",
       "│ dense (\u001b[38;5;33mDense\u001b[0m)                   │ (\u001b[38;5;45mNone\u001b[0m, \u001b[38;5;34m16\u001b[0m)             │           \u001b[38;5;34m432\u001b[0m │\n",
       "├─────────────────────────────────┼────────────────────────┼───────────────┤\n",
       "│ dense_1 (\u001b[38;5;33mDense\u001b[0m)                 │ (\u001b[38;5;45mNone\u001b[0m, \u001b[38;5;34m8\u001b[0m)              │           \u001b[38;5;34m136\u001b[0m │\n",
       "├─────────────────────────────────┼────────────────────────┼───────────────┤\n",
       "│ dense_2 (\u001b[38;5;33mDense\u001b[0m)                 │ (\u001b[38;5;45mNone\u001b[0m, \u001b[38;5;34m8\u001b[0m)              │            \u001b[38;5;34m72\u001b[0m │\n",
       "├─────────────────────────────────┼────────────────────────┼───────────────┤\n",
       "│ dense_3 (\u001b[38;5;33mDense\u001b[0m)                 │ (\u001b[38;5;45mNone\u001b[0m, \u001b[38;5;34m5\u001b[0m)              │            \u001b[38;5;34m45\u001b[0m │\n",
       "└─────────────────────────────────┴────────────────────────┴───────────────┘\n"
      ]
     },
     "metadata": {},
     "output_type": "display_data"
    },
    {
     "data": {
      "text/html": [
       "<pre style=\"white-space:pre;overflow-x:auto;line-height:normal;font-family:Menlo,'DejaVu Sans Mono',consolas,'Courier New',monospace\"><span style=\"font-weight: bold\"> Total params: </span><span style=\"color: #00af00; text-decoration-color: #00af00\">685</span> (2.68 KB)\n",
       "</pre>\n"
      ],
      "text/plain": [
       "\u001b[1m Total params: \u001b[0m\u001b[38;5;34m685\u001b[0m (2.68 KB)\n"
      ]
     },
     "metadata": {},
     "output_type": "display_data"
    },
    {
     "data": {
      "text/html": [
       "<pre style=\"white-space:pre;overflow-x:auto;line-height:normal;font-family:Menlo,'DejaVu Sans Mono',consolas,'Courier New',monospace\"><span style=\"font-weight: bold\"> Trainable params: </span><span style=\"color: #00af00; text-decoration-color: #00af00\">685</span> (2.68 KB)\n",
       "</pre>\n"
      ],
      "text/plain": [
       "\u001b[1m Trainable params: \u001b[0m\u001b[38;5;34m685\u001b[0m (2.68 KB)\n"
      ]
     },
     "metadata": {},
     "output_type": "display_data"
    },
    {
     "data": {
      "text/html": [
       "<pre style=\"white-space:pre;overflow-x:auto;line-height:normal;font-family:Menlo,'DejaVu Sans Mono',consolas,'Courier New',monospace\"><span style=\"font-weight: bold\"> Non-trainable params: </span><span style=\"color: #00af00; text-decoration-color: #00af00\">0</span> (0.00 B)\n",
       "</pre>\n"
      ],
      "text/plain": [
       "\u001b[1m Non-trainable params: \u001b[0m\u001b[38;5;34m0\u001b[0m (0.00 B)\n"
      ]
     },
     "metadata": {},
     "output_type": "display_data"
    }
   ],
   "source": [
    "m1.compile(optimizer='adam', loss = 'categorical_crossentropy',metrics = ['accuracy'])\n",
    "m1.summary()"
   ]
  },
  {
   "cell_type": "markdown",
   "id": "ed58e86c",
   "metadata": {},
   "source": [
    "# Training"
   ]
  },
  {
   "cell_type": "code",
   "execution_count": 12,
   "id": "1022e440",
   "metadata": {},
   "outputs": [
    {
     "name": "stdout",
     "output_type": "stream",
     "text": [
      "Epoch 1/300\n",
      "\u001b[1m1040/1040\u001b[0m \u001b[32m━━━━━━━━━━━━━━━━━━━━\u001b[0m\u001b[37m\u001b[0m \u001b[1m6s\u001b[0m 3ms/step - accuracy: 0.3344 - loss: 1.5604 - val_accuracy: 0.0519 - val_loss: 1.8079\n",
      "Epoch 2/300\n",
      "\u001b[1m1040/1040\u001b[0m \u001b[32m━━━━━━━━━━━━━━━━━━━━\u001b[0m\u001b[37m\u001b[0m \u001b[1m4s\u001b[0m 4ms/step - accuracy: 0.3570 - loss: 1.5377 - val_accuracy: 0.0519 - val_loss: 1.7818\n",
      "Epoch 3/300\n",
      "\u001b[1m1040/1040\u001b[0m \u001b[32m━━━━━━━━━━━━━━━━━━━━\u001b[0m\u001b[37m\u001b[0m \u001b[1m3s\u001b[0m 3ms/step - accuracy: 0.3504 - loss: 1.5305 - val_accuracy: 0.0519 - val_loss: 1.8662\n",
      "Epoch 4/300\n",
      "\u001b[1m1040/1040\u001b[0m \u001b[32m━━━━━━━━━━━━━━━━━━━━\u001b[0m\u001b[37m\u001b[0m \u001b[1m4s\u001b[0m 3ms/step - accuracy: 0.3495 - loss: 1.5236 - val_accuracy: 0.0519 - val_loss: 1.7856\n",
      "Epoch 5/300\n",
      "\u001b[1m1040/1040\u001b[0m \u001b[32m━━━━━━━━━━━━━━━━━━━━\u001b[0m\u001b[37m\u001b[0m \u001b[1m3s\u001b[0m 3ms/step - accuracy: 0.3369 - loss: 1.5294 - val_accuracy: 0.0559 - val_loss: 1.8233\n",
      "Epoch 6/300\n",
      "\u001b[1m1040/1040\u001b[0m \u001b[32m━━━━━━━━━━━━━━━━━━━━\u001b[0m\u001b[37m\u001b[0m \u001b[1m4s\u001b[0m 3ms/step - accuracy: 0.3473 - loss: 1.5290 - val_accuracy: 0.0927 - val_loss: 1.8191\n",
      "Epoch 7/300\n",
      "\u001b[1m1040/1040\u001b[0m \u001b[32m━━━━━━━━━━━━━━━━━━━━\u001b[0m\u001b[37m\u001b[0m \u001b[1m3s\u001b[0m 3ms/step - accuracy: 0.3477 - loss: 1.5221 - val_accuracy: 0.0880 - val_loss: 1.8513\n",
      "Epoch 8/300\n",
      "\u001b[1m1040/1040\u001b[0m \u001b[32m━━━━━━━━━━━━━━━━━━━━\u001b[0m\u001b[37m\u001b[0m \u001b[1m3s\u001b[0m 3ms/step - accuracy: 0.3480 - loss: 1.5216 - val_accuracy: 0.0671 - val_loss: 1.9009\n",
      "Epoch 9/300\n",
      "\u001b[1m1040/1040\u001b[0m \u001b[32m━━━━━━━━━━━━━━━━━━━━\u001b[0m\u001b[37m\u001b[0m \u001b[1m3s\u001b[0m 3ms/step - accuracy: 0.3498 - loss: 1.5146 - val_accuracy: 0.1144 - val_loss: 1.7961\n",
      "Epoch 10/300\n",
      "\u001b[1m1040/1040\u001b[0m \u001b[32m━━━━━━━━━━━━━━━━━━━━\u001b[0m\u001b[37m\u001b[0m \u001b[1m3s\u001b[0m 3ms/step - accuracy: 0.3554 - loss: 1.5111 - val_accuracy: 0.0952 - val_loss: 1.8509\n",
      "Epoch 11/300\n",
      "\u001b[1m1040/1040\u001b[0m \u001b[32m━━━━━━━━━━━━━━━━━━━━\u001b[0m\u001b[37m\u001b[0m \u001b[1m3s\u001b[0m 3ms/step - accuracy: 0.3515 - loss: 1.5113 - val_accuracy: 0.1050 - val_loss: 1.8386\n",
      "Epoch 12/300\n",
      "\u001b[1m1040/1040\u001b[0m \u001b[32m━━━━━━━━━━━━━━━━━━━━\u001b[0m\u001b[37m\u001b[0m \u001b[1m3s\u001b[0m 3ms/step - accuracy: 0.3582 - loss: 1.5041 - val_accuracy: 0.1151 - val_loss: 1.8244\n",
      "Epoch 13/300\n",
      "\u001b[1m1040/1040\u001b[0m \u001b[32m━━━━━━━━━━━━━━━━━━━━\u001b[0m\u001b[37m\u001b[0m \u001b[1m3s\u001b[0m 3ms/step - accuracy: 0.3560 - loss: 1.5038 - val_accuracy: 0.0974 - val_loss: 1.9162\n",
      "Epoch 14/300\n",
      "\u001b[1m1040/1040\u001b[0m \u001b[32m━━━━━━━━━━━━━━━━━━━━\u001b[0m\u001b[37m\u001b[0m \u001b[1m2s\u001b[0m 2ms/step - accuracy: 0.3528 - loss: 1.5033 - val_accuracy: 0.1082 - val_loss: 1.8723\n",
      "Epoch 15/300\n",
      "\u001b[1m1040/1040\u001b[0m \u001b[32m━━━━━━━━━━━━━━━━━━━━\u001b[0m\u001b[37m\u001b[0m \u001b[1m3s\u001b[0m 3ms/step - accuracy: 0.3652 - loss: 1.4895 - val_accuracy: 0.1154 - val_loss: 1.8307\n",
      "Epoch 16/300\n",
      "\u001b[1m1040/1040\u001b[0m \u001b[32m━━━━━━━━━━━━━━━━━━━━\u001b[0m\u001b[37m\u001b[0m \u001b[1m3s\u001b[0m 3ms/step - accuracy: 0.3578 - loss: 1.4893 - val_accuracy: 0.1039 - val_loss: 1.8808\n",
      "Epoch 17/300\n",
      "\u001b[1m1040/1040\u001b[0m \u001b[32m━━━━━━━━━━━━━━━━━━━━\u001b[0m\u001b[37m\u001b[0m \u001b[1m3s\u001b[0m 2ms/step - accuracy: 0.3590 - loss: 1.4856 - val_accuracy: 0.1129 - val_loss: 1.8757\n",
      "Epoch 18/300\n",
      "\u001b[1m1040/1040\u001b[0m \u001b[32m━━━━━━━━━━━━━━━━━━━━\u001b[0m\u001b[37m\u001b[0m \u001b[1m4s\u001b[0m 3ms/step - accuracy: 0.3587 - loss: 1.4805 - val_accuracy: 0.1162 - val_loss: 1.8477\n",
      "Epoch 19/300\n",
      "\u001b[1m1040/1040\u001b[0m \u001b[32m━━━━━━━━━━━━━━━━━━━━\u001b[0m\u001b[37m\u001b[0m \u001b[1m6s\u001b[0m 4ms/step - accuracy: 0.3608 - loss: 1.4802 - val_accuracy: 0.1223 - val_loss: 1.8970\n",
      "Epoch 20/300\n",
      "\u001b[1m1040/1040\u001b[0m \u001b[32m━━━━━━━━━━━━━━━━━━━━\u001b[0m\u001b[37m\u001b[0m \u001b[1m2s\u001b[0m 2ms/step - accuracy: 0.3668 - loss: 1.4715 - val_accuracy: 0.0992 - val_loss: 1.8938\n",
      "Epoch 21/300\n",
      "\u001b[1m1040/1040\u001b[0m \u001b[32m━━━━━━━━━━━━━━━━━━━━\u001b[0m\u001b[37m\u001b[0m \u001b[1m2s\u001b[0m 2ms/step - accuracy: 0.3639 - loss: 1.4728 - val_accuracy: 0.1064 - val_loss: 1.8803\n",
      "Epoch 22/300\n",
      "\u001b[1m1040/1040\u001b[0m \u001b[32m━━━━━━━━━━━━━━━━━━━━\u001b[0m\u001b[37m\u001b[0m \u001b[1m3s\u001b[0m 2ms/step - accuracy: 0.3652 - loss: 1.4710 - val_accuracy: 0.1003 - val_loss: 1.8791\n",
      "Epoch 23/300\n",
      "\u001b[1m1040/1040\u001b[0m \u001b[32m━━━━━━━━━━━━━━━━━━━━\u001b[0m\u001b[37m\u001b[0m \u001b[1m4s\u001b[0m 4ms/step - accuracy: 0.3682 - loss: 1.4726 - val_accuracy: 0.0981 - val_loss: 1.9036\n",
      "Epoch 24/300\n",
      "\u001b[1m1040/1040\u001b[0m \u001b[32m━━━━━━━━━━━━━━━━━━━━\u001b[0m\u001b[37m\u001b[0m \u001b[1m4s\u001b[0m 3ms/step - accuracy: 0.3687 - loss: 1.4695 - val_accuracy: 0.1064 - val_loss: 1.9139\n",
      "Epoch 25/300\n",
      "\u001b[1m1040/1040\u001b[0m \u001b[32m━━━━━━━━━━━━━━━━━━━━\u001b[0m\u001b[37m\u001b[0m \u001b[1m5s\u001b[0m 3ms/step - accuracy: 0.3728 - loss: 1.4626 - val_accuracy: 0.0924 - val_loss: 1.8736\n",
      "Epoch 26/300\n",
      "\u001b[1m1040/1040\u001b[0m \u001b[32m━━━━━━━━━━━━━━━━━━━━\u001b[0m\u001b[37m\u001b[0m \u001b[1m4s\u001b[0m 4ms/step - accuracy: 0.3645 - loss: 1.4685 - val_accuracy: 0.0981 - val_loss: 1.9395\n",
      "Epoch 27/300\n",
      "\u001b[1m1040/1040\u001b[0m \u001b[32m━━━━━━━━━━━━━━━━━━━━\u001b[0m\u001b[37m\u001b[0m \u001b[1m7s\u001b[0m 5ms/step - accuracy: 0.3645 - loss: 1.4764 - val_accuracy: 0.0996 - val_loss: 1.9319\n",
      "Epoch 28/300\n",
      "\u001b[1m1040/1040\u001b[0m \u001b[32m━━━━━━━━━━━━━━━━━━━━\u001b[0m\u001b[37m\u001b[0m \u001b[1m3s\u001b[0m 3ms/step - accuracy: 0.3677 - loss: 1.4654 - val_accuracy: 0.0786 - val_loss: 1.8764\n",
      "Epoch 29/300\n",
      "\u001b[1m1040/1040\u001b[0m \u001b[32m━━━━━━━━━━━━━━━━━━━━\u001b[0m\u001b[37m\u001b[0m \u001b[1m3s\u001b[0m 3ms/step - accuracy: 0.3694 - loss: 1.4659 - val_accuracy: 0.1093 - val_loss: 1.9100\n",
      "Epoch 30/300\n",
      "\u001b[1m1040/1040\u001b[0m \u001b[32m━━━━━━━━━━━━━━━━━━━━\u001b[0m\u001b[37m\u001b[0m \u001b[1m4s\u001b[0m 4ms/step - accuracy: 0.3571 - loss: 1.4737 - val_accuracy: 0.0945 - val_loss: 1.8515\n",
      "Epoch 31/300\n",
      "\u001b[1m1040/1040\u001b[0m \u001b[32m━━━━━━━━━━━━━━━━━━━━\u001b[0m\u001b[37m\u001b[0m \u001b[1m6s\u001b[0m 4ms/step - accuracy: 0.3698 - loss: 1.4578 - val_accuracy: 0.0877 - val_loss: 1.8767\n",
      "Epoch 32/300\n",
      "\u001b[1m1040/1040\u001b[0m \u001b[32m━━━━━━━━━━━━━━━━━━━━\u001b[0m\u001b[37m\u001b[0m \u001b[1m3s\u001b[0m 3ms/step - accuracy: 0.3723 - loss: 1.4605 - val_accuracy: 0.0934 - val_loss: 1.8991\n",
      "Epoch 33/300\n",
      "\u001b[1m1040/1040\u001b[0m \u001b[32m━━━━━━━━━━━━━━━━━━━━\u001b[0m\u001b[37m\u001b[0m \u001b[1m3s\u001b[0m 3ms/step - accuracy: 0.3680 - loss: 1.4609 - val_accuracy: 0.0783 - val_loss: 1.8740\n",
      "Epoch 34/300\n",
      "\u001b[1m1040/1040\u001b[0m \u001b[32m━━━━━━━━━━━━━━━━━━━━\u001b[0m\u001b[37m\u001b[0m \u001b[1m3s\u001b[0m 3ms/step - accuracy: 0.3771 - loss: 1.4596 - val_accuracy: 0.1006 - val_loss: 1.9288\n",
      "Epoch 35/300\n",
      "\u001b[1m1040/1040\u001b[0m \u001b[32m━━━━━━━━━━━━━━━━━━━━\u001b[0m\u001b[37m\u001b[0m \u001b[1m3s\u001b[0m 3ms/step - accuracy: 0.3793 - loss: 1.4545 - val_accuracy: 0.1071 - val_loss: 1.9142\n",
      "Epoch 36/300\n",
      "\u001b[1m1040/1040\u001b[0m \u001b[32m━━━━━━━━━━━━━━━━━━━━\u001b[0m\u001b[37m\u001b[0m \u001b[1m3s\u001b[0m 3ms/step - accuracy: 0.3736 - loss: 1.4638 - val_accuracy: 0.0996 - val_loss: 1.8890\n",
      "Epoch 37/300\n",
      "\u001b[1m1040/1040\u001b[0m \u001b[32m━━━━━━━━━━━━━━━━━━━━\u001b[0m\u001b[37m\u001b[0m \u001b[1m3s\u001b[0m 3ms/step - accuracy: 0.3729 - loss: 1.4646 - val_accuracy: 0.1010 - val_loss: 1.9192\n",
      "Epoch 38/300\n",
      "\u001b[1m1040/1040\u001b[0m \u001b[32m━━━━━━━━━━━━━━━━━━━━\u001b[0m\u001b[37m\u001b[0m \u001b[1m3s\u001b[0m 2ms/step - accuracy: 0.3697 - loss: 1.4605 - val_accuracy: 0.0804 - val_loss: 1.8883\n",
      "Epoch 39/300\n",
      "\u001b[1m1040/1040\u001b[0m \u001b[32m━━━━━━━━━━━━━━━━━━━━\u001b[0m\u001b[37m\u001b[0m \u001b[1m3s\u001b[0m 2ms/step - accuracy: 0.3806 - loss: 1.4530 - val_accuracy: 0.1097 - val_loss: 1.9015\n",
      "Epoch 40/300\n",
      "\u001b[1m1040/1040\u001b[0m \u001b[32m━━━━━━━━━━━━━━━━━━━━\u001b[0m\u001b[37m\u001b[0m \u001b[1m3s\u001b[0m 3ms/step - accuracy: 0.3703 - loss: 1.4531 - val_accuracy: 0.0974 - val_loss: 1.8846\n",
      "Epoch 41/300\n",
      "\u001b[1m1040/1040\u001b[0m \u001b[32m━━━━━━━━━━━━━━━━━━━━\u001b[0m\u001b[37m\u001b[0m \u001b[1m3s\u001b[0m 3ms/step - accuracy: 0.3839 - loss: 1.4458 - val_accuracy: 0.0916 - val_loss: 1.8973\n",
      "Epoch 42/300\n",
      "\u001b[1m1040/1040\u001b[0m \u001b[32m━━━━━━━━━━━━━━━━━━━━\u001b[0m\u001b[37m\u001b[0m \u001b[1m3s\u001b[0m 3ms/step - accuracy: 0.3740 - loss: 1.4651 - val_accuracy: 0.1025 - val_loss: 1.9078\n",
      "Epoch 43/300\n",
      "\u001b[1m1040/1040\u001b[0m \u001b[32m━━━━━━━━━━━━━━━━━━━━\u001b[0m\u001b[37m\u001b[0m \u001b[1m3s\u001b[0m 3ms/step - accuracy: 0.3789 - loss: 1.4531 - val_accuracy: 0.1035 - val_loss: 1.9311\n",
      "Epoch 44/300\n",
      "\u001b[1m1040/1040\u001b[0m \u001b[32m━━━━━━━━━━━━━━━━━━━━\u001b[0m\u001b[37m\u001b[0m \u001b[1m4s\u001b[0m 4ms/step - accuracy: 0.3789 - loss: 1.4493 - val_accuracy: 0.0837 - val_loss: 1.9091\n",
      "Epoch 45/300\n",
      "\u001b[1m1040/1040\u001b[0m \u001b[32m━━━━━━━━━━━━━━━━━━━━\u001b[0m\u001b[37m\u001b[0m \u001b[1m3s\u001b[0m 3ms/step - accuracy: 0.3766 - loss: 1.4528 - val_accuracy: 0.1043 - val_loss: 1.8551\n",
      "Epoch 46/300\n",
      "\u001b[1m1040/1040\u001b[0m \u001b[32m━━━━━━━━━━━━━━━━━━━━\u001b[0m\u001b[37m\u001b[0m \u001b[1m3s\u001b[0m 3ms/step - accuracy: 0.3737 - loss: 1.4550 - val_accuracy: 0.1043 - val_loss: 1.8491\n",
      "Epoch 47/300\n",
      "\u001b[1m1040/1040\u001b[0m \u001b[32m━━━━━━━━━━━━━━━━━━━━\u001b[0m\u001b[37m\u001b[0m \u001b[1m3s\u001b[0m 3ms/step - accuracy: 0.3808 - loss: 1.4489 - val_accuracy: 0.0884 - val_loss: 1.8690\n",
      "Epoch 48/300\n",
      "\u001b[1m1040/1040\u001b[0m \u001b[32m━━━━━━━━━━━━━━━━━━━━\u001b[0m\u001b[37m\u001b[0m \u001b[1m5s\u001b[0m 5ms/step - accuracy: 0.3731 - loss: 1.4466 - val_accuracy: 0.0967 - val_loss: 1.8664\n",
      "Epoch 49/300\n",
      "\u001b[1m1040/1040\u001b[0m \u001b[32m━━━━━━━━━━━━━━━━━━━━\u001b[0m\u001b[37m\u001b[0m \u001b[1m4s\u001b[0m 4ms/step - accuracy: 0.3683 - loss: 1.4598 - val_accuracy: 0.0974 - val_loss: 1.8757\n",
      "Epoch 50/300\n",
      "\u001b[1m1040/1040\u001b[0m \u001b[32m━━━━━━━━━━━━━━━━━━━━\u001b[0m\u001b[37m\u001b[0m \u001b[1m4s\u001b[0m 4ms/step - accuracy: 0.3752 - loss: 1.4479 - val_accuracy: 0.0963 - val_loss: 1.9274\n",
      "Epoch 51/300\n",
      "\u001b[1m1040/1040\u001b[0m \u001b[32m━━━━━━━━━━━━━━━━━━━━\u001b[0m\u001b[37m\u001b[0m \u001b[1m5s\u001b[0m 4ms/step - accuracy: 0.3718 - loss: 1.4592 - val_accuracy: 0.1223 - val_loss: 1.9866\n",
      "Epoch 52/300\n",
      "\u001b[1m1040/1040\u001b[0m \u001b[32m━━━━━━━━━━━━━━━━━━━━\u001b[0m\u001b[37m\u001b[0m \u001b[1m4s\u001b[0m 4ms/step - accuracy: 0.3715 - loss: 1.4558 - val_accuracy: 0.0815 - val_loss: 1.9082\n",
      "Epoch 53/300\n",
      "\u001b[1m1040/1040\u001b[0m \u001b[32m━━━━━━━━━━━━━━━━━━━━\u001b[0m\u001b[37m\u001b[0m \u001b[1m4s\u001b[0m 3ms/step - accuracy: 0.3762 - loss: 1.4477 - val_accuracy: 0.0999 - val_loss: 1.8929\n",
      "Epoch 54/300\n",
      "\u001b[1m1040/1040\u001b[0m \u001b[32m━━━━━━━━━━━━━━━━━━━━\u001b[0m\u001b[37m\u001b[0m \u001b[1m5s\u001b[0m 5ms/step - accuracy: 0.3787 - loss: 1.4490 - val_accuracy: 0.1053 - val_loss: 1.9381\n",
      "Epoch 55/300\n",
      "\u001b[1m1040/1040\u001b[0m \u001b[32m━━━━━━━━━━━━━━━━━━━━\u001b[0m\u001b[37m\u001b[0m \u001b[1m3s\u001b[0m 3ms/step - accuracy: 0.3820 - loss: 1.4481 - val_accuracy: 0.0891 - val_loss: 1.8925\n",
      "Epoch 56/300\n",
      "\u001b[1m1040/1040\u001b[0m \u001b[32m━━━━━━━━━━━━━━━━━━━━\u001b[0m\u001b[37m\u001b[0m \u001b[1m3s\u001b[0m 2ms/step - accuracy: 0.3741 - loss: 1.4576 - val_accuracy: 0.0916 - val_loss: 1.9120\n",
      "Epoch 57/300\n",
      "\u001b[1m1040/1040\u001b[0m \u001b[32m━━━━━━━━━━━━━━━━━━━━\u001b[0m\u001b[37m\u001b[0m \u001b[1m3s\u001b[0m 3ms/step - accuracy: 0.3626 - loss: 1.4494 - val_accuracy: 0.0960 - val_loss: 1.8851\n",
      "Epoch 58/300\n",
      "\u001b[1m1040/1040\u001b[0m \u001b[32m━━━━━━━━━━━━━━━━━━━━\u001b[0m\u001b[37m\u001b[0m \u001b[1m4s\u001b[0m 4ms/step - accuracy: 0.3684 - loss: 1.4523 - val_accuracy: 0.1154 - val_loss: 1.9072\n",
      "Epoch 59/300\n",
      "\u001b[1m1040/1040\u001b[0m \u001b[32m━━━━━━━━━━━━━━━━━━━━\u001b[0m\u001b[37m\u001b[0m \u001b[1m3s\u001b[0m 3ms/step - accuracy: 0.3674 - loss: 1.4565 - val_accuracy: 0.0988 - val_loss: 1.8915\n",
      "Epoch 60/300\n",
      "\u001b[1m1040/1040\u001b[0m \u001b[32m━━━━━━━━━━━━━━━━━━━━\u001b[0m\u001b[37m\u001b[0m \u001b[1m3s\u001b[0m 3ms/step - accuracy: 0.3680 - loss: 1.4583 - val_accuracy: 0.0996 - val_loss: 1.9349\n",
      "Epoch 61/300\n",
      "\u001b[1m1040/1040\u001b[0m \u001b[32m━━━━━━━━━━━━━━━━━━━━\u001b[0m\u001b[37m\u001b[0m \u001b[1m3s\u001b[0m 3ms/step - accuracy: 0.3782 - loss: 1.4453 - val_accuracy: 0.1050 - val_loss: 1.9082\n",
      "Epoch 62/300\n",
      "\u001b[1m1040/1040\u001b[0m \u001b[32m━━━━━━━━━━━━━━━━━━━━\u001b[0m\u001b[37m\u001b[0m \u001b[1m3s\u001b[0m 3ms/step - accuracy: 0.3803 - loss: 1.4428 - val_accuracy: 0.1086 - val_loss: 1.9029\n",
      "Epoch 63/300\n",
      "\u001b[1m1040/1040\u001b[0m \u001b[32m━━━━━━━━━━━━━━━━━━━━\u001b[0m\u001b[37m\u001b[0m \u001b[1m3s\u001b[0m 3ms/step - accuracy: 0.3757 - loss: 1.4385 - val_accuracy: 0.0942 - val_loss: 1.8747\n",
      "Epoch 64/300\n",
      "\u001b[1m1040/1040\u001b[0m \u001b[32m━━━━━━━━━━━━━━━━━━━━\u001b[0m\u001b[37m\u001b[0m \u001b[1m4s\u001b[0m 4ms/step - accuracy: 0.3710 - loss: 1.4476 - val_accuracy: 0.1021 - val_loss: 1.9148\n",
      "Epoch 65/300\n",
      "\u001b[1m1040/1040\u001b[0m \u001b[32m━━━━━━━━━━━━━━━━━━━━\u001b[0m\u001b[37m\u001b[0m \u001b[1m5s\u001b[0m 4ms/step - accuracy: 0.3743 - loss: 1.4458 - val_accuracy: 0.1017 - val_loss: 1.8753\n",
      "Epoch 66/300\n",
      "\u001b[1m1040/1040\u001b[0m \u001b[32m━━━━━━━━━━━━━━━━━━━━\u001b[0m\u001b[37m\u001b[0m \u001b[1m5s\u001b[0m 4ms/step - accuracy: 0.3807 - loss: 1.4388 - val_accuracy: 0.0902 - val_loss: 1.8866\n",
      "Epoch 67/300\n",
      "\u001b[1m1040/1040\u001b[0m \u001b[32m━━━━━━━━━━━━━━━━━━━━\u001b[0m\u001b[37m\u001b[0m \u001b[1m3s\u001b[0m 3ms/step - accuracy: 0.3838 - loss: 1.4370 - val_accuracy: 0.1082 - val_loss: 1.8506\n",
      "Epoch 68/300\n",
      "\u001b[1m1040/1040\u001b[0m \u001b[32m━━━━━━━━━━━━━━━━━━━━\u001b[0m\u001b[37m\u001b[0m \u001b[1m4s\u001b[0m 4ms/step - accuracy: 0.3755 - loss: 1.4552 - val_accuracy: 0.1356 - val_loss: 1.8790\n",
      "Epoch 69/300\n",
      "\u001b[1m1040/1040\u001b[0m \u001b[32m━━━━━━━━━━━━━━━━━━━━\u001b[0m\u001b[37m\u001b[0m \u001b[1m3s\u001b[0m 3ms/step - accuracy: 0.3730 - loss: 1.4417 - val_accuracy: 0.0974 - val_loss: 1.9253\n",
      "Epoch 70/300\n",
      "\u001b[1m1040/1040\u001b[0m \u001b[32m━━━━━━━━━━━━━━━━━━━━\u001b[0m\u001b[37m\u001b[0m \u001b[1m5s\u001b[0m 3ms/step - accuracy: 0.3903 - loss: 1.4353 - val_accuracy: 0.1064 - val_loss: 1.9381\n",
      "Epoch 71/300\n",
      "\u001b[1m1040/1040\u001b[0m \u001b[32m━━━━━━━━━━━━━━━━━━━━\u001b[0m\u001b[37m\u001b[0m \u001b[1m3s\u001b[0m 3ms/step - accuracy: 0.3770 - loss: 1.4441 - val_accuracy: 0.1115 - val_loss: 1.8954\n",
      "Epoch 72/300\n",
      "\u001b[1m1040/1040\u001b[0m \u001b[32m━━━━━━━━━━━━━━━━━━━━\u001b[0m\u001b[37m\u001b[0m \u001b[1m3s\u001b[0m 2ms/step - accuracy: 0.3793 - loss: 1.4392 - val_accuracy: 0.1176 - val_loss: 1.9004\n",
      "Epoch 73/300\n",
      "\u001b[1m1040/1040\u001b[0m \u001b[32m━━━━━━━━━━━━━━━━━━━━\u001b[0m\u001b[37m\u001b[0m \u001b[1m4s\u001b[0m 3ms/step - accuracy: 0.3772 - loss: 1.4424 - val_accuracy: 0.1025 - val_loss: 1.8720\n",
      "Epoch 74/300\n",
      "\u001b[1m1040/1040\u001b[0m \u001b[32m━━━━━━━━━━━━━━━━━━━━\u001b[0m\u001b[37m\u001b[0m \u001b[1m3s\u001b[0m 3ms/step - accuracy: 0.3797 - loss: 1.4407 - val_accuracy: 0.0981 - val_loss: 1.9209\n",
      "Epoch 75/300\n",
      "\u001b[1m1040/1040\u001b[0m \u001b[32m━━━━━━━━━━━━━━━━━━━━\u001b[0m\u001b[37m\u001b[0m \u001b[1m4s\u001b[0m 4ms/step - accuracy: 0.3837 - loss: 1.4360 - val_accuracy: 0.0804 - val_loss: 1.9650\n",
      "Epoch 76/300\n",
      "\u001b[1m1040/1040\u001b[0m \u001b[32m━━━━━━━━━━━━━━━━━━━━\u001b[0m\u001b[37m\u001b[0m \u001b[1m3s\u001b[0m 3ms/step - accuracy: 0.3666 - loss: 1.4440 - val_accuracy: 0.1198 - val_loss: 1.9243\n",
      "Epoch 77/300\n",
      "\u001b[1m1040/1040\u001b[0m \u001b[32m━━━━━━━━━━━━━━━━━━━━\u001b[0m\u001b[37m\u001b[0m \u001b[1m3s\u001b[0m 3ms/step - accuracy: 0.3772 - loss: 1.4424 - val_accuracy: 0.0942 - val_loss: 1.8795\n",
      "Epoch 78/300\n",
      "\u001b[1m1040/1040\u001b[0m \u001b[32m━━━━━━━━━━━━━━━━━━━━\u001b[0m\u001b[37m\u001b[0m \u001b[1m3s\u001b[0m 3ms/step - accuracy: 0.3792 - loss: 1.4421 - val_accuracy: 0.1227 - val_loss: 1.8841\n",
      "Epoch 79/300\n",
      "\u001b[1m1040/1040\u001b[0m \u001b[32m━━━━━━━━━━━━━━━━━━━━\u001b[0m\u001b[37m\u001b[0m \u001b[1m3s\u001b[0m 2ms/step - accuracy: 0.3723 - loss: 1.4443 - val_accuracy: 0.1158 - val_loss: 1.9063\n",
      "Epoch 80/300\n",
      "\u001b[1m1040/1040\u001b[0m \u001b[32m━━━━━━━━━━━━━━━━━━━━\u001b[0m\u001b[37m\u001b[0m \u001b[1m3s\u001b[0m 3ms/step - accuracy: 0.3918 - loss: 1.4242 - val_accuracy: 0.0924 - val_loss: 1.9121\n",
      "Epoch 81/300\n",
      "\u001b[1m1040/1040\u001b[0m \u001b[32m━━━━━━━━━━━━━━━━━━━━\u001b[0m\u001b[37m\u001b[0m \u001b[1m3s\u001b[0m 2ms/step - accuracy: 0.3701 - loss: 1.4455 - val_accuracy: 0.1302 - val_loss: 1.8943\n",
      "Epoch 82/300\n",
      "\u001b[1m1040/1040\u001b[0m \u001b[32m━━━━━━━━━━━━━━━━━━━━\u001b[0m\u001b[37m\u001b[0m \u001b[1m3s\u001b[0m 3ms/step - accuracy: 0.3836 - loss: 1.4350 - val_accuracy: 0.1252 - val_loss: 1.8831\n",
      "Epoch 83/300\n",
      "\u001b[1m1040/1040\u001b[0m \u001b[32m━━━━━━━━━━━━━━━━━━━━\u001b[0m\u001b[37m\u001b[0m \u001b[1m4s\u001b[0m 3ms/step - accuracy: 0.3719 - loss: 1.4478 - val_accuracy: 0.0869 - val_loss: 1.9014\n",
      "Epoch 84/300\n",
      "\u001b[1m1040/1040\u001b[0m \u001b[32m━━━━━━━━━━━━━━━━━━━━\u001b[0m\u001b[37m\u001b[0m \u001b[1m3s\u001b[0m 3ms/step - accuracy: 0.3833 - loss: 1.4316 - val_accuracy: 0.0657 - val_loss: 1.9718\n",
      "Epoch 85/300\n",
      "\u001b[1m1040/1040\u001b[0m \u001b[32m━━━━━━━━━━━━━━━━━━━━\u001b[0m\u001b[37m\u001b[0m \u001b[1m3s\u001b[0m 3ms/step - accuracy: 0.3772 - loss: 1.4362 - val_accuracy: 0.1634 - val_loss: 1.8713\n",
      "Epoch 86/300\n",
      "\u001b[1m1040/1040\u001b[0m \u001b[32m━━━━━━━━━━━━━━━━━━━━\u001b[0m\u001b[37m\u001b[0m \u001b[1m4s\u001b[0m 4ms/step - accuracy: 0.3767 - loss: 1.4336 - val_accuracy: 0.1346 - val_loss: 1.8980\n",
      "Epoch 87/300\n",
      "\u001b[1m1040/1040\u001b[0m \u001b[32m━━━━━━━━━━━━━━━━━━━━\u001b[0m\u001b[37m\u001b[0m \u001b[1m3s\u001b[0m 3ms/step - accuracy: 0.3883 - loss: 1.4284 - val_accuracy: 0.1360 - val_loss: 1.8742\n",
      "Epoch 88/300\n",
      "\u001b[1m1040/1040\u001b[0m \u001b[32m━━━━━━━━━━━━━━━━━━━━\u001b[0m\u001b[37m\u001b[0m \u001b[1m3s\u001b[0m 3ms/step - accuracy: 0.3873 - loss: 1.4229 - val_accuracy: 0.1180 - val_loss: 1.8463\n",
      "Epoch 89/300\n",
      "\u001b[1m1040/1040\u001b[0m \u001b[32m━━━━━━━━━━━━━━━━━━━━\u001b[0m\u001b[37m\u001b[0m \u001b[1m3s\u001b[0m 2ms/step - accuracy: 0.3872 - loss: 1.4284 - val_accuracy: 0.1302 - val_loss: 1.8703\n",
      "Epoch 90/300\n",
      "\u001b[1m1040/1040\u001b[0m \u001b[32m━━━━━━━━━━━━━━━━━━━━\u001b[0m\u001b[37m\u001b[0m \u001b[1m3s\u001b[0m 3ms/step - accuracy: 0.3833 - loss: 1.4285 - val_accuracy: 0.1097 - val_loss: 1.8719\n",
      "Epoch 91/300\n",
      "\u001b[1m1040/1040\u001b[0m \u001b[32m━━━━━━━━━━━━━━━━━━━━\u001b[0m\u001b[37m\u001b[0m \u001b[1m3s\u001b[0m 3ms/step - accuracy: 0.3918 - loss: 1.4181 - val_accuracy: 0.1147 - val_loss: 1.8681\n",
      "Epoch 92/300\n",
      "\u001b[1m1040/1040\u001b[0m \u001b[32m━━━━━━━━━━━━━━━━━━━━\u001b[0m\u001b[37m\u001b[0m \u001b[1m3s\u001b[0m 3ms/step - accuracy: 0.3731 - loss: 1.4275 - val_accuracy: 0.1198 - val_loss: 1.8666\n",
      "Epoch 93/300\n",
      "\u001b[1m1040/1040\u001b[0m \u001b[32m━━━━━━━━━━━━━━━━━━━━\u001b[0m\u001b[37m\u001b[0m \u001b[1m3s\u001b[0m 3ms/step - accuracy: 0.3731 - loss: 1.4369 - val_accuracy: 0.1475 - val_loss: 1.8391\n",
      "Epoch 94/300\n",
      "\u001b[1m1040/1040\u001b[0m \u001b[32m━━━━━━━━━━━━━━━━━━━━\u001b[0m\u001b[37m\u001b[0m \u001b[1m3s\u001b[0m 3ms/step - accuracy: 0.3909 - loss: 1.4265 - val_accuracy: 0.1255 - val_loss: 1.8584\n",
      "Epoch 95/300\n",
      "\u001b[1m1040/1040\u001b[0m \u001b[32m━━━━━━━━━━━━━━━━━━━━\u001b[0m\u001b[37m\u001b[0m \u001b[1m3s\u001b[0m 3ms/step - accuracy: 0.3907 - loss: 1.4296 - val_accuracy: 0.1652 - val_loss: 1.8064\n",
      "Epoch 96/300\n",
      "\u001b[1m1040/1040\u001b[0m \u001b[32m━━━━━━━━━━━━━━━━━━━━\u001b[0m\u001b[37m\u001b[0m \u001b[1m6s\u001b[0m 3ms/step - accuracy: 0.3905 - loss: 1.4213 - val_accuracy: 0.0859 - val_loss: 1.9180\n",
      "Epoch 97/300\n",
      "\u001b[1m1040/1040\u001b[0m \u001b[32m━━━━━━━━━━━━━━━━━━━━\u001b[0m\u001b[37m\u001b[0m \u001b[1m3s\u001b[0m 3ms/step - accuracy: 0.3884 - loss: 1.4256 - val_accuracy: 0.1140 - val_loss: 1.8653\n",
      "Epoch 98/300\n",
      "\u001b[1m1040/1040\u001b[0m \u001b[32m━━━━━━━━━━━━━━━━━━━━\u001b[0m\u001b[37m\u001b[0m \u001b[1m3s\u001b[0m 3ms/step - accuracy: 0.3922 - loss: 1.4214 - val_accuracy: 0.1176 - val_loss: 1.8845\n",
      "Epoch 99/300\n",
      "\u001b[1m1040/1040\u001b[0m \u001b[32m━━━━━━━━━━━━━━━━━━━━\u001b[0m\u001b[37m\u001b[0m \u001b[1m6s\u001b[0m 4ms/step - accuracy: 0.3777 - loss: 1.4260 - val_accuracy: 0.1360 - val_loss: 1.8841\n",
      "Epoch 100/300\n",
      "\u001b[1m1040/1040\u001b[0m \u001b[32m━━━━━━━━━━━━━━━━━━━━\u001b[0m\u001b[37m\u001b[0m \u001b[1m5s\u001b[0m 3ms/step - accuracy: 0.3765 - loss: 1.4237 - val_accuracy: 0.1475 - val_loss: 1.8587\n",
      "Epoch 101/300\n",
      "\u001b[1m1040/1040\u001b[0m \u001b[32m━━━━━━━━━━━━━━━━━━━━\u001b[0m\u001b[37m\u001b[0m \u001b[1m4s\u001b[0m 4ms/step - accuracy: 0.3934 - loss: 1.4232 - val_accuracy: 0.1324 - val_loss: 1.8338\n",
      "Epoch 102/300\n",
      "\u001b[1m1040/1040\u001b[0m \u001b[32m━━━━━━━━━━━━━━━━━━━━\u001b[0m\u001b[37m\u001b[0m \u001b[1m4s\u001b[0m 4ms/step - accuracy: 0.3874 - loss: 1.4208 - val_accuracy: 0.1331 - val_loss: 1.8742\n",
      "Epoch 103/300\n",
      "\u001b[1m1040/1040\u001b[0m \u001b[32m━━━━━━━━━━━━━━━━━━━━\u001b[0m\u001b[37m\u001b[0m \u001b[1m4s\u001b[0m 3ms/step - accuracy: 0.3752 - loss: 1.4237 - val_accuracy: 0.1432 - val_loss: 1.8722\n",
      "Epoch 104/300\n",
      "\u001b[1m1040/1040\u001b[0m \u001b[32m━━━━━━━━━━━━━━━━━━━━\u001b[0m\u001b[37m\u001b[0m \u001b[1m3s\u001b[0m 3ms/step - accuracy: 0.3889 - loss: 1.4207 - val_accuracy: 0.1475 - val_loss: 1.8860\n",
      "Epoch 105/300\n",
      "\u001b[1m1040/1040\u001b[0m \u001b[32m━━━━━━━━━━━━━━━━━━━━\u001b[0m\u001b[37m\u001b[0m \u001b[1m2s\u001b[0m 2ms/step - accuracy: 0.3801 - loss: 1.4265 - val_accuracy: 0.1371 - val_loss: 1.8539\n",
      "Epoch 106/300\n",
      "\u001b[1m1040/1040\u001b[0m \u001b[32m━━━━━━━━━━━━━━━━━━━━\u001b[0m\u001b[37m\u001b[0m \u001b[1m3s\u001b[0m 2ms/step - accuracy: 0.3899 - loss: 1.4164 - val_accuracy: 0.0949 - val_loss: 1.8974\n",
      "Epoch 107/300\n",
      "\u001b[1m1040/1040\u001b[0m \u001b[32m━━━━━━━━━━━━━━━━━━━━\u001b[0m\u001b[37m\u001b[0m \u001b[1m3s\u001b[0m 2ms/step - accuracy: 0.3863 - loss: 1.4255 - val_accuracy: 0.1223 - val_loss: 1.8661\n",
      "Epoch 108/300\n",
      "\u001b[1m1040/1040\u001b[0m \u001b[32m━━━━━━━━━━━━━━━━━━━━\u001b[0m\u001b[37m\u001b[0m \u001b[1m3s\u001b[0m 3ms/step - accuracy: 0.3816 - loss: 1.4310 - val_accuracy: 0.1093 - val_loss: 1.9173\n",
      "Epoch 109/300\n",
      "\u001b[1m1040/1040\u001b[0m \u001b[32m━━━━━━━━━━━━━━━━━━━━\u001b[0m\u001b[37m\u001b[0m \u001b[1m7s\u001b[0m 6ms/step - accuracy: 0.3780 - loss: 1.4255 - val_accuracy: 0.1136 - val_loss: 1.9124\n",
      "Epoch 110/300\n",
      "\u001b[1m1040/1040\u001b[0m \u001b[32m━━━━━━━━━━━━━━━━━━━━\u001b[0m\u001b[37m\u001b[0m \u001b[1m9s\u001b[0m 5ms/step - accuracy: 0.3736 - loss: 1.4292 - val_accuracy: 0.0996 - val_loss: 1.9629\n",
      "Epoch 111/300\n",
      "\u001b[1m1040/1040\u001b[0m \u001b[32m━━━━━━━━━━━━━━━━━━━━\u001b[0m\u001b[37m\u001b[0m \u001b[1m16s\u001b[0m 9ms/step - accuracy: 0.3785 - loss: 1.4275 - val_accuracy: 0.1194 - val_loss: 1.8842\n",
      "Epoch 112/300\n",
      "\u001b[1m1040/1040\u001b[0m \u001b[32m━━━━━━━━━━━━━━━━━━━━\u001b[0m\u001b[37m\u001b[0m \u001b[1m6s\u001b[0m 5ms/step - accuracy: 0.3846 - loss: 1.4109 - val_accuracy: 0.1328 - val_loss: 1.8748\n",
      "Epoch 113/300\n",
      "\u001b[1m1040/1040\u001b[0m \u001b[32m━━━━━━━━━━━━━━━━━━━━\u001b[0m\u001b[37m\u001b[0m \u001b[1m4s\u001b[0m 4ms/step - accuracy: 0.3782 - loss: 1.4298 - val_accuracy: 0.1089 - val_loss: 1.9170\n",
      "Epoch 114/300\n",
      "\u001b[1m1040/1040\u001b[0m \u001b[32m━━━━━━━━━━━━━━━━━━━━\u001b[0m\u001b[37m\u001b[0m \u001b[1m7s\u001b[0m 6ms/step - accuracy: 0.3817 - loss: 1.4222 - val_accuracy: 0.1061 - val_loss: 1.9306\n",
      "Epoch 115/300\n",
      "\u001b[1m1040/1040\u001b[0m \u001b[32m━━━━━━━━━━━━━━━━━━━━\u001b[0m\u001b[37m\u001b[0m \u001b[1m10s\u001b[0m 5ms/step - accuracy: 0.3912 - loss: 1.4132 - val_accuracy: 0.1071 - val_loss: 1.9316\n",
      "Epoch 116/300\n",
      "\u001b[1m1040/1040\u001b[0m \u001b[32m━━━━━━━━━━━━━━━━━━━━\u001b[0m\u001b[37m\u001b[0m \u001b[1m8s\u001b[0m 3ms/step - accuracy: 0.3929 - loss: 1.4097 - val_accuracy: 0.1216 - val_loss: 1.8602\n",
      "Epoch 117/300\n",
      "\u001b[1m1040/1040\u001b[0m \u001b[32m━━━━━━━━━━━━━━━━━━━━\u001b[0m\u001b[37m\u001b[0m \u001b[1m4s\u001b[0m 4ms/step - accuracy: 0.3770 - loss: 1.4141 - val_accuracy: 0.1248 - val_loss: 1.8708\n",
      "Epoch 118/300\n",
      "\u001b[1m1040/1040\u001b[0m \u001b[32m━━━━━━━━━━━━━━━━━━━━\u001b[0m\u001b[37m\u001b[0m \u001b[1m5s\u001b[0m 4ms/step - accuracy: 0.3794 - loss: 1.4164 - val_accuracy: 0.0920 - val_loss: 1.9744\n",
      "Epoch 119/300\n",
      "\u001b[1m1040/1040\u001b[0m \u001b[32m━━━━━━━━━━━━━━━━━━━━\u001b[0m\u001b[37m\u001b[0m \u001b[1m3s\u001b[0m 3ms/step - accuracy: 0.3868 - loss: 1.4199 - val_accuracy: 0.1631 - val_loss: 1.8771\n",
      "Epoch 120/300\n",
      "\u001b[1m1040/1040\u001b[0m \u001b[32m━━━━━━━━━━━━━━━━━━━━\u001b[0m\u001b[37m\u001b[0m \u001b[1m3s\u001b[0m 3ms/step - accuracy: 0.3869 - loss: 1.4148 - val_accuracy: 0.1447 - val_loss: 1.8760\n",
      "Epoch 121/300\n",
      "\u001b[1m1040/1040\u001b[0m \u001b[32m━━━━━━━━━━━━━━━━━━━━\u001b[0m\u001b[37m\u001b[0m \u001b[1m4s\u001b[0m 3ms/step - accuracy: 0.3799 - loss: 1.4174 - val_accuracy: 0.1100 - val_loss: 1.9146\n",
      "Epoch 122/300\n",
      "\u001b[1m1040/1040\u001b[0m \u001b[32m━━━━━━━━━━━━━━━━━━━━\u001b[0m\u001b[37m\u001b[0m \u001b[1m4s\u001b[0m 4ms/step - accuracy: 0.3936 - loss: 1.4027 - val_accuracy: 0.1328 - val_loss: 1.8544\n",
      "Epoch 123/300\n",
      "\u001b[1m1040/1040\u001b[0m \u001b[32m━━━━━━━━━━━━━━━━━━━━\u001b[0m\u001b[37m\u001b[0m \u001b[1m3s\u001b[0m 3ms/step - accuracy: 0.3891 - loss: 1.4118 - val_accuracy: 0.1201 - val_loss: 1.9264\n",
      "Epoch 124/300\n",
      "\u001b[1m1040/1040\u001b[0m \u001b[32m━━━━━━━━━━━━━━━━━━━━\u001b[0m\u001b[37m\u001b[0m \u001b[1m4s\u001b[0m 4ms/step - accuracy: 0.3820 - loss: 1.4142 - val_accuracy: 0.1952 - val_loss: 1.8678\n",
      "Epoch 125/300\n",
      "\u001b[1m1040/1040\u001b[0m \u001b[32m━━━━━━━━━━━━━━━━━━━━\u001b[0m\u001b[37m\u001b[0m \u001b[1m4s\u001b[0m 4ms/step - accuracy: 0.3882 - loss: 1.4121 - val_accuracy: 0.1136 - val_loss: 1.8714\n",
      "Epoch 126/300\n",
      "\u001b[1m1040/1040\u001b[0m \u001b[32m━━━━━━━━━━━━━━━━━━━━\u001b[0m\u001b[37m\u001b[0m \u001b[1m3s\u001b[0m 3ms/step - accuracy: 0.3957 - loss: 1.4061 - val_accuracy: 0.0393 - val_loss: 1.9096\n",
      "Epoch 127/300\n",
      "\u001b[1m1040/1040\u001b[0m \u001b[32m━━━━━━━━━━━━━━━━━━━━\u001b[0m\u001b[37m\u001b[0m \u001b[1m4s\u001b[0m 4ms/step - accuracy: 0.3811 - loss: 1.4161 - val_accuracy: 0.1165 - val_loss: 1.8695\n",
      "Epoch 128/300\n",
      "\u001b[1m1040/1040\u001b[0m \u001b[32m━━━━━━━━━━━━━━━━━━━━\u001b[0m\u001b[37m\u001b[0m \u001b[1m3s\u001b[0m 3ms/step - accuracy: 0.3908 - loss: 1.4053 - val_accuracy: 0.1165 - val_loss: 1.8854\n",
      "Epoch 129/300\n",
      "\u001b[1m1040/1040\u001b[0m \u001b[32m━━━━━━━━━━━━━━━━━━━━\u001b[0m\u001b[37m\u001b[0m \u001b[1m4s\u001b[0m 4ms/step - accuracy: 0.3979 - loss: 1.3980 - val_accuracy: 0.0988 - val_loss: 1.9334\n",
      "Epoch 130/300\n",
      "\u001b[1m1040/1040\u001b[0m \u001b[32m━━━━━━━━━━━━━━━━━━━━\u001b[0m\u001b[37m\u001b[0m \u001b[1m3s\u001b[0m 3ms/step - accuracy: 0.4031 - loss: 1.4006 - val_accuracy: 0.1566 - val_loss: 1.8146\n",
      "Epoch 131/300\n",
      "\u001b[1m1040/1040\u001b[0m \u001b[32m━━━━━━━━━━━━━━━━━━━━\u001b[0m\u001b[37m\u001b[0m \u001b[1m6s\u001b[0m 4ms/step - accuracy: 0.3873 - loss: 1.4168 - val_accuracy: 0.0905 - val_loss: 1.8785\n",
      "Epoch 132/300\n",
      "\u001b[1m1040/1040\u001b[0m \u001b[32m━━━━━━━━━━━━━━━━━━━━\u001b[0m\u001b[37m\u001b[0m \u001b[1m4s\u001b[0m 4ms/step - accuracy: 0.3866 - loss: 1.4122 - val_accuracy: 0.0974 - val_loss: 1.8894\n",
      "Epoch 133/300\n",
      "\u001b[1m1040/1040\u001b[0m \u001b[32m━━━━━━━━━━━━━━━━━━━━\u001b[0m\u001b[37m\u001b[0m \u001b[1m4s\u001b[0m 4ms/step - accuracy: 0.3958 - loss: 1.4064 - val_accuracy: 0.1147 - val_loss: 1.8894\n",
      "Epoch 134/300\n",
      "\u001b[1m1040/1040\u001b[0m \u001b[32m━━━━━━━━━━━━━━━━━━━━\u001b[0m\u001b[37m\u001b[0m \u001b[1m6s\u001b[0m 6ms/step - accuracy: 0.3935 - loss: 1.4075 - val_accuracy: 0.1374 - val_loss: 1.8474\n",
      "Epoch 135/300\n",
      "\u001b[1m1040/1040\u001b[0m \u001b[32m━━━━━━━━━━━━━━━━━━━━\u001b[0m\u001b[37m\u001b[0m \u001b[1m13s\u001b[0m 8ms/step - accuracy: 0.3984 - loss: 1.4026 - val_accuracy: 0.1490 - val_loss: 1.8479\n",
      "Epoch 136/300\n",
      "\u001b[1m1040/1040\u001b[0m \u001b[32m━━━━━━━━━━━━━━━━━━━━\u001b[0m\u001b[37m\u001b[0m \u001b[1m5s\u001b[0m 5ms/step - accuracy: 0.3975 - loss: 1.4047 - val_accuracy: 0.0841 - val_loss: 1.8944\n",
      "Epoch 137/300\n",
      "\u001b[1m1040/1040\u001b[0m \u001b[32m━━━━━━━━━━━━━━━━━━━━\u001b[0m\u001b[37m\u001b[0m \u001b[1m4s\u001b[0m 4ms/step - accuracy: 0.3990 - loss: 1.3997 - val_accuracy: 0.1858 - val_loss: 1.8625\n",
      "Epoch 138/300\n",
      "\u001b[1m1040/1040\u001b[0m \u001b[32m━━━━━━━━━━━━━━━━━━━━\u001b[0m\u001b[37m\u001b[0m \u001b[1m4s\u001b[0m 3ms/step - accuracy: 0.4063 - loss: 1.3927 - val_accuracy: 0.0693 - val_loss: 1.9074\n",
      "Epoch 139/300\n",
      "\u001b[1m1040/1040\u001b[0m \u001b[32m━━━━━━━━━━━━━━━━━━━━\u001b[0m\u001b[37m\u001b[0m \u001b[1m4s\u001b[0m 3ms/step - accuracy: 0.4055 - loss: 1.3949 - val_accuracy: 0.1093 - val_loss: 1.8832\n",
      "Epoch 140/300\n",
      "\u001b[1m1040/1040\u001b[0m \u001b[32m━━━━━━━━━━━━━━━━━━━━\u001b[0m\u001b[37m\u001b[0m \u001b[1m7s\u001b[0m 5ms/step - accuracy: 0.3999 - loss: 1.3995 - val_accuracy: 0.0851 - val_loss: 1.9070\n",
      "Epoch 141/300\n",
      "\u001b[1m1040/1040\u001b[0m \u001b[32m━━━━━━━━━━━━━━━━━━━━\u001b[0m\u001b[37m\u001b[0m \u001b[1m7s\u001b[0m 6ms/step - accuracy: 0.4038 - loss: 1.3962 - val_accuracy: 0.0754 - val_loss: 1.9004\n",
      "Epoch 142/300\n",
      "\u001b[1m1040/1040\u001b[0m \u001b[32m━━━━━━━━━━━━━━━━━━━━\u001b[0m\u001b[37m\u001b[0m \u001b[1m11s\u001b[0m 6ms/step - accuracy: 0.3987 - loss: 1.3991 - val_accuracy: 0.1310 - val_loss: 1.8697\n",
      "Epoch 143/300\n",
      "\u001b[1m1040/1040\u001b[0m \u001b[32m━━━━━━━━━━━━━━━━━━━━\u001b[0m\u001b[37m\u001b[0m \u001b[1m11s\u001b[0m 7ms/step - accuracy: 0.3962 - loss: 1.3994 - val_accuracy: 0.0808 - val_loss: 1.9125\n",
      "Epoch 144/300\n",
      "\u001b[1m1040/1040\u001b[0m \u001b[32m━━━━━━━━━━━━━━━━━━━━\u001b[0m\u001b[37m\u001b[0m \u001b[1m10s\u001b[0m 6ms/step - accuracy: 0.3996 - loss: 1.3931 - val_accuracy: 0.0714 - val_loss: 1.8995\n",
      "Epoch 145/300\n",
      "\u001b[1m1040/1040\u001b[0m \u001b[32m━━━━━━━━━━━━━━━━━━━━\u001b[0m\u001b[37m\u001b[0m \u001b[1m8s\u001b[0m 3ms/step - accuracy: 0.3931 - loss: 1.4048 - val_accuracy: 0.0581 - val_loss: 2.0132\n",
      "Epoch 146/300\n",
      "\u001b[1m1040/1040\u001b[0m \u001b[32m━━━━━━━━━━━━━━━━━━━━\u001b[0m\u001b[37m\u001b[0m \u001b[1m4s\u001b[0m 4ms/step - accuracy: 0.3913 - loss: 1.4066 - val_accuracy: 0.0667 - val_loss: 1.9092\n",
      "Epoch 147/300\n",
      "\u001b[1m1040/1040\u001b[0m \u001b[32m━━━━━━━━━━━━━━━━━━━━\u001b[0m\u001b[37m\u001b[0m \u001b[1m4s\u001b[0m 4ms/step - accuracy: 0.4094 - loss: 1.3897 - val_accuracy: 0.1382 - val_loss: 1.8044\n",
      "Epoch 148/300\n",
      "\u001b[1m1040/1040\u001b[0m \u001b[32m━━━━━━━━━━━━━━━━━━━━\u001b[0m\u001b[37m\u001b[0m \u001b[1m6s\u001b[0m 5ms/step - accuracy: 0.4012 - loss: 1.3980 - val_accuracy: 0.0602 - val_loss: 1.9418\n",
      "Epoch 149/300\n",
      "\u001b[1m1040/1040\u001b[0m \u001b[32m━━━━━━━━━━━━━━━━━━━━\u001b[0m\u001b[37m\u001b[0m \u001b[1m5s\u001b[0m 5ms/step - accuracy: 0.3983 - loss: 1.3941 - val_accuracy: 0.0624 - val_loss: 1.9101\n",
      "Epoch 150/300\n",
      "\u001b[1m1040/1040\u001b[0m \u001b[32m━━━━━━━━━━━━━━━━━━━━\u001b[0m\u001b[37m\u001b[0m \u001b[1m8s\u001b[0m 3ms/step - accuracy: 0.3939 - loss: 1.4058 - val_accuracy: 0.0519 - val_loss: 1.8818\n",
      "Epoch 151/300\n",
      "\u001b[1m1040/1040\u001b[0m \u001b[32m━━━━━━━━━━━━━━━━━━━━\u001b[0m\u001b[37m\u001b[0m \u001b[1m4s\u001b[0m 4ms/step - accuracy: 0.4152 - loss: 1.3841 - val_accuracy: 0.1147 - val_loss: 1.7905\n",
      "Epoch 152/300\n",
      "\u001b[1m1040/1040\u001b[0m \u001b[32m━━━━━━━━━━━━━━━━━━━━\u001b[0m\u001b[37m\u001b[0m \u001b[1m4s\u001b[0m 3ms/step - accuracy: 0.4191 - loss: 1.3876 - val_accuracy: 0.0891 - val_loss: 1.8728\n",
      "Epoch 153/300\n",
      "\u001b[1m1040/1040\u001b[0m \u001b[32m━━━━━━━━━━━━━━━━━━━━\u001b[0m\u001b[37m\u001b[0m \u001b[1m4s\u001b[0m 4ms/step - accuracy: 0.4107 - loss: 1.3914 - val_accuracy: 0.0660 - val_loss: 1.8954\n",
      "Epoch 154/300\n",
      "\u001b[1m1040/1040\u001b[0m \u001b[32m━━━━━━━━━━━━━━━━━━━━\u001b[0m\u001b[37m\u001b[0m \u001b[1m5s\u001b[0m 3ms/step - accuracy: 0.4207 - loss: 1.3810 - val_accuracy: 0.0426 - val_loss: 1.9616\n",
      "Epoch 155/300\n",
      "\u001b[1m1040/1040\u001b[0m \u001b[32m━━━━━━━━━━━━━━━━━━━━\u001b[0m\u001b[37m\u001b[0m \u001b[1m5s\u001b[0m 3ms/step - accuracy: 0.4019 - loss: 1.3944 - val_accuracy: 0.0819 - val_loss: 1.8863\n",
      "Epoch 156/300\n",
      "\u001b[1m1040/1040\u001b[0m \u001b[32m━━━━━━━━━━━━━━━━━━━━\u001b[0m\u001b[37m\u001b[0m \u001b[1m4s\u001b[0m 4ms/step - accuracy: 0.4108 - loss: 1.3831 - val_accuracy: 0.0574 - val_loss: 1.9960\n",
      "Epoch 157/300\n",
      "\u001b[1m1040/1040\u001b[0m \u001b[32m━━━━━━━━━━━━━━━━━━━━\u001b[0m\u001b[37m\u001b[0m \u001b[1m3s\u001b[0m 3ms/step - accuracy: 0.4165 - loss: 1.3792 - val_accuracy: 0.0895 - val_loss: 1.8340\n",
      "Epoch 158/300\n",
      "\u001b[1m1040/1040\u001b[0m \u001b[32m━━━━━━━━━━━━━━━━━━━━\u001b[0m\u001b[37m\u001b[0m \u001b[1m3s\u001b[0m 3ms/step - accuracy: 0.4177 - loss: 1.3769 - val_accuracy: 0.1205 - val_loss: 1.7771\n",
      "Epoch 159/300\n",
      "\u001b[1m1040/1040\u001b[0m \u001b[32m━━━━━━━━━━━━━━━━━━━━\u001b[0m\u001b[37m\u001b[0m \u001b[1m3s\u001b[0m 3ms/step - accuracy: 0.4156 - loss: 1.3842 - val_accuracy: 0.0649 - val_loss: 1.9606\n",
      "Epoch 160/300\n",
      "\u001b[1m1040/1040\u001b[0m \u001b[32m━━━━━━━━━━━━━━━━━━━━\u001b[0m\u001b[37m\u001b[0m \u001b[1m3s\u001b[0m 3ms/step - accuracy: 0.4075 - loss: 1.3852 - val_accuracy: 0.0635 - val_loss: 1.9818\n",
      "Epoch 161/300\n",
      "\u001b[1m1040/1040\u001b[0m \u001b[32m━━━━━━━━━━━━━━━━━━━━\u001b[0m\u001b[37m\u001b[0m \u001b[1m3s\u001b[0m 3ms/step - accuracy: 0.4174 - loss: 1.3786 - val_accuracy: 0.0509 - val_loss: 1.9680\n",
      "Epoch 162/300\n",
      "\u001b[1m1040/1040\u001b[0m \u001b[32m━━━━━━━━━━━━━━━━━━━━\u001b[0m\u001b[37m\u001b[0m \u001b[1m6s\u001b[0m 6ms/step - accuracy: 0.4077 - loss: 1.3769 - val_accuracy: 0.0411 - val_loss: 1.9225\n",
      "Epoch 163/300\n",
      "\u001b[1m1040/1040\u001b[0m \u001b[32m━━━━━━━━━━━━━━━━━━━━\u001b[0m\u001b[37m\u001b[0m \u001b[1m3s\u001b[0m 3ms/step - accuracy: 0.4180 - loss: 1.3743 - val_accuracy: 0.0696 - val_loss: 1.9628\n",
      "Epoch 164/300\n",
      "\u001b[1m1040/1040\u001b[0m \u001b[32m━━━━━━━━━━━━━━━━━━━━\u001b[0m\u001b[37m\u001b[0m \u001b[1m5s\u001b[0m 4ms/step - accuracy: 0.3938 - loss: 1.3816 - val_accuracy: 0.0657 - val_loss: 1.9066\n",
      "Epoch 165/300\n",
      "\u001b[1m1040/1040\u001b[0m \u001b[32m━━━━━━━━━━━━━━━━━━━━\u001b[0m\u001b[37m\u001b[0m \u001b[1m6s\u001b[0m 6ms/step - accuracy: 0.4170 - loss: 1.3705 - val_accuracy: 0.0823 - val_loss: 1.8629\n",
      "Epoch 166/300\n",
      "\u001b[1m1040/1040\u001b[0m \u001b[32m━━━━━━━━━━━━━━━━━━━━\u001b[0m\u001b[37m\u001b[0m \u001b[1m3s\u001b[0m 3ms/step - accuracy: 0.4195 - loss: 1.3751 - val_accuracy: 0.0451 - val_loss: 1.9684\n",
      "Epoch 167/300\n",
      "\u001b[1m1040/1040\u001b[0m \u001b[32m━━━━━━━━━━━━━━━━━━━━\u001b[0m\u001b[37m\u001b[0m \u001b[1m4s\u001b[0m 3ms/step - accuracy: 0.4222 - loss: 1.3793 - val_accuracy: 0.1497 - val_loss: 1.8624\n",
      "Epoch 168/300\n",
      "\u001b[1m1040/1040\u001b[0m \u001b[32m━━━━━━━━━━━━━━━━━━━━\u001b[0m\u001b[37m\u001b[0m \u001b[1m3s\u001b[0m 3ms/step - accuracy: 0.4243 - loss: 1.3725 - val_accuracy: 0.1032 - val_loss: 1.8315\n",
      "Epoch 169/300\n",
      "\u001b[1m1040/1040\u001b[0m \u001b[32m━━━━━━━━━━━━━━━━━━━━\u001b[0m\u001b[37m\u001b[0m \u001b[1m4s\u001b[0m 4ms/step - accuracy: 0.4091 - loss: 1.3793 - val_accuracy: 0.0974 - val_loss: 1.7729\n",
      "Epoch 170/300\n",
      "\u001b[1m1040/1040\u001b[0m \u001b[32m━━━━━━━━━━━━━━━━━━━━\u001b[0m\u001b[37m\u001b[0m \u001b[1m5s\u001b[0m 4ms/step - accuracy: 0.3954 - loss: 1.3936 - val_accuracy: 0.0841 - val_loss: 1.9179\n",
      "Epoch 171/300\n",
      "\u001b[1m1040/1040\u001b[0m \u001b[32m━━━━━━━━━━━━━━━━━━━━\u001b[0m\u001b[37m\u001b[0m \u001b[1m4s\u001b[0m 3ms/step - accuracy: 0.4235 - loss: 1.3699 - val_accuracy: 0.1043 - val_loss: 1.8482\n",
      "Epoch 172/300\n",
      "\u001b[1m1040/1040\u001b[0m \u001b[32m━━━━━━━━━━━━━━━━━━━━\u001b[0m\u001b[37m\u001b[0m \u001b[1m4s\u001b[0m 4ms/step - accuracy: 0.4219 - loss: 1.3725 - val_accuracy: 0.0631 - val_loss: 1.9897\n",
      "Epoch 173/300\n",
      "\u001b[1m1040/1040\u001b[0m \u001b[32m━━━━━━━━━━━━━━━━━━━━\u001b[0m\u001b[37m\u001b[0m \u001b[1m6s\u001b[0m 5ms/step - accuracy: 0.4213 - loss: 1.3605 - val_accuracy: 0.0527 - val_loss: 1.9582\n",
      "Epoch 174/300\n",
      "\u001b[1m1040/1040\u001b[0m \u001b[32m━━━━━━━━━━━━━━━━━━━━\u001b[0m\u001b[37m\u001b[0m \u001b[1m4s\u001b[0m 4ms/step - accuracy: 0.4140 - loss: 1.3690 - val_accuracy: 0.0501 - val_loss: 1.9661\n",
      "Epoch 175/300\n",
      "\u001b[1m1040/1040\u001b[0m \u001b[32m━━━━━━━━━━━━━━━━━━━━\u001b[0m\u001b[37m\u001b[0m \u001b[1m4s\u001b[0m 3ms/step - accuracy: 0.4218 - loss: 1.3799 - val_accuracy: 0.0855 - val_loss: 1.9241\n",
      "Epoch 176/300\n",
      "\u001b[1m1040/1040\u001b[0m \u001b[32m━━━━━━━━━━━━━━━━━━━━\u001b[0m\u001b[37m\u001b[0m \u001b[1m4s\u001b[0m 4ms/step - accuracy: 0.4173 - loss: 1.3788 - val_accuracy: 0.0548 - val_loss: 1.9316\n",
      "Epoch 177/300\n",
      "\u001b[1m1040/1040\u001b[0m \u001b[32m━━━━━━━━━━━━━━━━━━━━\u001b[0m\u001b[37m\u001b[0m \u001b[1m6s\u001b[0m 4ms/step - accuracy: 0.4237 - loss: 1.3736 - val_accuracy: 0.0851 - val_loss: 1.9179\n",
      "Epoch 178/300\n",
      "\u001b[1m1040/1040\u001b[0m \u001b[32m━━━━━━━━━━━━━━━━━━━━\u001b[0m\u001b[37m\u001b[0m \u001b[1m4s\u001b[0m 4ms/step - accuracy: 0.4283 - loss: 1.3672 - val_accuracy: 0.0617 - val_loss: 1.9601\n",
      "Epoch 179/300\n",
      "\u001b[1m1040/1040\u001b[0m \u001b[32m━━━━━━━━━━━━━━━━━━━━\u001b[0m\u001b[37m\u001b[0m \u001b[1m5s\u001b[0m 5ms/step - accuracy: 0.4241 - loss: 1.3644 - val_accuracy: 0.0696 - val_loss: 1.9528\n",
      "Epoch 180/300\n",
      "\u001b[1m1040/1040\u001b[0m \u001b[32m━━━━━━━━━━━━━━━━━━━━\u001b[0m\u001b[37m\u001b[0m \u001b[1m5s\u001b[0m 4ms/step - accuracy: 0.4272 - loss: 1.3581 - val_accuracy: 0.0776 - val_loss: 1.9773\n",
      "Epoch 181/300\n",
      "\u001b[1m1040/1040\u001b[0m \u001b[32m━━━━━━━━━━━━━━━━━━━━\u001b[0m\u001b[37m\u001b[0m \u001b[1m5s\u001b[0m 4ms/step - accuracy: 0.4147 - loss: 1.3804 - val_accuracy: 0.0841 - val_loss: 1.9187\n",
      "Epoch 182/300\n",
      "\u001b[1m1040/1040\u001b[0m \u001b[32m━━━━━━━━━━━━━━━━━━━━\u001b[0m\u001b[37m\u001b[0m \u001b[1m5s\u001b[0m 4ms/step - accuracy: 0.4207 - loss: 1.3667 - val_accuracy: 0.0952 - val_loss: 1.9220\n",
      "Epoch 183/300\n",
      "\u001b[1m1040/1040\u001b[0m \u001b[32m━━━━━━━━━━━━━━━━━━━━\u001b[0m\u001b[37m\u001b[0m \u001b[1m4s\u001b[0m 4ms/step - accuracy: 0.4166 - loss: 1.3849 - val_accuracy: 0.0703 - val_loss: 1.9271\n",
      "Epoch 184/300\n",
      "\u001b[1m1040/1040\u001b[0m \u001b[32m━━━━━━━━━━━━━━━━━━━━\u001b[0m\u001b[37m\u001b[0m \u001b[1m5s\u001b[0m 5ms/step - accuracy: 0.4197 - loss: 1.3687 - val_accuracy: 0.0693 - val_loss: 1.9961\n",
      "Epoch 185/300\n",
      "\u001b[1m1040/1040\u001b[0m \u001b[32m━━━━━━━━━━━━━━━━━━━━\u001b[0m\u001b[37m\u001b[0m \u001b[1m4s\u001b[0m 3ms/step - accuracy: 0.4259 - loss: 1.3682 - val_accuracy: 0.0841 - val_loss: 1.9066\n",
      "Epoch 186/300\n",
      "\u001b[1m1040/1040\u001b[0m \u001b[32m━━━━━━━━━━━━━━━━━━━━\u001b[0m\u001b[37m\u001b[0m \u001b[1m7s\u001b[0m 7ms/step - accuracy: 0.4228 - loss: 1.3683 - val_accuracy: 0.0696 - val_loss: 1.9369\n",
      "Epoch 187/300\n",
      "\u001b[1m1040/1040\u001b[0m \u001b[32m━━━━━━━━━━━━━━━━━━━━\u001b[0m\u001b[37m\u001b[0m \u001b[1m8s\u001b[0m 5ms/step - accuracy: 0.4178 - loss: 1.3693 - val_accuracy: 0.0830 - val_loss: 1.8990\n",
      "Epoch 188/300\n",
      "\u001b[1m1040/1040\u001b[0m \u001b[32m━━━━━━━━━━━━━━━━━━━━\u001b[0m\u001b[37m\u001b[0m \u001b[1m5s\u001b[0m 5ms/step - accuracy: 0.4269 - loss: 1.3597 - val_accuracy: 0.0545 - val_loss: 2.0276\n",
      "Epoch 189/300\n",
      "\u001b[1m1040/1040\u001b[0m \u001b[32m━━━━━━━━━━━━━━━━━━━━\u001b[0m\u001b[37m\u001b[0m \u001b[1m5s\u001b[0m 5ms/step - accuracy: 0.4145 - loss: 1.3711 - val_accuracy: 0.0523 - val_loss: 1.9838\n",
      "Epoch 190/300\n",
      "\u001b[1m1040/1040\u001b[0m \u001b[32m━━━━━━━━━━━━━━━━━━━━\u001b[0m\u001b[37m\u001b[0m \u001b[1m5s\u001b[0m 5ms/step - accuracy: 0.4258 - loss: 1.3608 - val_accuracy: 0.0498 - val_loss: 2.0914\n",
      "Epoch 191/300\n",
      "\u001b[1m1040/1040\u001b[0m \u001b[32m━━━━━━━━━━━━━━━━━━━━\u001b[0m\u001b[37m\u001b[0m \u001b[1m3s\u001b[0m 3ms/step - accuracy: 0.4169 - loss: 1.3734 - val_accuracy: 0.0343 - val_loss: 2.0390\n",
      "Epoch 192/300\n",
      "\u001b[1m1040/1040\u001b[0m \u001b[32m━━━━━━━━━━━━━━━━━━━━\u001b[0m\u001b[37m\u001b[0m \u001b[1m3s\u001b[0m 3ms/step - accuracy: 0.4184 - loss: 1.3787 - val_accuracy: 0.0718 - val_loss: 1.9514\n",
      "Epoch 193/300\n",
      "\u001b[1m1040/1040\u001b[0m \u001b[32m━━━━━━━━━━━━━━━━━━━━\u001b[0m\u001b[37m\u001b[0m \u001b[1m3s\u001b[0m 3ms/step - accuracy: 0.4330 - loss: 1.3558 - val_accuracy: 0.0552 - val_loss: 2.0068\n",
      "Epoch 194/300\n",
      "\u001b[1m1040/1040\u001b[0m \u001b[32m━━━━━━━━━━━━━━━━━━━━\u001b[0m\u001b[37m\u001b[0m \u001b[1m4s\u001b[0m 3ms/step - accuracy: 0.4286 - loss: 1.3582 - val_accuracy: 0.0718 - val_loss: 1.8738\n",
      "Epoch 195/300\n",
      "\u001b[1m1040/1040\u001b[0m \u001b[32m━━━━━━━━━━━━━━━━━━━━\u001b[0m\u001b[37m\u001b[0m \u001b[1m5s\u001b[0m 3ms/step - accuracy: 0.4200 - loss: 1.3579 - val_accuracy: 0.0725 - val_loss: 1.8921\n",
      "Epoch 196/300\n",
      "\u001b[1m1040/1040\u001b[0m \u001b[32m━━━━━━━━━━━━━━━━━━━━\u001b[0m\u001b[37m\u001b[0m \u001b[1m3s\u001b[0m 3ms/step - accuracy: 0.4344 - loss: 1.3587 - val_accuracy: 0.0606 - val_loss: 1.9712\n",
      "Epoch 197/300\n",
      "\u001b[1m1040/1040\u001b[0m \u001b[32m━━━━━━━━━━━━━━━━━━━━\u001b[0m\u001b[37m\u001b[0m \u001b[1m3s\u001b[0m 3ms/step - accuracy: 0.4084 - loss: 1.3764 - val_accuracy: 0.0501 - val_loss: 2.0003\n",
      "Epoch 198/300\n",
      "\u001b[1m1040/1040\u001b[0m \u001b[32m━━━━━━━━━━━━━━━━━━━━\u001b[0m\u001b[37m\u001b[0m \u001b[1m5s\u001b[0m 5ms/step - accuracy: 0.4369 - loss: 1.3443 - val_accuracy: 0.0628 - val_loss: 1.9737\n",
      "Epoch 199/300\n",
      "\u001b[1m1040/1040\u001b[0m \u001b[32m━━━━━━━━━━━━━━━━━━━━\u001b[0m\u001b[37m\u001b[0m \u001b[1m4s\u001b[0m 4ms/step - accuracy: 0.4267 - loss: 1.3634 - val_accuracy: 0.0606 - val_loss: 1.9419\n",
      "Epoch 200/300\n",
      "\u001b[1m1040/1040\u001b[0m \u001b[32m━━━━━━━━━━━━━━━━━━━━\u001b[0m\u001b[37m\u001b[0m \u001b[1m4s\u001b[0m 4ms/step - accuracy: 0.4236 - loss: 1.3624 - val_accuracy: 0.0841 - val_loss: 1.8912\n",
      "Epoch 201/300\n",
      "\u001b[1m1040/1040\u001b[0m \u001b[32m━━━━━━━━━━━━━━━━━━━━\u001b[0m\u001b[37m\u001b[0m \u001b[1m3s\u001b[0m 3ms/step - accuracy: 0.4187 - loss: 1.3641 - val_accuracy: 0.1154 - val_loss: 1.8209\n",
      "Epoch 202/300\n",
      "\u001b[1m1040/1040\u001b[0m \u001b[32m━━━━━━━━━━━━━━━━━━━━\u001b[0m\u001b[37m\u001b[0m \u001b[1m3s\u001b[0m 3ms/step - accuracy: 0.4125 - loss: 1.3604 - val_accuracy: 0.0588 - val_loss: 1.9797\n",
      "Epoch 203/300\n",
      "\u001b[1m1040/1040\u001b[0m \u001b[32m━━━━━━━━━━━━━━━━━━━━\u001b[0m\u001b[37m\u001b[0m \u001b[1m3s\u001b[0m 3ms/step - accuracy: 0.4119 - loss: 1.3682 - val_accuracy: 0.0563 - val_loss: 1.9627\n",
      "Epoch 204/300\n",
      "\u001b[1m1040/1040\u001b[0m \u001b[32m━━━━━━━━━━━━━━━━━━━━\u001b[0m\u001b[37m\u001b[0m \u001b[1m3s\u001b[0m 3ms/step - accuracy: 0.4210 - loss: 1.3649 - val_accuracy: 0.0667 - val_loss: 1.9162\n",
      "Epoch 205/300\n",
      "\u001b[1m1040/1040\u001b[0m \u001b[32m━━━━━━━━━━━━━━━━━━━━\u001b[0m\u001b[37m\u001b[0m \u001b[1m3s\u001b[0m 3ms/step - accuracy: 0.4327 - loss: 1.3432 - val_accuracy: 0.0577 - val_loss: 1.9747\n",
      "Epoch 206/300\n",
      "\u001b[1m1040/1040\u001b[0m \u001b[32m━━━━━━━━━━━━━━━━━━━━\u001b[0m\u001b[37m\u001b[0m \u001b[1m3s\u001b[0m 3ms/step - accuracy: 0.4329 - loss: 1.3556 - val_accuracy: 0.0635 - val_loss: 1.9012\n",
      "Epoch 207/300\n",
      "\u001b[1m1040/1040\u001b[0m \u001b[32m━━━━━━━━━━━━━━━━━━━━\u001b[0m\u001b[37m\u001b[0m \u001b[1m3s\u001b[0m 3ms/step - accuracy: 0.4216 - loss: 1.3677 - val_accuracy: 0.0869 - val_loss: 1.9145\n",
      "Epoch 208/300\n",
      "\u001b[1m1040/1040\u001b[0m \u001b[32m━━━━━━━━━━━━━━━━━━━━\u001b[0m\u001b[37m\u001b[0m \u001b[1m4s\u001b[0m 4ms/step - accuracy: 0.4313 - loss: 1.3496 - val_accuracy: 0.0685 - val_loss: 1.9430\n",
      "Epoch 209/300\n",
      "\u001b[1m1040/1040\u001b[0m \u001b[32m━━━━━━━━━━━━━━━━━━━━\u001b[0m\u001b[37m\u001b[0m \u001b[1m5s\u001b[0m 4ms/step - accuracy: 0.4218 - loss: 1.3570 - val_accuracy: 0.0642 - val_loss: 1.9468\n",
      "Epoch 210/300\n",
      "\u001b[1m1040/1040\u001b[0m \u001b[32m━━━━━━━━━━━━━━━━━━━━\u001b[0m\u001b[37m\u001b[0m \u001b[1m4s\u001b[0m 3ms/step - accuracy: 0.4400 - loss: 1.3532 - val_accuracy: 0.0689 - val_loss: 1.9266\n",
      "Epoch 211/300\n",
      "\u001b[1m1040/1040\u001b[0m \u001b[32m━━━━━━━━━━━━━━━━━━━━\u001b[0m\u001b[37m\u001b[0m \u001b[1m3s\u001b[0m 3ms/step - accuracy: 0.4245 - loss: 1.3487 - val_accuracy: 0.0675 - val_loss: 1.9351\n",
      "Epoch 212/300\n",
      "\u001b[1m1040/1040\u001b[0m \u001b[32m━━━━━━━━━━━━━━━━━━━━\u001b[0m\u001b[37m\u001b[0m \u001b[1m3s\u001b[0m 3ms/step - accuracy: 0.4256 - loss: 1.3567 - val_accuracy: 0.0938 - val_loss: 1.9193\n",
      "Epoch 213/300\n",
      "\u001b[1m1040/1040\u001b[0m \u001b[32m━━━━━━━━━━━━━━━━━━━━\u001b[0m\u001b[37m\u001b[0m \u001b[1m4s\u001b[0m 3ms/step - accuracy: 0.4458 - loss: 1.3384 - val_accuracy: 0.1061 - val_loss: 1.9222\n",
      "Epoch 214/300\n",
      "\u001b[1m1040/1040\u001b[0m \u001b[32m━━━━━━━━━━━━━━━━━━━━\u001b[0m\u001b[37m\u001b[0m \u001b[1m6s\u001b[0m 4ms/step - accuracy: 0.4351 - loss: 1.3466 - val_accuracy: 0.0895 - val_loss: 1.8761\n",
      "Epoch 215/300\n",
      "\u001b[1m1040/1040\u001b[0m \u001b[32m━━━━━━━━━━━━━━━━━━━━\u001b[0m\u001b[37m\u001b[0m \u001b[1m3s\u001b[0m 3ms/step - accuracy: 0.4257 - loss: 1.3513 - val_accuracy: 0.0898 - val_loss: 1.9014\n",
      "Epoch 216/300\n",
      "\u001b[1m1040/1040\u001b[0m \u001b[32m━━━━━━━━━━━━━━━━━━━━\u001b[0m\u001b[37m\u001b[0m \u001b[1m3s\u001b[0m 3ms/step - accuracy: 0.4229 - loss: 1.3525 - val_accuracy: 0.0830 - val_loss: 1.9222\n",
      "Epoch 217/300\n",
      "\u001b[1m1040/1040\u001b[0m \u001b[32m━━━━━━━━━━━━━━━━━━━━\u001b[0m\u001b[37m\u001b[0m \u001b[1m3s\u001b[0m 3ms/step - accuracy: 0.4249 - loss: 1.3573 - val_accuracy: 0.0841 - val_loss: 1.8660\n",
      "Epoch 218/300\n",
      "\u001b[1m1040/1040\u001b[0m \u001b[32m━━━━━━━━━━━━━━━━━━━━\u001b[0m\u001b[37m\u001b[0m \u001b[1m3s\u001b[0m 3ms/step - accuracy: 0.4227 - loss: 1.3586 - val_accuracy: 0.0667 - val_loss: 1.9812\n",
      "Epoch 219/300\n",
      "\u001b[1m1040/1040\u001b[0m \u001b[32m━━━━━━━━━━━━━━━━━━━━\u001b[0m\u001b[37m\u001b[0m \u001b[1m3s\u001b[0m 3ms/step - accuracy: 0.4307 - loss: 1.3583 - val_accuracy: 0.0642 - val_loss: 1.9316\n",
      "Epoch 220/300\n",
      "\u001b[1m1040/1040\u001b[0m \u001b[32m━━━━━━━━━━━━━━━━━━━━\u001b[0m\u001b[37m\u001b[0m \u001b[1m3s\u001b[0m 3ms/step - accuracy: 0.4267 - loss: 1.3554 - val_accuracy: 0.0859 - val_loss: 1.8863\n",
      "Epoch 221/300\n",
      "\u001b[1m1040/1040\u001b[0m \u001b[32m━━━━━━━━━━━━━━━━━━━━\u001b[0m\u001b[37m\u001b[0m \u001b[1m3s\u001b[0m 3ms/step - accuracy: 0.4253 - loss: 1.3549 - val_accuracy: 0.0541 - val_loss: 2.0534\n",
      "Epoch 222/300\n",
      "\u001b[1m1040/1040\u001b[0m \u001b[32m━━━━━━━━━━━━━━━━━━━━\u001b[0m\u001b[37m\u001b[0m \u001b[1m3s\u001b[0m 3ms/step - accuracy: 0.4219 - loss: 1.3603 - val_accuracy: 0.0837 - val_loss: 1.9475\n",
      "Epoch 223/300\n",
      "\u001b[1m1040/1040\u001b[0m \u001b[32m━━━━━━━━━━━━━━━━━━━━\u001b[0m\u001b[37m\u001b[0m \u001b[1m3s\u001b[0m 3ms/step - accuracy: 0.4321 - loss: 1.3543 - val_accuracy: 0.0722 - val_loss: 1.9433\n",
      "Epoch 224/300\n",
      "\u001b[1m1040/1040\u001b[0m \u001b[32m━━━━━━━━━━━━━━━━━━━━\u001b[0m\u001b[37m\u001b[0m \u001b[1m3s\u001b[0m 3ms/step - accuracy: 0.4344 - loss: 1.3420 - val_accuracy: 0.0949 - val_loss: 1.9461\n",
      "Epoch 225/300\n",
      "\u001b[1m1040/1040\u001b[0m \u001b[32m━━━━━━━━━━━━━━━━━━━━\u001b[0m\u001b[37m\u001b[0m \u001b[1m3s\u001b[0m 3ms/step - accuracy: 0.4272 - loss: 1.3505 - val_accuracy: 0.0631 - val_loss: 1.9448\n",
      "Epoch 226/300\n",
      "\u001b[1m1040/1040\u001b[0m \u001b[32m━━━━━━━━━━━━━━━━━━━━\u001b[0m\u001b[37m\u001b[0m \u001b[1m3s\u001b[0m 3ms/step - accuracy: 0.4227 - loss: 1.3577 - val_accuracy: 0.0999 - val_loss: 1.9117\n",
      "Epoch 227/300\n",
      "\u001b[1m1040/1040\u001b[0m \u001b[32m━━━━━━━━━━━━━━━━━━━━\u001b[0m\u001b[37m\u001b[0m \u001b[1m3s\u001b[0m 3ms/step - accuracy: 0.4246 - loss: 1.3528 - val_accuracy: 0.0880 - val_loss: 1.9240\n",
      "Epoch 228/300\n",
      "\u001b[1m1040/1040\u001b[0m \u001b[32m━━━━━━━━━━━━━━━━━━━━\u001b[0m\u001b[37m\u001b[0m \u001b[1m3s\u001b[0m 3ms/step - accuracy: 0.4161 - loss: 1.3581 - val_accuracy: 0.0678 - val_loss: 1.9802\n",
      "Epoch 229/300\n",
      "\u001b[1m1040/1040\u001b[0m \u001b[32m━━━━━━━━━━━━━━━━━━━━\u001b[0m\u001b[37m\u001b[0m \u001b[1m3s\u001b[0m 3ms/step - accuracy: 0.4250 - loss: 1.3579 - val_accuracy: 0.0999 - val_loss: 1.9008\n",
      "Epoch 230/300\n",
      "\u001b[1m1040/1040\u001b[0m \u001b[32m━━━━━━━━━━━━━━━━━━━━\u001b[0m\u001b[37m\u001b[0m \u001b[1m3s\u001b[0m 3ms/step - accuracy: 0.4316 - loss: 1.3496 - val_accuracy: 0.0559 - val_loss: 1.9416\n",
      "Epoch 231/300\n",
      "\u001b[1m1040/1040\u001b[0m \u001b[32m━━━━━━━━━━━━━━━━━━━━\u001b[0m\u001b[37m\u001b[0m \u001b[1m3s\u001b[0m 3ms/step - accuracy: 0.4346 - loss: 1.3473 - val_accuracy: 0.0610 - val_loss: 1.9941\n",
      "Epoch 232/300\n",
      "\u001b[1m1040/1040\u001b[0m \u001b[32m━━━━━━━━━━━━━━━━━━━━\u001b[0m\u001b[37m\u001b[0m \u001b[1m3s\u001b[0m 3ms/step - accuracy: 0.4297 - loss: 1.3448 - val_accuracy: 0.0722 - val_loss: 1.9114\n",
      "Epoch 233/300\n",
      "\u001b[1m1040/1040\u001b[0m \u001b[32m━━━━━━━━━━━━━━━━━━━━\u001b[0m\u001b[37m\u001b[0m \u001b[1m3s\u001b[0m 3ms/step - accuracy: 0.4336 - loss: 1.3451 - val_accuracy: 0.0869 - val_loss: 1.9197\n",
      "Epoch 234/300\n",
      "\u001b[1m1040/1040\u001b[0m \u001b[32m━━━━━━━━━━━━━━━━━━━━\u001b[0m\u001b[37m\u001b[0m \u001b[1m4s\u001b[0m 4ms/step - accuracy: 0.4339 - loss: 1.3421 - val_accuracy: 0.0689 - val_loss: 1.9423\n",
      "Epoch 235/300\n",
      "\u001b[1m1040/1040\u001b[0m \u001b[32m━━━━━━━━━━━━━━━━━━━━\u001b[0m\u001b[37m\u001b[0m \u001b[1m4s\u001b[0m 4ms/step - accuracy: 0.4280 - loss: 1.3531 - val_accuracy: 0.0707 - val_loss: 1.9445\n",
      "Epoch 236/300\n",
      "\u001b[1m1040/1040\u001b[0m \u001b[32m━━━━━━━━━━━━━━━━━━━━\u001b[0m\u001b[37m\u001b[0m \u001b[1m4s\u001b[0m 4ms/step - accuracy: 0.4423 - loss: 1.3370 - val_accuracy: 0.0736 - val_loss: 1.9457\n",
      "Epoch 237/300\n",
      "\u001b[1m1040/1040\u001b[0m \u001b[32m━━━━━━━━━━━━━━━━━━━━\u001b[0m\u001b[37m\u001b[0m \u001b[1m6s\u001b[0m 5ms/step - accuracy: 0.4331 - loss: 1.3431 - val_accuracy: 0.0599 - val_loss: 1.9348\n",
      "Epoch 238/300\n",
      "\u001b[1m1040/1040\u001b[0m \u001b[32m━━━━━━━━━━━━━━━━━━━━\u001b[0m\u001b[37m\u001b[0m \u001b[1m4s\u001b[0m 4ms/step - accuracy: 0.4340 - loss: 1.3400 - val_accuracy: 0.0747 - val_loss: 1.9117\n",
      "Epoch 239/300\n",
      "\u001b[1m1040/1040\u001b[0m \u001b[32m━━━━━━━━━━━━━━━━━━━━\u001b[0m\u001b[37m\u001b[0m \u001b[1m3s\u001b[0m 3ms/step - accuracy: 0.4165 - loss: 1.3619 - val_accuracy: 0.0707 - val_loss: 1.9556\n",
      "Epoch 240/300\n",
      "\u001b[1m1040/1040\u001b[0m \u001b[32m━━━━━━━━━━━━━━━━━━━━\u001b[0m\u001b[37m\u001b[0m \u001b[1m4s\u001b[0m 4ms/step - accuracy: 0.4331 - loss: 1.3454 - val_accuracy: 0.0617 - val_loss: 1.9917\n",
      "Epoch 241/300\n",
      "\u001b[1m1040/1040\u001b[0m \u001b[32m━━━━━━━━━━━━━━━━━━━━\u001b[0m\u001b[37m\u001b[0m \u001b[1m3s\u001b[0m 3ms/step - accuracy: 0.4257 - loss: 1.3595 - val_accuracy: 0.0563 - val_loss: 2.0002\n",
      "Epoch 242/300\n",
      "\u001b[1m1040/1040\u001b[0m \u001b[32m━━━━━━━━━━━━━━━━━━━━\u001b[0m\u001b[37m\u001b[0m \u001b[1m3s\u001b[0m 3ms/step - accuracy: 0.4242 - loss: 1.3443 - val_accuracy: 0.0617 - val_loss: 1.9636\n",
      "Epoch 243/300\n",
      "\u001b[1m1040/1040\u001b[0m \u001b[32m━━━━━━━━━━━━━━━━━━━━\u001b[0m\u001b[37m\u001b[0m \u001b[1m3s\u001b[0m 3ms/step - accuracy: 0.4286 - loss: 1.3516 - val_accuracy: 0.0869 - val_loss: 1.9403\n",
      "Epoch 244/300\n",
      "\u001b[1m1040/1040\u001b[0m \u001b[32m━━━━━━━━━━━━━━━━━━━━\u001b[0m\u001b[37m\u001b[0m \u001b[1m3s\u001b[0m 3ms/step - accuracy: 0.4281 - loss: 1.3480 - val_accuracy: 0.0592 - val_loss: 1.9446\n",
      "Epoch 245/300\n",
      "\u001b[1m1040/1040\u001b[0m \u001b[32m━━━━━━━━━━━━━━━━━━━━\u001b[0m\u001b[37m\u001b[0m \u001b[1m6s\u001b[0m 3ms/step - accuracy: 0.4253 - loss: 1.3485 - val_accuracy: 0.0707 - val_loss: 1.9922\n",
      "Epoch 246/300\n",
      "\u001b[1m1040/1040\u001b[0m \u001b[32m━━━━━━━━━━━━━━━━━━━━\u001b[0m\u001b[37m\u001b[0m \u001b[1m3s\u001b[0m 3ms/step - accuracy: 0.4315 - loss: 1.3504 - val_accuracy: 0.0862 - val_loss: 1.9361\n",
      "Epoch 247/300\n",
      "\u001b[1m1040/1040\u001b[0m \u001b[32m━━━━━━━━━━━━━━━━━━━━\u001b[0m\u001b[37m\u001b[0m \u001b[1m3s\u001b[0m 3ms/step - accuracy: 0.4421 - loss: 1.3350 - val_accuracy: 0.0841 - val_loss: 1.8918\n",
      "Epoch 248/300\n",
      "\u001b[1m1040/1040\u001b[0m \u001b[32m━━━━━━━━━━━━━━━━━━━━\u001b[0m\u001b[37m\u001b[0m \u001b[1m3s\u001b[0m 2ms/step - accuracy: 0.4287 - loss: 1.3483 - val_accuracy: 0.0786 - val_loss: 1.9490\n",
      "Epoch 249/300\n",
      "\u001b[1m1040/1040\u001b[0m \u001b[32m━━━━━━━━━━━━━━━━━━━━\u001b[0m\u001b[37m\u001b[0m \u001b[1m3s\u001b[0m 2ms/step - accuracy: 0.4344 - loss: 1.3515 - val_accuracy: 0.0855 - val_loss: 1.9179\n",
      "Epoch 250/300\n",
      "\u001b[1m1040/1040\u001b[0m \u001b[32m━━━━━━━━━━━━━━━━━━━━\u001b[0m\u001b[37m\u001b[0m \u001b[1m3s\u001b[0m 2ms/step - accuracy: 0.4265 - loss: 1.3473 - val_accuracy: 0.0732 - val_loss: 1.9946\n",
      "Epoch 251/300\n",
      "\u001b[1m1040/1040\u001b[0m \u001b[32m━━━━━━━━━━━━━━━━━━━━\u001b[0m\u001b[37m\u001b[0m \u001b[1m3s\u001b[0m 2ms/step - accuracy: 0.4272 - loss: 1.3533 - val_accuracy: 0.0552 - val_loss: 2.0341\n",
      "Epoch 252/300\n",
      "\u001b[1m1040/1040\u001b[0m \u001b[32m━━━━━━━━━━━━━━━━━━━━\u001b[0m\u001b[37m\u001b[0m \u001b[1m3s\u001b[0m 2ms/step - accuracy: 0.4396 - loss: 1.3404 - val_accuracy: 0.0902 - val_loss: 1.9315\n",
      "Epoch 253/300\n",
      "\u001b[1m1040/1040\u001b[0m \u001b[32m━━━━━━━━━━━━━━━━━━━━\u001b[0m\u001b[37m\u001b[0m \u001b[1m2s\u001b[0m 2ms/step - accuracy: 0.4278 - loss: 1.3504 - val_accuracy: 0.0696 - val_loss: 1.9386\n",
      "Epoch 254/300\n",
      "\u001b[1m1040/1040\u001b[0m \u001b[32m━━━━━━━━━━━━━━━━━━━━\u001b[0m\u001b[37m\u001b[0m \u001b[1m3s\u001b[0m 2ms/step - accuracy: 0.4270 - loss: 1.3485 - val_accuracy: 0.0718 - val_loss: 1.9290\n",
      "Epoch 255/300\n",
      "\u001b[1m1040/1040\u001b[0m \u001b[32m━━━━━━━━━━━━━━━━━━━━\u001b[0m\u001b[37m\u001b[0m \u001b[1m3s\u001b[0m 2ms/step - accuracy: 0.4344 - loss: 1.3365 - val_accuracy: 0.0790 - val_loss: 1.9329\n",
      "Epoch 256/300\n",
      "\u001b[1m1040/1040\u001b[0m \u001b[32m━━━━━━━━━━━━━━━━━━━━\u001b[0m\u001b[37m\u001b[0m \u001b[1m3s\u001b[0m 2ms/step - accuracy: 0.4372 - loss: 1.3334 - val_accuracy: 0.0678 - val_loss: 1.9987\n",
      "Epoch 257/300\n",
      "\u001b[1m1040/1040\u001b[0m \u001b[32m━━━━━━━━━━━━━━━━━━━━\u001b[0m\u001b[37m\u001b[0m \u001b[1m3s\u001b[0m 2ms/step - accuracy: 0.4317 - loss: 1.3451 - val_accuracy: 0.0862 - val_loss: 1.9044\n",
      "Epoch 258/300\n",
      "\u001b[1m1040/1040\u001b[0m \u001b[32m━━━━━━━━━━━━━━━━━━━━\u001b[0m\u001b[37m\u001b[0m \u001b[1m2s\u001b[0m 2ms/step - accuracy: 0.4325 - loss: 1.3443 - val_accuracy: 0.0841 - val_loss: 1.9703\n",
      "Epoch 259/300\n",
      "\u001b[1m1040/1040\u001b[0m \u001b[32m━━━━━━━━━━━━━━━━━━━━\u001b[0m\u001b[37m\u001b[0m \u001b[1m3s\u001b[0m 3ms/step - accuracy: 0.4331 - loss: 1.3462 - val_accuracy: 0.0877 - val_loss: 1.9056\n",
      "Epoch 260/300\n",
      "\u001b[1m1040/1040\u001b[0m \u001b[32m━━━━━━━━━━━━━━━━━━━━\u001b[0m\u001b[37m\u001b[0m \u001b[1m3s\u001b[0m 3ms/step - accuracy: 0.4385 - loss: 1.3464 - val_accuracy: 0.0765 - val_loss: 1.8922\n",
      "Epoch 261/300\n",
      "\u001b[1m1040/1040\u001b[0m \u001b[32m━━━━━━━━━━━━━━━━━━━━\u001b[0m\u001b[37m\u001b[0m \u001b[1m3s\u001b[0m 3ms/step - accuracy: 0.4380 - loss: 1.3391 - val_accuracy: 0.0671 - val_loss: 1.9523\n",
      "Epoch 262/300\n",
      "\u001b[1m1040/1040\u001b[0m \u001b[32m━━━━━━━━━━━━━━━━━━━━\u001b[0m\u001b[37m\u001b[0m \u001b[1m3s\u001b[0m 3ms/step - accuracy: 0.4374 - loss: 1.3335 - val_accuracy: 0.0653 - val_loss: 1.9846\n",
      "Epoch 263/300\n",
      "\u001b[1m1040/1040\u001b[0m \u001b[32m━━━━━━━━━━━━━━━━━━━━\u001b[0m\u001b[37m\u001b[0m \u001b[1m3s\u001b[0m 2ms/step - accuracy: 0.4320 - loss: 1.3446 - val_accuracy: 0.0606 - val_loss: 1.9841\n",
      "Epoch 264/300\n",
      "\u001b[1m1040/1040\u001b[0m \u001b[32m━━━━━━━━━━━━━━━━━━━━\u001b[0m\u001b[37m\u001b[0m \u001b[1m3s\u001b[0m 3ms/step - accuracy: 0.4380 - loss: 1.3346 - val_accuracy: 0.0541 - val_loss: 1.9743\n",
      "Epoch 265/300\n",
      "\u001b[1m1040/1040\u001b[0m \u001b[32m━━━━━━━━━━━━━━━━━━━━\u001b[0m\u001b[37m\u001b[0m \u001b[1m4s\u001b[0m 4ms/step - accuracy: 0.4409 - loss: 1.3278 - val_accuracy: 0.0884 - val_loss: 1.9087\n",
      "Epoch 266/300\n",
      "\u001b[1m1040/1040\u001b[0m \u001b[32m━━━━━━━━━━━━━━━━━━━━\u001b[0m\u001b[37m\u001b[0m \u001b[1m4s\u001b[0m 4ms/step - accuracy: 0.4348 - loss: 1.3356 - val_accuracy: 0.0465 - val_loss: 2.0085\n",
      "Epoch 267/300\n",
      "\u001b[1m1040/1040\u001b[0m \u001b[32m━━━━━━━━━━━━━━━━━━━━\u001b[0m\u001b[37m\u001b[0m \u001b[1m4s\u001b[0m 4ms/step - accuracy: 0.4331 - loss: 1.3435 - val_accuracy: 0.0664 - val_loss: 1.9746\n",
      "Epoch 268/300\n",
      "\u001b[1m1040/1040\u001b[0m \u001b[32m━━━━━━━━━━━━━━━━━━━━\u001b[0m\u001b[37m\u001b[0m \u001b[1m3s\u001b[0m 3ms/step - accuracy: 0.4460 - loss: 1.3353 - val_accuracy: 0.0862 - val_loss: 1.9041\n",
      "Epoch 269/300\n",
      "\u001b[1m1040/1040\u001b[0m \u001b[32m━━━━━━━━━━━━━━━━━━━━\u001b[0m\u001b[37m\u001b[0m \u001b[1m4s\u001b[0m 4ms/step - accuracy: 0.4426 - loss: 1.3270 - val_accuracy: 0.0826 - val_loss: 1.9241\n",
      "Epoch 270/300\n",
      "\u001b[1m1040/1040\u001b[0m \u001b[32m━━━━━━━━━━━━━━━━━━━━\u001b[0m\u001b[37m\u001b[0m \u001b[1m3s\u001b[0m 3ms/step - accuracy: 0.4401 - loss: 1.3343 - val_accuracy: 0.0660 - val_loss: 1.9521\n",
      "Epoch 271/300\n",
      "\u001b[1m1040/1040\u001b[0m \u001b[32m━━━━━━━━━━━━━━━━━━━━\u001b[0m\u001b[37m\u001b[0m \u001b[1m3s\u001b[0m 3ms/step - accuracy: 0.4230 - loss: 1.3505 - val_accuracy: 0.0494 - val_loss: 2.0379\n",
      "Epoch 272/300\n",
      "\u001b[1m1040/1040\u001b[0m \u001b[32m━━━━━━━━━━━━━━━━━━━━\u001b[0m\u001b[37m\u001b[0m \u001b[1m3s\u001b[0m 3ms/step - accuracy: 0.4340 - loss: 1.3445 - val_accuracy: 0.0844 - val_loss: 1.9445\n",
      "Epoch 273/300\n",
      "\u001b[1m1040/1040\u001b[0m \u001b[32m━━━━━━━━━━━━━━━━━━━━\u001b[0m\u001b[37m\u001b[0m \u001b[1m3s\u001b[0m 3ms/step - accuracy: 0.4344 - loss: 1.3544 - val_accuracy: 0.0916 - val_loss: 1.9043\n",
      "Epoch 274/300\n",
      "\u001b[1m1040/1040\u001b[0m \u001b[32m━━━━━━━━━━━━━━━━━━━━\u001b[0m\u001b[37m\u001b[0m \u001b[1m3s\u001b[0m 2ms/step - accuracy: 0.4358 - loss: 1.3351 - val_accuracy: 0.0768 - val_loss: 1.9326\n",
      "Epoch 275/300\n",
      "\u001b[1m1040/1040\u001b[0m \u001b[32m━━━━━━━━━━━━━━━━━━━━\u001b[0m\u001b[37m\u001b[0m \u001b[1m3s\u001b[0m 2ms/step - accuracy: 0.4312 - loss: 1.3384 - val_accuracy: 0.0747 - val_loss: 1.9481\n",
      "Epoch 276/300\n",
      "\u001b[1m1040/1040\u001b[0m \u001b[32m━━━━━━━━━━━━━━━━━━━━\u001b[0m\u001b[37m\u001b[0m \u001b[1m3s\u001b[0m 2ms/step - accuracy: 0.4446 - loss: 1.3264 - val_accuracy: 0.0703 - val_loss: 1.9188\n",
      "Epoch 277/300\n",
      "\u001b[1m1040/1040\u001b[0m \u001b[32m━━━━━━━━━━━━━━━━━━━━\u001b[0m\u001b[37m\u001b[0m \u001b[1m3s\u001b[0m 2ms/step - accuracy: 0.4501 - loss: 1.3230 - val_accuracy: 0.0642 - val_loss: 1.9308\n",
      "Epoch 278/300\n",
      "\u001b[1m1040/1040\u001b[0m \u001b[32m━━━━━━━━━━━━━━━━━━━━\u001b[0m\u001b[37m\u001b[0m \u001b[1m2s\u001b[0m 2ms/step - accuracy: 0.4329 - loss: 1.3352 - val_accuracy: 0.0595 - val_loss: 1.9809\n",
      "Epoch 279/300\n",
      "\u001b[1m1040/1040\u001b[0m \u001b[32m━━━━━━━━━━━━━━━━━━━━\u001b[0m\u001b[37m\u001b[0m \u001b[1m2s\u001b[0m 2ms/step - accuracy: 0.4412 - loss: 1.3358 - val_accuracy: 0.0516 - val_loss: 1.9790\n",
      "Epoch 280/300\n",
      "\u001b[1m1040/1040\u001b[0m \u001b[32m━━━━━━━━━━━━━━━━━━━━\u001b[0m\u001b[37m\u001b[0m \u001b[1m3s\u001b[0m 2ms/step - accuracy: 0.4407 - loss: 1.3333 - val_accuracy: 0.0642 - val_loss: 1.9711\n",
      "Epoch 281/300\n",
      "\u001b[1m1040/1040\u001b[0m \u001b[32m━━━━━━━━━━━━━━━━━━━━\u001b[0m\u001b[37m\u001b[0m \u001b[1m3s\u001b[0m 2ms/step - accuracy: 0.4280 - loss: 1.3393 - val_accuracy: 0.0617 - val_loss: 1.9586\n",
      "Epoch 282/300\n",
      "\u001b[1m1040/1040\u001b[0m \u001b[32m━━━━━━━━━━━━━━━━━━━━\u001b[0m\u001b[37m\u001b[0m \u001b[1m3s\u001b[0m 3ms/step - accuracy: 0.4390 - loss: 1.3248 - val_accuracy: 0.0602 - val_loss: 1.9774\n",
      "Epoch 283/300\n",
      "\u001b[1m1040/1040\u001b[0m \u001b[32m━━━━━━━━━━━━━━━━━━━━\u001b[0m\u001b[37m\u001b[0m \u001b[1m3s\u001b[0m 2ms/step - accuracy: 0.4438 - loss: 1.3343 - val_accuracy: 0.0498 - val_loss: 1.9343\n",
      "Epoch 284/300\n",
      "\u001b[1m1040/1040\u001b[0m \u001b[32m━━━━━━━━━━━━━━━━━━━━\u001b[0m\u001b[37m\u001b[0m \u001b[1m3s\u001b[0m 2ms/step - accuracy: 0.4474 - loss: 1.3250 - val_accuracy: 0.0617 - val_loss: 1.9307\n",
      "Epoch 285/300\n",
      "\u001b[1m1040/1040\u001b[0m \u001b[32m━━━━━━━━━━━━━━━━━━━━\u001b[0m\u001b[37m\u001b[0m \u001b[1m2s\u001b[0m 2ms/step - accuracy: 0.4382 - loss: 1.3338 - val_accuracy: 0.0617 - val_loss: 1.9062\n",
      "Epoch 286/300\n",
      "\u001b[1m1040/1040\u001b[0m \u001b[32m━━━━━━━━━━━━━━━━━━━━\u001b[0m\u001b[37m\u001b[0m \u001b[1m3s\u001b[0m 2ms/step - accuracy: 0.4358 - loss: 1.3280 - val_accuracy: 0.0635 - val_loss: 2.0018\n",
      "Epoch 287/300\n",
      "\u001b[1m1040/1040\u001b[0m \u001b[32m━━━━━━━━━━━━━━━━━━━━\u001b[0m\u001b[37m\u001b[0m \u001b[1m3s\u001b[0m 2ms/step - accuracy: 0.4355 - loss: 1.3399 - val_accuracy: 0.0819 - val_loss: 1.9305\n",
      "Epoch 288/300\n",
      "\u001b[1m1040/1040\u001b[0m \u001b[32m━━━━━━━━━━━━━━━━━━━━\u001b[0m\u001b[37m\u001b[0m \u001b[1m3s\u001b[0m 2ms/step - accuracy: 0.4390 - loss: 1.3284 - val_accuracy: 0.0772 - val_loss: 1.9165\n",
      "Epoch 289/300\n",
      "\u001b[1m1040/1040\u001b[0m \u001b[32m━━━━━━━━━━━━━━━━━━━━\u001b[0m\u001b[37m\u001b[0m \u001b[1m3s\u001b[0m 2ms/step - accuracy: 0.4475 - loss: 1.3117 - val_accuracy: 0.0689 - val_loss: 1.9327\n",
      "Epoch 290/300\n",
      "\u001b[1m1040/1040\u001b[0m \u001b[32m━━━━━━━━━━━━━━━━━━━━\u001b[0m\u001b[37m\u001b[0m \u001b[1m2s\u001b[0m 2ms/step - accuracy: 0.4412 - loss: 1.3353 - val_accuracy: 0.0714 - val_loss: 1.9917\n",
      "Epoch 291/300\n",
      "\u001b[1m1040/1040\u001b[0m \u001b[32m━━━━━━━━━━━━━━━━━━━━\u001b[0m\u001b[37m\u001b[0m \u001b[1m3s\u001b[0m 2ms/step - accuracy: 0.4433 - loss: 1.3218 - val_accuracy: 0.1082 - val_loss: 1.8731\n",
      "Epoch 292/300\n",
      "\u001b[1m1040/1040\u001b[0m \u001b[32m━━━━━━━━━━━━━━━━━━━━\u001b[0m\u001b[37m\u001b[0m \u001b[1m3s\u001b[0m 2ms/step - accuracy: 0.4388 - loss: 1.3308 - val_accuracy: 0.0823 - val_loss: 1.9232\n",
      "Epoch 293/300\n",
      "\u001b[1m1040/1040\u001b[0m \u001b[32m━━━━━━━━━━━━━━━━━━━━\u001b[0m\u001b[37m\u001b[0m \u001b[1m3s\u001b[0m 2ms/step - accuracy: 0.4392 - loss: 1.3397 - val_accuracy: 0.1053 - val_loss: 1.9181\n",
      "Epoch 294/300\n",
      "\u001b[1m1040/1040\u001b[0m \u001b[32m━━━━━━━━━━━━━━━━━━━━\u001b[0m\u001b[37m\u001b[0m \u001b[1m3s\u001b[0m 2ms/step - accuracy: 0.4404 - loss: 1.3336 - val_accuracy: 0.0639 - val_loss: 1.9362\n",
      "Epoch 295/300\n",
      "\u001b[1m1040/1040\u001b[0m \u001b[32m━━━━━━━━━━━━━━━━━━━━\u001b[0m\u001b[37m\u001b[0m \u001b[1m3s\u001b[0m 2ms/step - accuracy: 0.4432 - loss: 1.3320 - val_accuracy: 0.0671 - val_loss: 1.9374\n",
      "Epoch 296/300\n",
      "\u001b[1m1040/1040\u001b[0m \u001b[32m━━━━━━━━━━━━━━━━━━━━\u001b[0m\u001b[37m\u001b[0m \u001b[1m2s\u001b[0m 2ms/step - accuracy: 0.4344 - loss: 1.3430 - val_accuracy: 0.0999 - val_loss: 1.8968\n",
      "Epoch 297/300\n",
      "\u001b[1m1040/1040\u001b[0m \u001b[32m━━━━━━━━━━━━━━━━━━━━\u001b[0m\u001b[37m\u001b[0m \u001b[1m2s\u001b[0m 2ms/step - accuracy: 0.4431 - loss: 1.3231 - val_accuracy: 0.0841 - val_loss: 1.9263\n",
      "Epoch 298/300\n",
      "\u001b[1m1040/1040\u001b[0m \u001b[32m━━━━━━━━━━━━━━━━━━━━\u001b[0m\u001b[37m\u001b[0m \u001b[1m3s\u001b[0m 2ms/step - accuracy: 0.4410 - loss: 1.3297 - val_accuracy: 0.0869 - val_loss: 1.9234\n",
      "Epoch 299/300\n",
      "\u001b[1m1040/1040\u001b[0m \u001b[32m━━━━━━━━━━━━━━━━━━━━\u001b[0m\u001b[37m\u001b[0m \u001b[1m3s\u001b[0m 2ms/step - accuracy: 0.4403 - loss: 1.3272 - val_accuracy: 0.0779 - val_loss: 1.9243\n",
      "Epoch 300/300\n",
      "\u001b[1m1040/1040\u001b[0m \u001b[32m━━━━━━━━━━━━━━━━━━━━\u001b[0m\u001b[37m\u001b[0m \u001b[1m3s\u001b[0m 2ms/step - accuracy: 0.4316 - loss: 1.3375 - val_accuracy: 0.0934 - val_loss: 1.8927\n",
      "\u001b[1m87/87\u001b[0m \u001b[32m━━━━━━━━━━━━━━━━━━━━\u001b[0m\u001b[37m\u001b[0m \u001b[1m0s\u001b[0m 2ms/step - accuracy: 0.0932 - loss: 1.6703\n",
      "Accuracy on validation dataset = 0.09343434125185013\n"
     ]
    }
   ],
   "source": [
    "filepath = \"weights.hdf5.keras\"\n",
    "checkpointer = ModelCheckpoint(filepath=filepath, verbose=False, save_best_only=True)\n",
    "hist = m1.fit(X_train, y_train,\n",
    "               validation_data=(X_val, y_val),\n",
    "               batch_size = 8,\n",
    "                epochs=300, \n",
    "                verbose = 1, \n",
    "                callbacks=[checkpointer])\n",
    "\n",
    "loss, accuracy = m1.evaluate(X_val, y_val)\n",
    "print(f\"Accuracy on validation dataset = {accuracy}\")"
   ]
  },
  {
   "cell_type": "code",
   "execution_count": 13,
   "id": "3247cd0b",
   "metadata": {},
   "outputs": [
    {
     "name": "stderr",
     "output_type": "stream",
     "text": [
      "WARNING:absl:You are saving your model as an HDF5 file via `model.save()` or `keras.saving.save_model(model)`. This file format is considered legacy. We recommend using instead the native Keras format, e.g. `model.save('my_model.keras')` or `keras.saving.save_model(model, 'my_model.keras')`. \n"
     ]
    }
   ],
   "source": [
    "m1.save(\"fully_connected_3.h5\")"
   ]
  },
  {
   "cell_type": "code",
   "execution_count": 14,
   "id": "b886696b",
   "metadata": {},
   "outputs": [],
   "source": [
    "m1.save(\"fc3.keras\")"
   ]
  },
  {
   "cell_type": "markdown",
   "id": "e649a85a",
   "metadata": {},
   "source": [
    "# Confusion matrix"
   ]
  },
  {
   "cell_type": "code",
   "execution_count": 15,
   "id": "3656a720",
   "metadata": {},
   "outputs": [
    {
     "name": "stdout",
     "output_type": "stream",
     "text": [
      "\u001b[1m87/87\u001b[0m \u001b[32m━━━━━━━━━━━━━━━━━━━━\u001b[0m\u001b[37m\u001b[0m \u001b[1m0s\u001b[0m 3ms/step - accuracy: 0.3823 - loss: 1.4503\n",
      "Accuracy on test dataset = 0.392\n"
     ]
    }
   ],
   "source": [
    "loss, accuracy = m1.evaluate(X_test, y_test)\n",
    "print(f\"Accuracy on test dataset = {accuracy:.3f}\")"
   ]
  },
  {
   "cell_type": "code",
   "execution_count": 16,
   "id": "f15efdb4",
   "metadata": {},
   "outputs": [
    {
     "name": "stdout",
     "output_type": "stream",
     "text": [
      "\u001b[1m87/87\u001b[0m \u001b[32m━━━━━━━━━━━━━━━━━━━━\u001b[0m\u001b[37m\u001b[0m \u001b[1m0s\u001b[0m 4ms/step\n"
     ]
    }
   ],
   "source": [
    "preds = m1.predict(X_test)\n",
    "test_predictions = np.argmax(preds, axis=1)"
   ]
  },
  {
   "cell_type": "code",
   "execution_count": 17,
   "id": "57fae9bd",
   "metadata": {},
   "outputs": [
    {
     "data": {
      "image/png": "[encoded data removed]",
      "text/plain": [
       "<Figure size 2000x2000 with 2 Axes>"
      ]
     },
     "metadata": {},
     "output_type": "display_data"
    }
   ],
   "source": [
    "# Plot the confusion matrix\n",
    "%matplotlib inline\n",
    "\n",
    "cm = confusion_matrix(y_true=np.argmax(y_test, axis=1), y_pred=test_predictions)\n",
    "\n",
    "df_cm = pd.DataFrame(\n",
    "    cm, index=le.classes_, columns=le.classes_\n",
    ")\n",
    "plt.figure(figsize=(20, 20))\n",
    "sn.heatmap(df_cm, annot=True, cmap='Blues', fmt='.4g')\n",
    "plt.xlabel('Predicted Label', fontsize=20)\n",
    "plt.ylabel('True Label', fontsize=20)\n",
    "plt.show()"
   ]
  }
 ],
 "metadata": {
  "kernelspec": {
   "display_name": "myenv",
   "language": "python",
   "name": "python3"
  },
  "language_info": {
   "codemirror_mode": {
    "name": "ipython",
    "version": 3
   },
   "file_extension": ".py",
   "mimetype": "text/x-python",
   "name": "python",
   "nbconvert_exporter": "python",
   "pygments_lexer": "ipython3",
   "version": "3.11.9"
  }
 },
 "nbformat": 4,
 "nbformat_minor": 5
}
